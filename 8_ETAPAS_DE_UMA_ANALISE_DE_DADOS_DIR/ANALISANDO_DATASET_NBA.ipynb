{
 "cells": [
  {
   "cell_type": "markdown",
   "metadata": {},
   "source": [
    "### Contextualizando algumas técnicas, melhores práticas e etapas de uma análise de dados"
   ]
  },
  {
   "cell_type": "markdown",
   "metadata": {},
   "source": [
    "### Entendimento do Negócio e/ou Problema a ser resolvido\n",
    "\n",
    "Análises no ambiente corporativo tem uma forte influência por demandas e necessidades de negócio, no qual os profissionais de dados precisam explorar e navegar sobre os dados para traduzir conhecimentos, insights e dimensões que ajudem na tomada de decisão, maturidade organizacional e direcionamento das priorizações."
   ]
  },
  {
   "cell_type": "markdown",
   "metadata": {},
   "source": [
    "### Dados Estruturados\n",
    "\n",
    "Os dados estruturados são aqueles que possuem estruturas bem definidas, não flexiveis, no qual os dados devem ser armazenados ou detalhados. Essa estrutura é pré definida com o foco em descrever e definir um assunto de negócio, entidade ou objeto que formem a base informacional de uma área, projeto ou mesmo á nivel organizacional"
   ]
  },
  {
   "cell_type": "code",
   "execution_count": 1,
   "metadata": {
    "ExecuteTime": {
     "end_time": "2020-06-18T12:29:05.623012Z",
     "start_time": "2020-06-18T12:28:53.762345Z"
    }
   },
   "outputs": [],
   "source": [
    "#IMPORTAÇÕES DE BIBLIOTECAS\n",
    "\n",
    "import pandas as pd\n",
    "import numpy as np\n",
    "import matplotlib.pyplot as plt\n",
    "from datetime import datetime\n",
    "from datetime import timedelta \n",
    "\n",
    "pd.options.display.max_columns = None\n",
    "pd.set_option('display.min_rows',100)"
   ]
  },
  {
   "cell_type": "code",
   "execution_count": 2,
   "metadata": {},
   "outputs": [],
   "source": [
    "diretorio = \"C:\\\\Users\\\\Admin\\\\OneDrive\\\\DATASETS\\\\\""
   ]
  },
  {
   "cell_type": "markdown",
   "metadata": {},
   "source": [
    "## Carregando arquivo CSV para um Dataframe Pandas"
   ]
  },
  {
   "cell_type": "code",
   "execution_count": 3,
   "metadata": {},
   "outputs": [],
   "source": [
    "#Cargas de databases \n",
    "df_nba = pd.read_csv(diretorio + '\\\\nba.csv', delimiter=\",\", encoding=\"utf-8\")"
   ]
  },
  {
   "cell_type": "markdown",
   "metadata": {},
   "source": [
    "### Explorando as propriedades do Dataframe"
   ]
  },
  {
   "cell_type": "code",
   "execution_count": 4,
   "metadata": {},
   "outputs": [
    {
     "data": {
      "text/plain": [
       "Index(['Name', 'Team', 'Number', 'Position', 'Age', 'Height', 'Weight',\n",
       "       'College', 'Salary'],\n",
       "      dtype='object')"
      ]
     },
     "execution_count": 4,
     "metadata": {},
     "output_type": "execute_result"
    }
   ],
   "source": [
    "df_nba.columns"
   ]
  },
  {
   "cell_type": "code",
   "execution_count": 5,
   "metadata": {},
   "outputs": [
    {
     "data": {
      "text/plain": [
       "(458, 9)"
      ]
     },
     "execution_count": 5,
     "metadata": {},
     "output_type": "execute_result"
    }
   ],
   "source": [
    "df_nba.shape"
   ]
  },
  {
   "cell_type": "code",
   "execution_count": 6,
   "metadata": {},
   "outputs": [
    {
     "name": "stdout",
     "output_type": "stream",
     "text": [
      "<class 'pandas.core.frame.DataFrame'>\n",
      "RangeIndex: 458 entries, 0 to 457\n",
      "Data columns (total 9 columns):\n",
      " #   Column    Non-Null Count  Dtype  \n",
      "---  ------    --------------  -----  \n",
      " 0   Name      457 non-null    object \n",
      " 1   Team      457 non-null    object \n",
      " 2   Number    457 non-null    float64\n",
      " 3   Position  457 non-null    object \n",
      " 4   Age       457 non-null    float64\n",
      " 5   Height    457 non-null    object \n",
      " 6   Weight    457 non-null    float64\n",
      " 7   College   373 non-null    object \n",
      " 8   Salary    446 non-null    float64\n",
      "dtypes: float64(4), object(5)\n",
      "memory usage: 32.3+ KB\n"
     ]
    }
   ],
   "source": [
    "df_nba.info()"
   ]
  },
  {
   "cell_type": "code",
   "execution_count": 7,
   "metadata": {},
   "outputs": [
    {
     "data": {
      "text/html": [
       "<div>\n",
       "<style scoped>\n",
       "    .dataframe tbody tr th:only-of-type {\n",
       "        vertical-align: middle;\n",
       "    }\n",
       "\n",
       "    .dataframe tbody tr th {\n",
       "        vertical-align: top;\n",
       "    }\n",
       "\n",
       "    .dataframe thead th {\n",
       "        text-align: right;\n",
       "    }\n",
       "</style>\n",
       "<table border=\"1\" class=\"dataframe\">\n",
       "  <thead>\n",
       "    <tr style=\"text-align: right;\">\n",
       "      <th></th>\n",
       "      <th>Number</th>\n",
       "      <th>Age</th>\n",
       "      <th>Weight</th>\n",
       "      <th>Salary</th>\n",
       "    </tr>\n",
       "  </thead>\n",
       "  <tbody>\n",
       "    <tr>\n",
       "      <th>Number</th>\n",
       "      <td>1.000000</td>\n",
       "      <td>0.028724</td>\n",
       "      <td>0.206921</td>\n",
       "      <td>-0.112386</td>\n",
       "    </tr>\n",
       "    <tr>\n",
       "      <th>Age</th>\n",
       "      <td>0.028724</td>\n",
       "      <td>1.000000</td>\n",
       "      <td>0.087183</td>\n",
       "      <td>0.213459</td>\n",
       "    </tr>\n",
       "    <tr>\n",
       "      <th>Weight</th>\n",
       "      <td>0.206921</td>\n",
       "      <td>0.087183</td>\n",
       "      <td>1.000000</td>\n",
       "      <td>0.138321</td>\n",
       "    </tr>\n",
       "    <tr>\n",
       "      <th>Salary</th>\n",
       "      <td>-0.112386</td>\n",
       "      <td>0.213459</td>\n",
       "      <td>0.138321</td>\n",
       "      <td>1.000000</td>\n",
       "    </tr>\n",
       "  </tbody>\n",
       "</table>\n",
       "</div>"
      ],
      "text/plain": [
       "          Number       Age    Weight    Salary\n",
       "Number  1.000000  0.028724  0.206921 -0.112386\n",
       "Age     0.028724  1.000000  0.087183  0.213459\n",
       "Weight  0.206921  0.087183  1.000000  0.138321\n",
       "Salary -0.112386  0.213459  0.138321  1.000000"
      ]
     },
     "execution_count": 7,
     "metadata": {},
     "output_type": "execute_result"
    }
   ],
   "source": [
    "df_nba.corr()"
   ]
  },
  {
   "cell_type": "markdown",
   "metadata": {},
   "source": [
    "### Qualidade e Sanitização de Dados"
   ]
  },
  {
   "cell_type": "code",
   "execution_count": 12,
   "metadata": {},
   "outputs": [
    {
     "data": {
      "text/plain": [
       "array(['Avery Bradley', 'Jae Crowder', 'John Holland', 'R.J. Hunter',\n",
       "       'Jonas Jerebko', 'Amir Johnson', 'Jordan Mickey', 'Kelly Olynyk',\n",
       "       'Terry Rozier', 'Marcus Smart', 'Jared Sullinger', 'Isaiah Thomas',\n",
       "       'Evan Turner', 'James Young', 'Tyler Zeller', 'Bojan Bogdanovic',\n",
       "       'Markel Brown', 'Wayne Ellington', 'Rondae Hollis-Jefferson',\n",
       "       'Jarrett Jack', 'Sergey Karasev    ', 'Sean Kilpatrick',\n",
       "       'Shane Larkin', 'Brook Lopez', 'Chris McCullough', 'Willie Reed',\n",
       "       'Thomas Robinson', 'Henry Sims', 'Donald Sloan', 'Thaddeus Young',\n",
       "       'Arron Afflalo', 'Lou Amundson', 'Thanasis Antetokounmpo',\n",
       "       'Carmelo Anthony', 'Jose Calderon', 'Cleanthony Early',\n",
       "       'Langston Galloway', 'Jerian Grant', 'Robin Lopez', \"Kyle O'Quinn\",\n",
       "       'Kristaps Porzingis', 'Kevin Seraphin', 'Lance Thomas',\n",
       "       'Sasha Vujacic', 'Derrick Williams', 'Tony Wroten', 'Elton Brand',\n",
       "       'Isaiah Canaan', 'Robert Covington', 'Joel Embiid', 'Jerami Grant',\n",
       "       'Richaun Holmes', 'Carl Landry', 'Kendall Marshall',\n",
       "       'T.J. McConnell', 'Nerlens Noel', 'Jahlil Okafor', 'Ish Smith',\n",
       "       'Nik Stauskas', 'Hollis Thompson', 'Christian Wood',\n",
       "       'Bismack Biyombo', 'Bruno Caboclo', 'DeMarre Carroll',\n",
       "       'DeMar DeRozan', 'James Johnson', 'Cory Joseph', 'Kyle Lowry',\n",
       "       'Lucas Nogueira', 'Patrick Patterson', 'Norman Powell',\n",
       "       'Terrence Ross', 'Luis Scola', 'Jason Thompson',\n",
       "       'Jonas Valanciunas', 'Delon Wright', 'Leandro Barbosa',\n",
       "       'Harrison Barnes', 'Andrew Bogut', 'Ian Clark', 'Stephen Curry',\n",
       "       'Festus Ezeli', 'Draymond Green', 'Andre Iguodala',\n",
       "       'Shaun Livingston', 'Kevon Looney', 'James Michael McAdoo',\n",
       "       'Brandon Rush', 'Marreese Speights', 'Klay Thompson',\n",
       "       'Anderson Varejao', 'Cole Aldrich', 'Jeff Ayres', 'Jamal Crawford',\n",
       "       'Branden Dawson', 'Jeff Green', 'Blake Griffin', 'Wesley Johnson',\n",
       "       'DeAndre Jordan', 'Luc Richard Mbah a Moute', 'Chris Paul',\n",
       "       'Paul Pierce', 'Pablo Prigioni', 'JJ Redick', 'Austin Rivers',\n",
       "       'C.J. Wilcox', 'Brandon Bass', 'Tarik Black', 'Anthony Brown',\n",
       "       'Kobe Bryant', 'Jordan Clarkson', 'Roy Hibbert', 'Marcelo Huertas',\n",
       "       'Ryan Kelly', 'Larry Nance Jr.', 'Julius Randle',\n",
       "       \"D'Angelo Russell\", 'Robert Sacre', 'Louis Williams',\n",
       "       'Metta World Peace', 'Nick Young', 'Eric Bledsoe', 'Devin Booker',\n",
       "       'Chase Budinger', 'Tyson Chandler', 'Archie Goodwin',\n",
       "       'John Jenkins', 'Brandon Knight', 'Alex Len', 'Jon Leuer',\n",
       "       'Phil Pressey', 'Ronnie Price', 'Mirza Teletovic', 'P.J. Tucker',\n",
       "       'T.J. Warren', 'Alan Williams', 'Quincy Acy', 'James Anderson',\n",
       "       'Marco Belinelli', 'Caron Butler', 'Omri Casspi',\n",
       "       'Willie Cauley-Stein', 'Darren Collison', 'DeMarcus Cousins',\n",
       "       'Seth Curry', 'Duje Dukan', 'Rudy Gay', 'Kosta Koufos',\n",
       "       'Ben McLemore', 'Eric Moreland', 'Rajon Rondo', 'Cameron Bairstow',\n",
       "       'Aaron Brooks', 'Jimmy Butler', 'Mike Dunleavy',\n",
       "       'Cristiano Felicio', 'Pau Gasol', 'Taj Gibson', 'Justin Holiday',\n",
       "       'Doug McDermott', 'Nikola Mirotic', \"E'Twaun Moore\", 'Joakim Noah',\n",
       "       'Bobby Portis', 'Derrick Rose', 'Tony Snell',\n",
       "       'Matthew Dellavedova', 'Channing Frye', 'Kyrie Irving',\n",
       "       'LeBron James', 'Richard Jefferson', 'Dahntay Jones',\n",
       "       'James Jones', 'Sasha Kaun', 'Kevin Love', 'Jordan McRae',\n",
       "       'Timofey Mozgov', 'Iman Shumpert', 'J.R. Smith',\n",
       "       'Tristan Thompson', 'Mo Williams', 'Joel Anthony', 'Aron Baynes',\n",
       "       'Steve Blake', 'Lorenzo Brown', 'Reggie Bullock',\n",
       "       'Kentavious Caldwell-Pope', 'Spencer Dinwiddie', 'Andre Drummond',\n",
       "       'Tobias Harris', 'Darrun Hilliard', 'Reggie Jackson',\n",
       "       'Stanley Johnson', 'Jodie Meeks', 'Marcus Morris',\n",
       "       'Anthony Tolliver', 'Lavoy Allen', 'Rakeem Christmas',\n",
       "       'Monta Ellis', 'Paul George', 'George Hill', 'Jordan Hill',\n",
       "       'Solomon Hill', 'Ty Lawson', 'Ian Mahinmi', 'C.J. Miles',\n",
       "       'Glenn Robinson III', 'Rodney Stuckey', 'Myles Turner',\n",
       "       'Shayne Whittington', 'Joe Young', 'Giannis Antetokounmpo',\n",
       "       'Jerryd Bayless', 'Michael Carter-Williams', 'Jared Cunningham',\n",
       "       'Tyler Ennis', 'John Henson', 'Damien Inglis', 'O.J. Mayo',\n",
       "       'Khris Middleton', 'Greg Monroe', 'Steve Novak',\n",
       "       \"Johnny O'Bryant III\", 'Jabari Parker', 'Miles Plumlee',\n",
       "       'Greivis Vasquez', 'Rashad Vaughn', 'Justin Anderson',\n",
       "       'J.J. Barea', 'Jeremy Evans', 'Raymond Felton', 'Devin Harris',\n",
       "       'David Lee', 'Wesley Matthews', 'JaVale McGee', 'Salah Mejri',\n",
       "       'Dirk Nowitzki', 'Zaza Pachulia', 'Chandler Parsons',\n",
       "       'Dwight Powell', 'Charlie Villanueva', 'Deron Williams',\n",
       "       'Trevor Ariza', 'Michael Beasley', 'Patrick Beverley',\n",
       "       'Corey Brewer', 'Clint Capela', 'Sam Dekker', 'Andrew Goudelock',\n",
       "       'James Harden', 'Montrezl Harrell', 'Dwight Howard',\n",
       "       'Terrence Jones', 'K.J. McDaniels', 'Donatas Motiejunas',\n",
       "       'Josh Smith', 'Jason Terry', 'Jordan Adams', 'Tony Allen',\n",
       "       'Chris Andersen', 'Matt Barnes', 'Vince Carter', 'Mike Conley',\n",
       "       'Bryce Cotton', 'Jordan Farmar', 'Marc Gasol', 'JaMychal Green',\n",
       "       'P.J. Hairston', 'Jarell Martin', 'Ray McCallum', 'Xavier Munford',\n",
       "       'Zach Randolph', 'Lance Stephenson', 'Alex Stepheson',\n",
       "       'Brandan Wright', 'Alexis Ajinca', 'Ryan Anderson', 'Omer Asik',\n",
       "       'Luke Babbitt', 'Norris Cole', 'Dante Cunningham', 'Anthony Davis',\n",
       "       'Bryce Dejean-Jones', 'Toney Douglas', 'James Ennis',\n",
       "       'Tyreke Evans', 'Tim Frazier', 'Alonzo Gee', 'Eric Gordon',\n",
       "       'Jordan Hamilton', 'Jrue Holiday', 'Orlando Johnson',\n",
       "       'Kendrick Perkins', 'Quincy Pondexter', 'LaMarcus Aldridge',\n",
       "       'Kyle Anderson', 'Matt Bonner', 'Boris Diaw', 'Tim Duncan',\n",
       "       'Manu Ginobili', 'Danny Green', 'Kawhi Leonard',\n",
       "       'Boban Marjanovic', 'Kevin Martin', 'Andre Miller', 'Patty Mills',\n",
       "       'Tony Parker', 'Jonathon Simmons', 'David West', 'Kent Bazemore',\n",
       "       'Tim Hardaway Jr.', 'Kirk Hinrich', 'Al Horford', 'Kris Humphries',\n",
       "       'Kyle Korver', 'Paul Millsap', 'Mike Muscala', 'Lamar Patterson',\n",
       "       'Dennis Schroder', 'Mike Scott', 'Thabo Sefolosha',\n",
       "       'Tiago Splitter', 'Walter Tavares', 'Jeff Teague', 'Nicolas Batum',\n",
       "       'Troy Daniels', 'Jorge Gutierrez', 'Tyler Hansbrough',\n",
       "       'Aaron Harrison', 'Spencer Hawes', 'Al Jefferson',\n",
       "       'Frank Kaminsky III', 'Michael Kidd-Gilchrist', 'Jeremy Lamb',\n",
       "       'Courtney Lee', 'Jeremy Lin', 'Kemba Walker', 'Marvin Williams',\n",
       "       'Cody Zeller', 'Chris Bosh', 'Luol Deng', 'Goran Dragic',\n",
       "       'Gerald Green', 'Udonis Haslem', 'Joe Johnson', 'Tyler Johnson',\n",
       "       'Josh McRoberts', 'Josh Richardson', \"Amar'e Stoudemire\",\n",
       "       'Dwyane Wade', 'Briante Weber', 'Hassan Whiteside',\n",
       "       'Justise Winslow', 'Dorell Wright', 'Dewayne Dedmon',\n",
       "       'Evan Fournier', 'Aaron Gordon', 'Mario Hezonja', 'Ersan Ilyasova',\n",
       "       'Brandon Jennings', 'Devyn Marble', 'Shabazz Napier',\n",
       "       'Andrew Nicholson', 'Victor Oladipo', 'Elfrid Payton',\n",
       "       'Jason Smith', 'Nikola Vucevic', 'C.J. Watson', 'Alan Anderson',\n",
       "       'Bradley Beal', 'Jared Dudley', 'Jarell Eddie', 'Drew Gooden',\n",
       "       'Marcin Gortat', 'JJ Hickson', 'Nene Hilario', 'Markieff Morris',\n",
       "       'Kelly Oubre Jr.', 'Otto Porter Jr.', 'Ramon Sessions',\n",
       "       'Garrett Temple', 'Marcus Thornton', 'John Wall', 'Darrell Arthur',\n",
       "       'D.J. Augustin', 'Will Barton', 'Wilson Chandler',\n",
       "       'Kenneth Faried', 'Danilo Gallinari', 'Gary Harris',\n",
       "       'Nikola Jokic', 'Joffrey Lauvergne', 'Mike Miller',\n",
       "       'Emmanuel Mudiay', 'Jameer Nelson', 'Jusuf Nurkic',\n",
       "       'JaKarr Sampson', 'Axel Toupane', 'Nemanja Bjelica',\n",
       "       'Gorgui Dieng', 'Kevin Garnett', 'Tyus Jones', 'Zach LaVine',\n",
       "       'Shabazz Muhammad', 'Adreian Payne', 'Nikola Pekovic',\n",
       "       'Tayshaun Prince', 'Ricky Rubio', 'Damjan Rudez', 'Greg Smith',\n",
       "       'Karl-Anthony Towns', 'Andrew Wiggins', 'Steven Adams',\n",
       "       'Nick Collison', 'Kevin Durant', 'Randy Foye', 'Josh Huestis',\n",
       "       'Serge Ibaka', 'Enes Kanter', 'Mitch McGary', 'Nazr Mohammed',\n",
       "       'Anthony Morrow', 'Cameron Payne', 'Andre Roberson',\n",
       "       'Kyle Singler', 'Dion Waiters', 'Russell Westbrook',\n",
       "       'Cliff Alexander', 'Al-Farouq Aminu', 'Pat Connaughton',\n",
       "       'Allen Crabbe', 'Ed Davis', 'Maurice Harkless', 'Gerald Henderson',\n",
       "       'Chris Kaman', 'Meyers Leonard', 'Damian Lillard', 'C.J. McCollum',\n",
       "       'Luis Montero', 'Mason Plumlee', 'Brian Roberts', 'Noah Vonleh',\n",
       "       'Trevor Booker', 'Trey Burke', 'Alec Burks', 'Dante Exum',\n",
       "       'Derrick Favors', 'Rudy Gobert', 'Gordon Hayward', 'Rodney Hood',\n",
       "       'Joe Ingles', 'Chris Johnson', 'Trey Lyles', 'Shelvin Mack',\n",
       "       'Raul Neto', 'Tibor Pleiss', 'Jeff Withey', nan], dtype=object)"
      ]
     },
     "execution_count": 12,
     "metadata": {},
     "output_type": "execute_result"
    }
   ],
   "source": [
    "#Limpando coluna de Nomes\n",
    "df_nba.Name.values"
   ]
  },
  {
   "cell_type": "code",
   "execution_count": 9,
   "metadata": {},
   "outputs": [],
   "source": [
    "#Removendo espaços em branco da coluna\n",
    "df_nba[\"Name\"] = df_nba[\"Name\"].str.strip()"
   ]
  },
  {
   "cell_type": "code",
   "execution_count": 11,
   "metadata": {},
   "outputs": [],
   "source": [
    "#Removendo os caracteres incomuns da coluna\n",
    "df_nba[\"Name\"] = df_nba[\"Name\"].str.replace('###','')"
   ]
  },
  {
   "cell_type": "code",
   "execution_count": null,
   "metadata": {},
   "outputs": [],
   "source": [
    "#Padronizando a coluna Height"
   ]
  },
  {
   "cell_type": "code",
   "execution_count": 15,
   "metadata": {},
   "outputs": [
    {
     "data": {
      "text/plain": [
       "array(['6-2', '6-6', '6-5', '6-10', '6-9', '6-8', '7-0', '6-4', '5-9',\n",
       "       '6-7', '6-3', '5-11', '6-11', '7-3', '6-0', '7-2', '6-1', '7-1',\n",
       "       nan], dtype=object)"
      ]
     },
     "execution_count": 15,
     "metadata": {},
     "output_type": "execute_result"
    }
   ],
   "source": [
    "df_nba[\"Height\"].unique()"
   ]
  },
  {
   "cell_type": "code",
   "execution_count": 14,
   "metadata": {},
   "outputs": [],
   "source": [
    "df_nba[\"Height\"] = df_nba[\"Height\"].str.replace('|','-')"
   ]
  },
  {
   "cell_type": "code",
   "execution_count": null,
   "metadata": {},
   "outputs": [],
   "source": [
    "#Aplicando uma Taxonomia mais amigavel e no padrão definido com o Cliente"
   ]
  },
  {
   "cell_type": "code",
   "execution_count": null,
   "metadata": {},
   "outputs": [],
   "source": [
    "df_nba.columns"
   ]
  },
  {
   "cell_type": "code",
   "execution_count": 16,
   "metadata": {},
   "outputs": [],
   "source": [
    "df_nba.rename({\n",
    "    'Name': 'NOME', \n",
    "    'Team': 'TIME',\n",
    "    'Number': 'NUMERO',\n",
    "    'Position': 'POSICAO',\n",
    "    'Age': 'IDADE',\n",
    "    'Height': 'ALTURA',\n",
    "    'Weight': 'PESO',\n",
    "    'College': 'COLEGIO',\n",
    "    'Salary': 'SALARIO'\n",
    "}, axis=1, inplace=True)"
   ]
  },
  {
   "cell_type": "code",
   "execution_count": 17,
   "metadata": {},
   "outputs": [
    {
     "data": {
      "text/plain": [
       "Index(['NOME', 'TIME', 'NUMERO', 'POSICAO', 'IDADE', 'ALTURA', 'PESO',\n",
       "       'COLEGIO', 'SALARIO'],\n",
       "      dtype='object')"
      ]
     },
     "execution_count": 17,
     "metadata": {},
     "output_type": "execute_result"
    }
   ],
   "source": [
    "df_nba.columns"
   ]
  },
  {
   "cell_type": "code",
   "execution_count": 18,
   "metadata": {},
   "outputs": [],
   "source": [
    "#Ajustando Nulos nas colunas COLEGIO e SALARIO \n",
    "df_nba[\"COLEGIO\"] = df_nba[\"COLEGIO\"].fillna(\"N/A\")\n",
    "df_nba[\"SALARIO\"] = df_nba[\"SALARIO\"].fillna(0)"
   ]
  },
  {
   "cell_type": "markdown",
   "metadata": {},
   "source": [
    "### Validando os valores carregados e granularidade dos dados"
   ]
  },
  {
   "cell_type": "code",
   "execution_count": 19,
   "metadata": {},
   "outputs": [
    {
     "data": {
      "text/html": [
       "<div>\n",
       "<style scoped>\n",
       "    .dataframe tbody tr th:only-of-type {\n",
       "        vertical-align: middle;\n",
       "    }\n",
       "\n",
       "    .dataframe tbody tr th {\n",
       "        vertical-align: top;\n",
       "    }\n",
       "\n",
       "    .dataframe thead th {\n",
       "        text-align: right;\n",
       "    }\n",
       "</style>\n",
       "<table border=\"1\" class=\"dataframe\">\n",
       "  <thead>\n",
       "    <tr style=\"text-align: right;\">\n",
       "      <th></th>\n",
       "      <th>NOME</th>\n",
       "      <th>TIME</th>\n",
       "      <th>NUMERO</th>\n",
       "      <th>POSICAO</th>\n",
       "      <th>IDADE</th>\n",
       "      <th>ALTURA</th>\n",
       "      <th>PESO</th>\n",
       "      <th>COLEGIO</th>\n",
       "      <th>SALARIO</th>\n",
       "    </tr>\n",
       "  </thead>\n",
       "  <tbody>\n",
       "    <tr>\n",
       "      <th>0</th>\n",
       "      <td>Avery Bradley</td>\n",
       "      <td>Boston Celtics</td>\n",
       "      <td>0.0</td>\n",
       "      <td>PG</td>\n",
       "      <td>25.0</td>\n",
       "      <td>6-2</td>\n",
       "      <td>180.0</td>\n",
       "      <td>Texas</td>\n",
       "      <td>7730337.0</td>\n",
       "    </tr>\n",
       "    <tr>\n",
       "      <th>1</th>\n",
       "      <td>Jae Crowder</td>\n",
       "      <td>Boston Celtics</td>\n",
       "      <td>99.0</td>\n",
       "      <td>SF</td>\n",
       "      <td>25.0</td>\n",
       "      <td>6-6</td>\n",
       "      <td>235.0</td>\n",
       "      <td>Marquette</td>\n",
       "      <td>6796117.0</td>\n",
       "    </tr>\n",
       "    <tr>\n",
       "      <th>2</th>\n",
       "      <td>John Holland</td>\n",
       "      <td>Boston Celtics</td>\n",
       "      <td>30.0</td>\n",
       "      <td>SG</td>\n",
       "      <td>27.0</td>\n",
       "      <td>6-5</td>\n",
       "      <td>205.0</td>\n",
       "      <td>Boston University</td>\n",
       "      <td>0.0</td>\n",
       "    </tr>\n",
       "    <tr>\n",
       "      <th>3</th>\n",
       "      <td>R.J. Hunter</td>\n",
       "      <td>Boston Celtics</td>\n",
       "      <td>28.0</td>\n",
       "      <td>SG</td>\n",
       "      <td>22.0</td>\n",
       "      <td>6-5</td>\n",
       "      <td>185.0</td>\n",
       "      <td>Georgia State</td>\n",
       "      <td>1148640.0</td>\n",
       "    </tr>\n",
       "    <tr>\n",
       "      <th>4</th>\n",
       "      <td>Jonas Jerebko</td>\n",
       "      <td>Boston Celtics</td>\n",
       "      <td>8.0</td>\n",
       "      <td>PF</td>\n",
       "      <td>29.0</td>\n",
       "      <td>6-10</td>\n",
       "      <td>231.0</td>\n",
       "      <td>N/A</td>\n",
       "      <td>5000000.0</td>\n",
       "    </tr>\n",
       "    <tr>\n",
       "      <th>5</th>\n",
       "      <td>Amir Johnson</td>\n",
       "      <td>Boston Celtics</td>\n",
       "      <td>90.0</td>\n",
       "      <td>PF</td>\n",
       "      <td>29.0</td>\n",
       "      <td>6-9</td>\n",
       "      <td>240.0</td>\n",
       "      <td>N/A</td>\n",
       "      <td>12000000.0</td>\n",
       "    </tr>\n",
       "    <tr>\n",
       "      <th>6</th>\n",
       "      <td>Jordan Mickey</td>\n",
       "      <td>Boston Celtics</td>\n",
       "      <td>55.0</td>\n",
       "      <td>PF</td>\n",
       "      <td>21.0</td>\n",
       "      <td>6-8</td>\n",
       "      <td>235.0</td>\n",
       "      <td>LSU</td>\n",
       "      <td>1170960.0</td>\n",
       "    </tr>\n",
       "    <tr>\n",
       "      <th>7</th>\n",
       "      <td>Kelly Olynyk</td>\n",
       "      <td>Boston Celtics</td>\n",
       "      <td>41.0</td>\n",
       "      <td>C</td>\n",
       "      <td>25.0</td>\n",
       "      <td>7-0</td>\n",
       "      <td>238.0</td>\n",
       "      <td>Gonzaga</td>\n",
       "      <td>2165160.0</td>\n",
       "    </tr>\n",
       "    <tr>\n",
       "      <th>8</th>\n",
       "      <td>Terry Rozier</td>\n",
       "      <td>Boston Celtics</td>\n",
       "      <td>12.0</td>\n",
       "      <td>PG</td>\n",
       "      <td>22.0</td>\n",
       "      <td>6-2</td>\n",
       "      <td>190.0</td>\n",
       "      <td>Louisville</td>\n",
       "      <td>1824360.0</td>\n",
       "    </tr>\n",
       "    <tr>\n",
       "      <th>9</th>\n",
       "      <td>Marcus Smart</td>\n",
       "      <td>Boston Celtics</td>\n",
       "      <td>36.0</td>\n",
       "      <td>PG</td>\n",
       "      <td>22.0</td>\n",
       "      <td>6-4</td>\n",
       "      <td>220.0</td>\n",
       "      <td>Oklahoma State</td>\n",
       "      <td>3431040.0</td>\n",
       "    </tr>\n",
       "    <tr>\n",
       "      <th>10</th>\n",
       "      <td>Jared Sullinger</td>\n",
       "      <td>Boston Celtics</td>\n",
       "      <td>7.0</td>\n",
       "      <td>C</td>\n",
       "      <td>24.0</td>\n",
       "      <td>6-9</td>\n",
       "      <td>260.0</td>\n",
       "      <td>Ohio State</td>\n",
       "      <td>2569260.0</td>\n",
       "    </tr>\n",
       "    <tr>\n",
       "      <th>11</th>\n",
       "      <td>Isaiah Thomas</td>\n",
       "      <td>Boston Celtics</td>\n",
       "      <td>4.0</td>\n",
       "      <td>PG</td>\n",
       "      <td>27.0</td>\n",
       "      <td>5-9</td>\n",
       "      <td>185.0</td>\n",
       "      <td>Washington</td>\n",
       "      <td>6912869.0</td>\n",
       "    </tr>\n",
       "    <tr>\n",
       "      <th>12</th>\n",
       "      <td>Evan Turner</td>\n",
       "      <td>Boston Celtics</td>\n",
       "      <td>11.0</td>\n",
       "      <td>SG</td>\n",
       "      <td>27.0</td>\n",
       "      <td>6-7</td>\n",
       "      <td>220.0</td>\n",
       "      <td>Ohio State</td>\n",
       "      <td>3425510.0</td>\n",
       "    </tr>\n",
       "    <tr>\n",
       "      <th>13</th>\n",
       "      <td>James Young</td>\n",
       "      <td>Boston Celtics</td>\n",
       "      <td>13.0</td>\n",
       "      <td>SG</td>\n",
       "      <td>20.0</td>\n",
       "      <td>6-6</td>\n",
       "      <td>215.0</td>\n",
       "      <td>Kentucky</td>\n",
       "      <td>1749840.0</td>\n",
       "    </tr>\n",
       "    <tr>\n",
       "      <th>14</th>\n",
       "      <td>Tyler Zeller</td>\n",
       "      <td>Boston Celtics</td>\n",
       "      <td>44.0</td>\n",
       "      <td>C</td>\n",
       "      <td>26.0</td>\n",
       "      <td>7-0</td>\n",
       "      <td>253.0</td>\n",
       "      <td>North Carolina</td>\n",
       "      <td>2616975.0</td>\n",
       "    </tr>\n",
       "    <tr>\n",
       "      <th>15</th>\n",
       "      <td>Bojan Bogdanovic</td>\n",
       "      <td>Brooklyn Nets</td>\n",
       "      <td>44.0</td>\n",
       "      <td>SG</td>\n",
       "      <td>27.0</td>\n",
       "      <td>6-8</td>\n",
       "      <td>216.0</td>\n",
       "      <td>N/A</td>\n",
       "      <td>3425510.0</td>\n",
       "    </tr>\n",
       "    <tr>\n",
       "      <th>16</th>\n",
       "      <td>Markel Brown</td>\n",
       "      <td>Brooklyn Nets</td>\n",
       "      <td>22.0</td>\n",
       "      <td>SG</td>\n",
       "      <td>24.0</td>\n",
       "      <td>6-3</td>\n",
       "      <td>190.0</td>\n",
       "      <td>Oklahoma State</td>\n",
       "      <td>845059.0</td>\n",
       "    </tr>\n",
       "    <tr>\n",
       "      <th>17</th>\n",
       "      <td>Wayne Ellington</td>\n",
       "      <td>Brooklyn Nets</td>\n",
       "      <td>21.0</td>\n",
       "      <td>SG</td>\n",
       "      <td>28.0</td>\n",
       "      <td>6-4</td>\n",
       "      <td>200.0</td>\n",
       "      <td>North Carolina</td>\n",
       "      <td>1500000.0</td>\n",
       "    </tr>\n",
       "    <tr>\n",
       "      <th>18</th>\n",
       "      <td>Rondae Hollis-Jefferson</td>\n",
       "      <td>Brooklyn Nets</td>\n",
       "      <td>24.0</td>\n",
       "      <td>SG</td>\n",
       "      <td>21.0</td>\n",
       "      <td>6-7</td>\n",
       "      <td>220.0</td>\n",
       "      <td>Arizona</td>\n",
       "      <td>1335480.0</td>\n",
       "    </tr>\n",
       "    <tr>\n",
       "      <th>19</th>\n",
       "      <td>Jarrett Jack</td>\n",
       "      <td>Brooklyn Nets</td>\n",
       "      <td>2.0</td>\n",
       "      <td>PG</td>\n",
       "      <td>32.0</td>\n",
       "      <td>6-3</td>\n",
       "      <td>200.0</td>\n",
       "      <td>Georgia Tech</td>\n",
       "      <td>6300000.0</td>\n",
       "    </tr>\n",
       "  </tbody>\n",
       "</table>\n",
       "</div>"
      ],
      "text/plain": [
       "                       NOME            TIME  NUMERO POSICAO  IDADE ALTURA  \\\n",
       "0             Avery Bradley  Boston Celtics     0.0      PG   25.0    6-2   \n",
       "1               Jae Crowder  Boston Celtics    99.0      SF   25.0    6-6   \n",
       "2              John Holland  Boston Celtics    30.0      SG   27.0    6-5   \n",
       "3               R.J. Hunter  Boston Celtics    28.0      SG   22.0    6-5   \n",
       "4             Jonas Jerebko  Boston Celtics     8.0      PF   29.0   6-10   \n",
       "5              Amir Johnson  Boston Celtics    90.0      PF   29.0    6-9   \n",
       "6             Jordan Mickey  Boston Celtics    55.0      PF   21.0    6-8   \n",
       "7              Kelly Olynyk  Boston Celtics    41.0       C   25.0    7-0   \n",
       "8              Terry Rozier  Boston Celtics    12.0      PG   22.0    6-2   \n",
       "9              Marcus Smart  Boston Celtics    36.0      PG   22.0    6-4   \n",
       "10          Jared Sullinger  Boston Celtics     7.0       C   24.0    6-9   \n",
       "11            Isaiah Thomas  Boston Celtics     4.0      PG   27.0    5-9   \n",
       "12              Evan Turner  Boston Celtics    11.0      SG   27.0    6-7   \n",
       "13              James Young  Boston Celtics    13.0      SG   20.0    6-6   \n",
       "14             Tyler Zeller  Boston Celtics    44.0       C   26.0    7-0   \n",
       "15         Bojan Bogdanovic   Brooklyn Nets    44.0      SG   27.0    6-8   \n",
       "16             Markel Brown   Brooklyn Nets    22.0      SG   24.0    6-3   \n",
       "17          Wayne Ellington   Brooklyn Nets    21.0      SG   28.0    6-4   \n",
       "18  Rondae Hollis-Jefferson   Brooklyn Nets    24.0      SG   21.0    6-7   \n",
       "19             Jarrett Jack   Brooklyn Nets     2.0      PG   32.0    6-3   \n",
       "\n",
       "     PESO            COLEGIO     SALARIO  \n",
       "0   180.0              Texas   7730337.0  \n",
       "1   235.0          Marquette   6796117.0  \n",
       "2   205.0  Boston University         0.0  \n",
       "3   185.0      Georgia State   1148640.0  \n",
       "4   231.0                N/A   5000000.0  \n",
       "5   240.0                N/A  12000000.0  \n",
       "6   235.0                LSU   1170960.0  \n",
       "7   238.0            Gonzaga   2165160.0  \n",
       "8   190.0         Louisville   1824360.0  \n",
       "9   220.0     Oklahoma State   3431040.0  \n",
       "10  260.0         Ohio State   2569260.0  \n",
       "11  185.0         Washington   6912869.0  \n",
       "12  220.0         Ohio State   3425510.0  \n",
       "13  215.0           Kentucky   1749840.0  \n",
       "14  253.0     North Carolina   2616975.0  \n",
       "15  216.0                N/A   3425510.0  \n",
       "16  190.0     Oklahoma State    845059.0  \n",
       "17  200.0     North Carolina   1500000.0  \n",
       "18  220.0            Arizona   1335480.0  \n",
       "19  200.0       Georgia Tech   6300000.0  "
      ]
     },
     "execution_count": 19,
     "metadata": {},
     "output_type": "execute_result"
    }
   ],
   "source": [
    "df_nba.head(20)"
   ]
  },
  {
   "cell_type": "markdown",
   "metadata": {},
   "source": [
    "### Agregações de Dados"
   ]
  },
  {
   "cell_type": "code",
   "execution_count": 20,
   "metadata": {},
   "outputs": [
    {
     "data": {
      "text/html": [
       "<div>\n",
       "<style scoped>\n",
       "    .dataframe tbody tr th:only-of-type {\n",
       "        vertical-align: middle;\n",
       "    }\n",
       "\n",
       "    .dataframe tbody tr th {\n",
       "        vertical-align: top;\n",
       "    }\n",
       "\n",
       "    .dataframe thead th {\n",
       "        text-align: right;\n",
       "    }\n",
       "</style>\n",
       "<table border=\"1\" class=\"dataframe\">\n",
       "  <thead>\n",
       "    <tr style=\"text-align: right;\">\n",
       "      <th></th>\n",
       "      <th>TIME</th>\n",
       "      <th>QTD_JOGADORES_TIME</th>\n",
       "    </tr>\n",
       "  </thead>\n",
       "  <tbody>\n",
       "    <tr>\n",
       "      <th>0</th>\n",
       "      <td>Atlanta Hawks</td>\n",
       "      <td>15</td>\n",
       "    </tr>\n",
       "    <tr>\n",
       "      <th>1</th>\n",
       "      <td>Boston Celtics</td>\n",
       "      <td>15</td>\n",
       "    </tr>\n",
       "    <tr>\n",
       "      <th>2</th>\n",
       "      <td>Brooklyn Nets</td>\n",
       "      <td>15</td>\n",
       "    </tr>\n",
       "    <tr>\n",
       "      <th>3</th>\n",
       "      <td>Charlotte Hornets</td>\n",
       "      <td>15</td>\n",
       "    </tr>\n",
       "    <tr>\n",
       "      <th>4</th>\n",
       "      <td>Chicago Bulls</td>\n",
       "      <td>15</td>\n",
       "    </tr>\n",
       "    <tr>\n",
       "      <th>5</th>\n",
       "      <td>Cleveland Cavaliers</td>\n",
       "      <td>15</td>\n",
       "    </tr>\n",
       "    <tr>\n",
       "      <th>6</th>\n",
       "      <td>Dallas Mavericks</td>\n",
       "      <td>15</td>\n",
       "    </tr>\n",
       "    <tr>\n",
       "      <th>7</th>\n",
       "      <td>Denver Nuggets</td>\n",
       "      <td>15</td>\n",
       "    </tr>\n",
       "    <tr>\n",
       "      <th>8</th>\n",
       "      <td>Detroit Pistons</td>\n",
       "      <td>15</td>\n",
       "    </tr>\n",
       "    <tr>\n",
       "      <th>9</th>\n",
       "      <td>Golden State Warriors</td>\n",
       "      <td>15</td>\n",
       "    </tr>\n",
       "    <tr>\n",
       "      <th>10</th>\n",
       "      <td>Houston Rockets</td>\n",
       "      <td>15</td>\n",
       "    </tr>\n",
       "    <tr>\n",
       "      <th>11</th>\n",
       "      <td>Indiana Pacers</td>\n",
       "      <td>15</td>\n",
       "    </tr>\n",
       "    <tr>\n",
       "      <th>12</th>\n",
       "      <td>Los Angeles Clippers</td>\n",
       "      <td>15</td>\n",
       "    </tr>\n",
       "    <tr>\n",
       "      <th>13</th>\n",
       "      <td>Los Angeles Lakers</td>\n",
       "      <td>15</td>\n",
       "    </tr>\n",
       "    <tr>\n",
       "      <th>14</th>\n",
       "      <td>Memphis Grizzlies</td>\n",
       "      <td>18</td>\n",
       "    </tr>\n",
       "    <tr>\n",
       "      <th>15</th>\n",
       "      <td>Miami Heat</td>\n",
       "      <td>15</td>\n",
       "    </tr>\n",
       "    <tr>\n",
       "      <th>16</th>\n",
       "      <td>Milwaukee Bucks</td>\n",
       "      <td>16</td>\n",
       "    </tr>\n",
       "    <tr>\n",
       "      <th>17</th>\n",
       "      <td>Minnesota Timberwolves</td>\n",
       "      <td>14</td>\n",
       "    </tr>\n",
       "    <tr>\n",
       "      <th>18</th>\n",
       "      <td>New Orleans Pelicans</td>\n",
       "      <td>19</td>\n",
       "    </tr>\n",
       "    <tr>\n",
       "      <th>19</th>\n",
       "      <td>New York Knicks</td>\n",
       "      <td>16</td>\n",
       "    </tr>\n",
       "    <tr>\n",
       "      <th>20</th>\n",
       "      <td>Oklahoma City Thunder</td>\n",
       "      <td>15</td>\n",
       "    </tr>\n",
       "    <tr>\n",
       "      <th>21</th>\n",
       "      <td>Orlando Magic</td>\n",
       "      <td>14</td>\n",
       "    </tr>\n",
       "    <tr>\n",
       "      <th>22</th>\n",
       "      <td>Philadelphia 76ers</td>\n",
       "      <td>15</td>\n",
       "    </tr>\n",
       "    <tr>\n",
       "      <th>23</th>\n",
       "      <td>Phoenix Suns</td>\n",
       "      <td>15</td>\n",
       "    </tr>\n",
       "    <tr>\n",
       "      <th>24</th>\n",
       "      <td>Portland Trail Blazers</td>\n",
       "      <td>15</td>\n",
       "    </tr>\n",
       "    <tr>\n",
       "      <th>25</th>\n",
       "      <td>Sacramento Kings</td>\n",
       "      <td>15</td>\n",
       "    </tr>\n",
       "    <tr>\n",
       "      <th>26</th>\n",
       "      <td>San Antonio Spurs</td>\n",
       "      <td>15</td>\n",
       "    </tr>\n",
       "    <tr>\n",
       "      <th>27</th>\n",
       "      <td>Toronto Raptors</td>\n",
       "      <td>15</td>\n",
       "    </tr>\n",
       "    <tr>\n",
       "      <th>28</th>\n",
       "      <td>Utah Jazz</td>\n",
       "      <td>15</td>\n",
       "    </tr>\n",
       "    <tr>\n",
       "      <th>29</th>\n",
       "      <td>Washington Wizards</td>\n",
       "      <td>15</td>\n",
       "    </tr>\n",
       "  </tbody>\n",
       "</table>\n",
       "</div>"
      ],
      "text/plain": [
       "                      TIME  QTD_JOGADORES_TIME\n",
       "0            Atlanta Hawks                  15\n",
       "1           Boston Celtics                  15\n",
       "2            Brooklyn Nets                  15\n",
       "3        Charlotte Hornets                  15\n",
       "4            Chicago Bulls                  15\n",
       "5      Cleveland Cavaliers                  15\n",
       "6         Dallas Mavericks                  15\n",
       "7           Denver Nuggets                  15\n",
       "8          Detroit Pistons                  15\n",
       "9    Golden State Warriors                  15\n",
       "10         Houston Rockets                  15\n",
       "11          Indiana Pacers                  15\n",
       "12    Los Angeles Clippers                  15\n",
       "13      Los Angeles Lakers                  15\n",
       "14       Memphis Grizzlies                  18\n",
       "15              Miami Heat                  15\n",
       "16         Milwaukee Bucks                  16\n",
       "17  Minnesota Timberwolves                  14\n",
       "18    New Orleans Pelicans                  19\n",
       "19         New York Knicks                  16\n",
       "20   Oklahoma City Thunder                  15\n",
       "21           Orlando Magic                  14\n",
       "22      Philadelphia 76ers                  15\n",
       "23            Phoenix Suns                  15\n",
       "24  Portland Trail Blazers                  15\n",
       "25        Sacramento Kings                  15\n",
       "26       San Antonio Spurs                  15\n",
       "27         Toronto Raptors                  15\n",
       "28               Utah Jazz                  15\n",
       "29      Washington Wizards                  15"
      ]
     },
     "execution_count": 20,
     "metadata": {},
     "output_type": "execute_result"
    }
   ],
   "source": [
    "df_nba.groupby([\"TIME\"]).TIME.agg('count').to_frame('QTD_JOGADORES_TIME').reset_index()"
   ]
  },
  {
   "cell_type": "code",
   "execution_count": 21,
   "metadata": {},
   "outputs": [
    {
     "data": {
      "text/html": [
       "<div>\n",
       "<style scoped>\n",
       "    .dataframe tbody tr th:only-of-type {\n",
       "        vertical-align: middle;\n",
       "    }\n",
       "\n",
       "    .dataframe tbody tr th {\n",
       "        vertical-align: top;\n",
       "    }\n",
       "\n",
       "    .dataframe thead th {\n",
       "        text-align: right;\n",
       "    }\n",
       "</style>\n",
       "<table border=\"1\" class=\"dataframe\">\n",
       "  <thead>\n",
       "    <tr style=\"text-align: right;\">\n",
       "      <th></th>\n",
       "      <th>COLEGIO</th>\n",
       "      <th>TIME</th>\n",
       "    </tr>\n",
       "  </thead>\n",
       "  <tbody>\n",
       "    <tr>\n",
       "      <th>0</th>\n",
       "      <td>Alabama</td>\n",
       "      <td>[Cleveland Cavaliers, New Orleans Pelicans, Me...</td>\n",
       "    </tr>\n",
       "    <tr>\n",
       "      <th>1</th>\n",
       "      <td>Arizona</td>\n",
       "      <td>[Philadelphia 76ers, Golden State Warriors, Ph...</td>\n",
       "    </tr>\n",
       "    <tr>\n",
       "      <th>2</th>\n",
       "      <td>Arizona State</td>\n",
       "      <td>[Los Angeles Clippers, Houston Rockets]</td>\n",
       "    </tr>\n",
       "    <tr>\n",
       "      <th>3</th>\n",
       "      <td>Arkansas</td>\n",
       "      <td>[Miami Heat, Chicago Bulls, Houston Rockets]</td>\n",
       "    </tr>\n",
       "    <tr>\n",
       "      <th>4</th>\n",
       "      <td>Baylor</td>\n",
       "      <td>[Sacramento Kings]</td>\n",
       "    </tr>\n",
       "    <tr>\n",
       "      <th>5</th>\n",
       "      <td>Belmont</td>\n",
       "      <td>[Golden State Warriors]</td>\n",
       "    </tr>\n",
       "    <tr>\n",
       "      <th>6</th>\n",
       "      <td>Blinn College</td>\n",
       "      <td>[Memphis Grizzlies]</td>\n",
       "    </tr>\n",
       "    <tr>\n",
       "      <th>7</th>\n",
       "      <td>Boston College</td>\n",
       "      <td>[Washington Wizards, Detroit Pistons]</td>\n",
       "    </tr>\n",
       "    <tr>\n",
       "      <th>8</th>\n",
       "      <td>Boston University</td>\n",
       "      <td>[Boston Celtics]</td>\n",
       "    </tr>\n",
       "    <tr>\n",
       "      <th>9</th>\n",
       "      <td>Bowling Green</td>\n",
       "      <td>[Philadelphia 76ers]</td>\n",
       "    </tr>\n",
       "    <tr>\n",
       "      <th>10</th>\n",
       "      <td>Bucknell</td>\n",
       "      <td>[Atlanta Hawks]</td>\n",
       "    </tr>\n",
       "    <tr>\n",
       "      <th>11</th>\n",
       "      <td>Butler</td>\n",
       "      <td>[Utah Jazz]</td>\n",
       "    </tr>\n",
       "    <tr>\n",
       "      <th>12</th>\n",
       "      <td>California</td>\n",
       "      <td>[Portland Trail Blazers, New Orleans Pelicans,...</td>\n",
       "    </tr>\n",
       "    <tr>\n",
       "      <th>13</th>\n",
       "      <td>Central Michigan</td>\n",
       "      <td>[Portland Trail Blazers]</td>\n",
       "    </tr>\n",
       "    <tr>\n",
       "      <th>14</th>\n",
       "      <td>Charleston</td>\n",
       "      <td>[Houston Rockets]</td>\n",
       "    </tr>\n",
       "    <tr>\n",
       "      <th>15</th>\n",
       "      <td>Cincinnati</td>\n",
       "      <td>[Brooklyn Nets, Memphis Grizzlies]</td>\n",
       "    </tr>\n",
       "    <tr>\n",
       "      <th>16</th>\n",
       "      <td>Clemson</td>\n",
       "      <td>[Utah Jazz, Houston Rockets]</td>\n",
       "    </tr>\n",
       "    <tr>\n",
       "      <th>17</th>\n",
       "      <td>Cleveland State</td>\n",
       "      <td>[New Orleans Pelicans]</td>\n",
       "    </tr>\n",
       "    <tr>\n",
       "      <th>18</th>\n",
       "      <td>Colorado</td>\n",
       "      <td>[Utah Jazz, Detroit Pistons, Oklahoma City Thu...</td>\n",
       "    </tr>\n",
       "    <tr>\n",
       "      <th>19</th>\n",
       "      <td>Colorado State</td>\n",
       "      <td>[Orlando Magic]</td>\n",
       "    </tr>\n",
       "    <tr>\n",
       "      <th>20</th>\n",
       "      <td>Connecticut</td>\n",
       "      <td>[Sacramento Kings, Dallas Mavericks, Orlando M...</td>\n",
       "    </tr>\n",
       "    <tr>\n",
       "      <th>21</th>\n",
       "      <td>Creighton</td>\n",
       "      <td>[Detroit Pistons, Chicago Bulls, Atlanta Hawks]</td>\n",
       "    </tr>\n",
       "    <tr>\n",
       "      <th>22</th>\n",
       "      <td>Davidson</td>\n",
       "      <td>[Golden State Warriors]</td>\n",
       "    </tr>\n",
       "    <tr>\n",
       "      <th>23</th>\n",
       "      <td>Dayton</td>\n",
       "      <td>[Portland Trail Blazers, Utah Jazz]</td>\n",
       "    </tr>\n",
       "    <tr>\n",
       "      <th>24</th>\n",
       "      <td>DePaul</td>\n",
       "      <td>[Denver Nuggets]</td>\n",
       "    </tr>\n",
       "    <tr>\n",
       "      <th>25</th>\n",
       "      <td>Detroit</td>\n",
       "      <td>[Memphis Grizzlies]</td>\n",
       "    </tr>\n",
       "    <tr>\n",
       "      <th>26</th>\n",
       "      <td>Duke</td>\n",
       "      <td>[Philadelphia 76ers, Sacramento Kings, Minneso...</td>\n",
       "    </tr>\n",
       "    <tr>\n",
       "      <th>27</th>\n",
       "      <td>Eastern Washington</td>\n",
       "      <td>[Indiana Pacers]</td>\n",
       "    </tr>\n",
       "    <tr>\n",
       "      <th>28</th>\n",
       "      <td>Florida</td>\n",
       "      <td>[Golden State Warriors, Houston Rockets, Dalla...</td>\n",
       "    </tr>\n",
       "    <tr>\n",
       "      <th>29</th>\n",
       "      <td>Florida State</td>\n",
       "      <td>[New Orleans Pelicans]</td>\n",
       "    </tr>\n",
       "    <tr>\n",
       "      <th>...</th>\n",
       "      <td>...</td>\n",
       "      <td>...</td>\n",
       "    </tr>\n",
       "    <tr>\n",
       "      <th>89</th>\n",
       "      <td>Stanford</td>\n",
       "      <td>[Dallas Mavericks, Oklahoma City Thunder, Broo...</td>\n",
       "    </tr>\n",
       "    <tr>\n",
       "      <th>90</th>\n",
       "      <td>Syracuse</td>\n",
       "      <td>[Philadelphia 76ers, Oklahoma City Thunder, Mi...</td>\n",
       "    </tr>\n",
       "    <tr>\n",
       "      <th>91</th>\n",
       "      <td>Temple</td>\n",
       "      <td>[Indiana Pacers]</td>\n",
       "    </tr>\n",
       "    <tr>\n",
       "      <th>92</th>\n",
       "      <td>Tennessee</td>\n",
       "      <td>[Miami Heat, Orlando Magic, Detroit Pistons, C...</td>\n",
       "    </tr>\n",
       "    <tr>\n",
       "      <th>93</th>\n",
       "      <td>Tennessee State</td>\n",
       "      <td>[Philadelphia 76ers]</td>\n",
       "    </tr>\n",
       "    <tr>\n",
       "      <th>94</th>\n",
       "      <td>Texas</td>\n",
       "      <td>[Phoenix Suns, New Orleans Pelicans, Boston Ce...</td>\n",
       "    </tr>\n",
       "    <tr>\n",
       "      <th>95</th>\n",
       "      <td>Texas A&amp;M</td>\n",
       "      <td>[Milwaukee Bucks, Los Angeles Clippers, Brookl...</td>\n",
       "    </tr>\n",
       "    <tr>\n",
       "      <th>96</th>\n",
       "      <td>UC Santa Barbara</td>\n",
       "      <td>[New Orleans Pelicans, Phoenix Suns]</td>\n",
       "    </tr>\n",
       "    <tr>\n",
       "      <th>97</th>\n",
       "      <td>UCLA</td>\n",
       "      <td>[Sacramento Kings, Minnesota Timberwolves, Gol...</td>\n",
       "    </tr>\n",
       "    <tr>\n",
       "      <th>98</th>\n",
       "      <td>UNLV</td>\n",
       "      <td>[Milwaukee Bucks, Philadelphia 76ers, Detroit ...</td>\n",
       "    </tr>\n",
       "    <tr>\n",
       "      <th>99</th>\n",
       "      <td>USC</td>\n",
       "      <td>[Memphis Grizzlies, Milwaukee Bucks, Orlando M...</td>\n",
       "    </tr>\n",
       "    <tr>\n",
       "      <th>100</th>\n",
       "      <td>Utah</td>\n",
       "      <td>[San Antonio Spurs, Toronto Raptors, Golden St...</td>\n",
       "    </tr>\n",
       "    <tr>\n",
       "      <th>101</th>\n",
       "      <td>Utah Valley</td>\n",
       "      <td>[Phoenix Suns]</td>\n",
       "    </tr>\n",
       "    <tr>\n",
       "      <th>102</th>\n",
       "      <td>Vanderbilt</td>\n",
       "      <td>[Golden State Warriors, Phoenix Suns]</td>\n",
       "    </tr>\n",
       "    <tr>\n",
       "      <th>103</th>\n",
       "      <td>Villanova</td>\n",
       "      <td>[Oklahoma City Thunder, Detroit Pistons, Toron...</td>\n",
       "    </tr>\n",
       "    <tr>\n",
       "      <th>104</th>\n",
       "      <td>Virginia</td>\n",
       "      <td>[Dallas Mavericks, Atlanta Hawks]</td>\n",
       "    </tr>\n",
       "    <tr>\n",
       "      <th>105</th>\n",
       "      <td>Virginia Commonwealth</td>\n",
       "      <td>[Miami Heat, Charlotte Hornets]</td>\n",
       "    </tr>\n",
       "    <tr>\n",
       "      <th>106</th>\n",
       "      <td>Virginia Tech</td>\n",
       "      <td>[Washington Wizards]</td>\n",
       "    </tr>\n",
       "    <tr>\n",
       "      <th>107</th>\n",
       "      <td>Wake Forest</td>\n",
       "      <td>[Philadelphia 76ers, Atlanta Hawks, San Antoni...</td>\n",
       "    </tr>\n",
       "    <tr>\n",
       "      <th>108</th>\n",
       "      <td>Washington</td>\n",
       "      <td>[Charlotte Hornets, New Orleans Pelicans, Bost...</td>\n",
       "    </tr>\n",
       "    <tr>\n",
       "      <th>109</th>\n",
       "      <td>Washington State</td>\n",
       "      <td>[Detroit Pistons, Golden State Warriors]</td>\n",
       "    </tr>\n",
       "    <tr>\n",
       "      <th>110</th>\n",
       "      <td>Weber State</td>\n",
       "      <td>[Portland Trail Blazers]</td>\n",
       "    </tr>\n",
       "    <tr>\n",
       "      <th>111</th>\n",
       "      <td>Westchester CC</td>\n",
       "      <td>[Portland Trail Blazers]</td>\n",
       "    </tr>\n",
       "    <tr>\n",
       "      <th>112</th>\n",
       "      <td>Western Carolina</td>\n",
       "      <td>[San Antonio Spurs]</td>\n",
       "    </tr>\n",
       "    <tr>\n",
       "      <th>113</th>\n",
       "      <td>Western Kentucky</td>\n",
       "      <td>[Dallas Mavericks, Charlotte Hornets]</td>\n",
       "    </tr>\n",
       "    <tr>\n",
       "      <th>114</th>\n",
       "      <td>Western Michigan</td>\n",
       "      <td>[Indiana Pacers]</td>\n",
       "    </tr>\n",
       "    <tr>\n",
       "      <th>115</th>\n",
       "      <td>Wichita State</td>\n",
       "      <td>[New York Knicks]</td>\n",
       "    </tr>\n",
       "    <tr>\n",
       "      <th>116</th>\n",
       "      <td>Wisconsin</td>\n",
       "      <td>[Sacramento Kings, Houston Rockets, Dallas Mav...</td>\n",
       "    </tr>\n",
       "    <tr>\n",
       "      <th>117</th>\n",
       "      <td>Wyoming</td>\n",
       "      <td>[Los Angeles Lakers]</td>\n",
       "    </tr>\n",
       "    <tr>\n",
       "      <th>118</th>\n",
       "      <td>Xavier</td>\n",
       "      <td>[San Antonio Spurs]</td>\n",
       "    </tr>\n",
       "  </tbody>\n",
       "</table>\n",
       "<p>119 rows × 2 columns</p>\n",
       "</div>"
      ],
      "text/plain": [
       "                   COLEGIO                                               TIME\n",
       "0                  Alabama  [Cleveland Cavaliers, New Orleans Pelicans, Me...\n",
       "1                  Arizona  [Philadelphia 76ers, Golden State Warriors, Ph...\n",
       "2            Arizona State            [Los Angeles Clippers, Houston Rockets]\n",
       "3                 Arkansas       [Miami Heat, Chicago Bulls, Houston Rockets]\n",
       "4                   Baylor                                 [Sacramento Kings]\n",
       "5                  Belmont                            [Golden State Warriors]\n",
       "6            Blinn College                                [Memphis Grizzlies]\n",
       "7           Boston College              [Washington Wizards, Detroit Pistons]\n",
       "8        Boston University                                   [Boston Celtics]\n",
       "9            Bowling Green                               [Philadelphia 76ers]\n",
       "10                Bucknell                                    [Atlanta Hawks]\n",
       "11                  Butler                                        [Utah Jazz]\n",
       "12              California  [Portland Trail Blazers, New Orleans Pelicans,...\n",
       "13        Central Michigan                           [Portland Trail Blazers]\n",
       "14              Charleston                                  [Houston Rockets]\n",
       "15              Cincinnati                 [Brooklyn Nets, Memphis Grizzlies]\n",
       "16                 Clemson                       [Utah Jazz, Houston Rockets]\n",
       "17         Cleveland State                             [New Orleans Pelicans]\n",
       "18                Colorado  [Utah Jazz, Detroit Pistons, Oklahoma City Thu...\n",
       "19          Colorado State                                    [Orlando Magic]\n",
       "20             Connecticut  [Sacramento Kings, Dallas Mavericks, Orlando M...\n",
       "21               Creighton    [Detroit Pistons, Chicago Bulls, Atlanta Hawks]\n",
       "22                Davidson                            [Golden State Warriors]\n",
       "23                  Dayton                [Portland Trail Blazers, Utah Jazz]\n",
       "24                  DePaul                                   [Denver Nuggets]\n",
       "25                 Detroit                                [Memphis Grizzlies]\n",
       "26                    Duke  [Philadelphia 76ers, Sacramento Kings, Minneso...\n",
       "27      Eastern Washington                                   [Indiana Pacers]\n",
       "28                 Florida  [Golden State Warriors, Houston Rockets, Dalla...\n",
       "29           Florida State                             [New Orleans Pelicans]\n",
       "..                     ...                                                ...\n",
       "89                Stanford  [Dallas Mavericks, Oklahoma City Thunder, Broo...\n",
       "90                Syracuse  [Philadelphia 76ers, Oklahoma City Thunder, Mi...\n",
       "91                  Temple                                   [Indiana Pacers]\n",
       "92               Tennessee  [Miami Heat, Orlando Magic, Detroit Pistons, C...\n",
       "93         Tennessee State                               [Philadelphia 76ers]\n",
       "94                   Texas  [Phoenix Suns, New Orleans Pelicans, Boston Ce...\n",
       "95               Texas A&M  [Milwaukee Bucks, Los Angeles Clippers, Brookl...\n",
       "96        UC Santa Barbara               [New Orleans Pelicans, Phoenix Suns]\n",
       "97                    UCLA  [Sacramento Kings, Minnesota Timberwolves, Gol...\n",
       "98                    UNLV  [Milwaukee Bucks, Philadelphia 76ers, Detroit ...\n",
       "99                     USC  [Memphis Grizzlies, Milwaukee Bucks, Orlando M...\n",
       "100                   Utah  [San Antonio Spurs, Toronto Raptors, Golden St...\n",
       "101            Utah Valley                                     [Phoenix Suns]\n",
       "102             Vanderbilt              [Golden State Warriors, Phoenix Suns]\n",
       "103              Villanova  [Oklahoma City Thunder, Detroit Pistons, Toron...\n",
       "104               Virginia                  [Dallas Mavericks, Atlanta Hawks]\n",
       "105  Virginia Commonwealth                    [Miami Heat, Charlotte Hornets]\n",
       "106          Virginia Tech                               [Washington Wizards]\n",
       "107            Wake Forest  [Philadelphia 76ers, Atlanta Hawks, San Antoni...\n",
       "108             Washington  [Charlotte Hornets, New Orleans Pelicans, Bost...\n",
       "109       Washington State           [Detroit Pistons, Golden State Warriors]\n",
       "110            Weber State                           [Portland Trail Blazers]\n",
       "111         Westchester CC                           [Portland Trail Blazers]\n",
       "112       Western Carolina                                [San Antonio Spurs]\n",
       "113       Western Kentucky              [Dallas Mavericks, Charlotte Hornets]\n",
       "114       Western Michigan                                   [Indiana Pacers]\n",
       "115          Wichita State                                  [New York Knicks]\n",
       "116              Wisconsin  [Sacramento Kings, Houston Rockets, Dallas Mav...\n",
       "117                Wyoming                               [Los Angeles Lakers]\n",
       "118                 Xavier                                [San Antonio Spurs]\n",
       "\n",
       "[119 rows x 2 columns]"
      ]
     },
     "execution_count": 21,
     "metadata": {},
     "output_type": "execute_result"
    }
   ],
   "source": [
    "df_nba.groupby([\"COLEGIO\"]).TIME.agg(lambda x: list(set(x))).reset_index()"
   ]
  },
  {
   "cell_type": "code",
   "execution_count": 22,
   "metadata": {},
   "outputs": [
    {
     "data": {
      "text/html": [
       "<div>\n",
       "<style scoped>\n",
       "    .dataframe tbody tr th:only-of-type {\n",
       "        vertical-align: middle;\n",
       "    }\n",
       "\n",
       "    .dataframe tbody tr th {\n",
       "        vertical-align: top;\n",
       "    }\n",
       "\n",
       "    .dataframe thead th {\n",
       "        text-align: right;\n",
       "    }\n",
       "</style>\n",
       "<table border=\"1\" class=\"dataframe\">\n",
       "  <thead>\n",
       "    <tr style=\"text-align: right;\">\n",
       "      <th></th>\n",
       "      <th>NOME</th>\n",
       "      <th>TIME</th>\n",
       "      <th>NUMERO</th>\n",
       "      <th>POSICAO</th>\n",
       "      <th>IDADE</th>\n",
       "      <th>ALTURA</th>\n",
       "      <th>PESO</th>\n",
       "      <th>COLEGIO</th>\n",
       "      <th>SALARIO</th>\n",
       "    </tr>\n",
       "  </thead>\n",
       "  <tbody>\n",
       "    <tr>\n",
       "      <th>0</th>\n",
       "      <td>Avery Bradley</td>\n",
       "      <td>Boston Celtics</td>\n",
       "      <td>0.0</td>\n",
       "      <td>PG</td>\n",
       "      <td>25.0</td>\n",
       "      <td>6-2</td>\n",
       "      <td>180.0</td>\n",
       "      <td>Texas</td>\n",
       "      <td>7730337.0</td>\n",
       "    </tr>\n",
       "    <tr>\n",
       "      <th>1</th>\n",
       "      <td>Jae Crowder</td>\n",
       "      <td>Boston Celtics</td>\n",
       "      <td>99.0</td>\n",
       "      <td>SF</td>\n",
       "      <td>25.0</td>\n",
       "      <td>6-6</td>\n",
       "      <td>235.0</td>\n",
       "      <td>Marquette</td>\n",
       "      <td>6796117.0</td>\n",
       "    </tr>\n",
       "    <tr>\n",
       "      <th>2</th>\n",
       "      <td>John Holland</td>\n",
       "      <td>Boston Celtics</td>\n",
       "      <td>30.0</td>\n",
       "      <td>SG</td>\n",
       "      <td>27.0</td>\n",
       "      <td>6-5</td>\n",
       "      <td>205.0</td>\n",
       "      <td>Boston University</td>\n",
       "      <td>0.0</td>\n",
       "    </tr>\n",
       "    <tr>\n",
       "      <th>3</th>\n",
       "      <td>R.J. Hunter</td>\n",
       "      <td>Boston Celtics</td>\n",
       "      <td>28.0</td>\n",
       "      <td>SG</td>\n",
       "      <td>22.0</td>\n",
       "      <td>6-5</td>\n",
       "      <td>185.0</td>\n",
       "      <td>Georgia State</td>\n",
       "      <td>1148640.0</td>\n",
       "    </tr>\n",
       "    <tr>\n",
       "      <th>4</th>\n",
       "      <td>Jonas Jerebko</td>\n",
       "      <td>Boston Celtics</td>\n",
       "      <td>8.0</td>\n",
       "      <td>PF</td>\n",
       "      <td>29.0</td>\n",
       "      <td>6-10</td>\n",
       "      <td>231.0</td>\n",
       "      <td>N/A</td>\n",
       "      <td>5000000.0</td>\n",
       "    </tr>\n",
       "  </tbody>\n",
       "</table>\n",
       "</div>"
      ],
      "text/plain": [
       "            NOME            TIME  NUMERO POSICAO  IDADE ALTURA   PESO  \\\n",
       "0  Avery Bradley  Boston Celtics     0.0      PG   25.0    6-2  180.0   \n",
       "1    Jae Crowder  Boston Celtics    99.0      SF   25.0    6-6  235.0   \n",
       "2   John Holland  Boston Celtics    30.0      SG   27.0    6-5  205.0   \n",
       "3    R.J. Hunter  Boston Celtics    28.0      SG   22.0    6-5  185.0   \n",
       "4  Jonas Jerebko  Boston Celtics     8.0      PF   29.0   6-10  231.0   \n",
       "\n",
       "             COLEGIO    SALARIO  \n",
       "0              Texas  7730337.0  \n",
       "1          Marquette  6796117.0  \n",
       "2  Boston University        0.0  \n",
       "3      Georgia State  1148640.0  \n",
       "4                N/A  5000000.0  "
      ]
     },
     "execution_count": 22,
     "metadata": {},
     "output_type": "execute_result"
    }
   ],
   "source": [
    "df_nba.head()"
   ]
  },
  {
   "cell_type": "markdown",
   "metadata": {},
   "source": [
    "### Sumarizações de Dados"
   ]
  },
  {
   "cell_type": "code",
   "execution_count": 23,
   "metadata": {},
   "outputs": [],
   "source": [
    "#Validando o valor total dos salários dos jogadores por colégio\n",
    "total_salarios = df_nba.groupby([\"COLEGIO\"]).SALARIO.agg('sum').to_frame('TOTAL_SALARIO_COLEGIO')"
   ]
  },
  {
   "cell_type": "code",
   "execution_count": 24,
   "metadata": {},
   "outputs": [],
   "source": [
    "total_salarios[\"TOTAL_SALARIO_COLEGIO\"] = total_salarios[\"TOTAL_SALARIO_COLEGIO\"].apply(lambda x: \"${:.1f}k\".format((x/1000)))"
   ]
  },
  {
   "cell_type": "code",
   "execution_count": 25,
   "metadata": {},
   "outputs": [
    {
     "data": {
      "text/html": [
       "<div>\n",
       "<style scoped>\n",
       "    .dataframe tbody tr th:only-of-type {\n",
       "        vertical-align: middle;\n",
       "    }\n",
       "\n",
       "    .dataframe tbody tr th {\n",
       "        vertical-align: top;\n",
       "    }\n",
       "\n",
       "    .dataframe thead th {\n",
       "        text-align: right;\n",
       "    }\n",
       "</style>\n",
       "<table border=\"1\" class=\"dataframe\">\n",
       "  <thead>\n",
       "    <tr style=\"text-align: right;\">\n",
       "      <th></th>\n",
       "      <th>TOTAL_SALARIO_COLEGIO</th>\n",
       "    </tr>\n",
       "    <tr>\n",
       "      <th>COLEGIO</th>\n",
       "      <th></th>\n",
       "    </tr>\n",
       "  </thead>\n",
       "  <tbody>\n",
       "    <tr>\n",
       "      <th>Alabama</th>\n",
       "      <td>$4265.1k</td>\n",
       "    </tr>\n",
       "    <tr>\n",
       "      <th>Arizona</th>\n",
       "      <td>$43237.3k</td>\n",
       "    </tr>\n",
       "    <tr>\n",
       "      <th>Arizona State</th>\n",
       "      <td>$15867.9k</td>\n",
       "    </tr>\n",
       "    <tr>\n",
       "      <th>Arkansas</th>\n",
       "      <td>$8139.5k</td>\n",
       "    </tr>\n",
       "    <tr>\n",
       "      <th>Baylor</th>\n",
       "      <td>$981.3k</td>\n",
       "    </tr>\n",
       "    <tr>\n",
       "      <th>Belmont</th>\n",
       "      <td>$947.3k</td>\n",
       "    </tr>\n",
       "    <tr>\n",
       "      <th>Blinn College</th>\n",
       "      <td>$5000.0k</td>\n",
       "    </tr>\n",
       "    <tr>\n",
       "      <th>Boston College</th>\n",
       "      <td>$18288.0k</td>\n",
       "    </tr>\n",
       "    <tr>\n",
       "      <th>Boston University</th>\n",
       "      <td>$0.0k</td>\n",
       "    </tr>\n",
       "    <tr>\n",
       "      <th>Bowling Green</th>\n",
       "      <td>$1074.2k</td>\n",
       "    </tr>\n",
       "    <tr>\n",
       "      <th>Bucknell</th>\n",
       "      <td>$947.3k</td>\n",
       "    </tr>\n",
       "    <tr>\n",
       "      <th>Butler</th>\n",
       "      <td>$17842.9k</td>\n",
       "    </tr>\n",
       "    <tr>\n",
       "      <th>California</th>\n",
       "      <td>$9636.7k</td>\n",
       "    </tr>\n",
       "    <tr>\n",
       "      <th>Central Michigan</th>\n",
       "      <td>$5016.0k</td>\n",
       "    </tr>\n",
       "    <tr>\n",
       "      <th>Charleston</th>\n",
       "      <td>$200.6k</td>\n",
       "    </tr>\n",
       "    <tr>\n",
       "      <th>Cincinnati</th>\n",
       "      <td>$9134.2k</td>\n",
       "    </tr>\n",
       "    <tr>\n",
       "      <th>Clemson</th>\n",
       "      <td>$7964.8k</td>\n",
       "    </tr>\n",
       "    <tr>\n",
       "      <th>Cleveland State</th>\n",
       "      <td>$3036.9k</td>\n",
       "    </tr>\n",
       "    <tr>\n",
       "      <th>Colorado</th>\n",
       "      <td>$11519.3k</td>\n",
       "    </tr>\n",
       "    <tr>\n",
       "      <th>Colorado State</th>\n",
       "      <td>$4300.0k</td>\n",
       "    </tr>\n",
       "    <tr>\n",
       "      <th>Connecticut</th>\n",
       "      <td>$34400.5k</td>\n",
       "    </tr>\n",
       "    <tr>\n",
       "      <th>Creighton</th>\n",
       "      <td>$11126.9k</td>\n",
       "    </tr>\n",
       "    <tr>\n",
       "      <th>Davidson</th>\n",
       "      <td>$11370.8k</td>\n",
       "    </tr>\n",
       "    <tr>\n",
       "      <th>Dayton</th>\n",
       "      <td>$3836.3k</td>\n",
       "    </tr>\n",
       "    <tr>\n",
       "      <th>DePaul</th>\n",
       "      <td>$10449.4k</td>\n",
       "    </tr>\n",
       "    <tr>\n",
       "      <th>Detroit</th>\n",
       "      <td>$0.0k</td>\n",
       "    </tr>\n",
       "    <tr>\n",
       "      <th>Duke</th>\n",
       "      <td>$79979.2k</td>\n",
       "    </tr>\n",
       "    <tr>\n",
       "      <th>Eastern Washington</th>\n",
       "      <td>$7000.0k</td>\n",
       "    </tr>\n",
       "    <tr>\n",
       "      <th>Florida</th>\n",
       "      <td>$65335.7k</td>\n",
       "    </tr>\n",
       "    <tr>\n",
       "      <th>Florida State</th>\n",
       "      <td>$1164.9k</td>\n",
       "    </tr>\n",
       "  </tbody>\n",
       "</table>\n",
       "</div>"
      ],
      "text/plain": [
       "                   TOTAL_SALARIO_COLEGIO\n",
       "COLEGIO                                 \n",
       "Alabama                         $4265.1k\n",
       "Arizona                        $43237.3k\n",
       "Arizona State                  $15867.9k\n",
       "Arkansas                        $8139.5k\n",
       "Baylor                           $981.3k\n",
       "Belmont                          $947.3k\n",
       "Blinn College                   $5000.0k\n",
       "Boston College                 $18288.0k\n",
       "Boston University                  $0.0k\n",
       "Bowling Green                   $1074.2k\n",
       "Bucknell                         $947.3k\n",
       "Butler                         $17842.9k\n",
       "California                      $9636.7k\n",
       "Central Michigan                $5016.0k\n",
       "Charleston                       $200.6k\n",
       "Cincinnati                      $9134.2k\n",
       "Clemson                         $7964.8k\n",
       "Cleveland State                 $3036.9k\n",
       "Colorado                       $11519.3k\n",
       "Colorado State                  $4300.0k\n",
       "Connecticut                    $34400.5k\n",
       "Creighton                      $11126.9k\n",
       "Davidson                       $11370.8k\n",
       "Dayton                          $3836.3k\n",
       "DePaul                         $10449.4k\n",
       "Detroit                            $0.0k\n",
       "Duke                           $79979.2k\n",
       "Eastern Washington              $7000.0k\n",
       "Florida                        $65335.7k\n",
       "Florida State                   $1164.9k"
      ]
     },
     "execution_count": 25,
     "metadata": {},
     "output_type": "execute_result"
    }
   ],
   "source": [
    "total_salarios.head(30)"
   ]
  },
  {
   "cell_type": "code",
   "execution_count": 26,
   "metadata": {},
   "outputs": [
    {
     "data": {
      "text/html": [
       "<div>\n",
       "<style scoped>\n",
       "    .dataframe tbody tr th:only-of-type {\n",
       "        vertical-align: middle;\n",
       "    }\n",
       "\n",
       "    .dataframe tbody tr th {\n",
       "        vertical-align: top;\n",
       "    }\n",
       "\n",
       "    .dataframe thead th {\n",
       "        text-align: right;\n",
       "    }\n",
       "</style>\n",
       "<table border=\"1\" class=\"dataframe\">\n",
       "  <thead>\n",
       "    <tr style=\"text-align: right;\">\n",
       "      <th></th>\n",
       "      <th>MEDIA_IDADE</th>\n",
       "    </tr>\n",
       "    <tr>\n",
       "      <th>TIME</th>\n",
       "      <th></th>\n",
       "    </tr>\n",
       "  </thead>\n",
       "  <tbody>\n",
       "    <tr>\n",
       "      <th>Atlanta Hawks</th>\n",
       "      <td>28</td>\n",
       "    </tr>\n",
       "    <tr>\n",
       "      <th>Boston Celtics</th>\n",
       "      <td>24</td>\n",
       "    </tr>\n",
       "    <tr>\n",
       "      <th>Brooklyn Nets</th>\n",
       "      <td>25</td>\n",
       "    </tr>\n",
       "    <tr>\n",
       "      <th>Charlotte Hornets</th>\n",
       "      <td>26</td>\n",
       "    </tr>\n",
       "    <tr>\n",
       "      <th>Chicago Bulls</th>\n",
       "      <td>27</td>\n",
       "    </tr>\n",
       "    <tr>\n",
       "      <th>Cleveland Cavaliers</th>\n",
       "      <td>29</td>\n",
       "    </tr>\n",
       "    <tr>\n",
       "      <th>Dallas Mavericks</th>\n",
       "      <td>29</td>\n",
       "    </tr>\n",
       "    <tr>\n",
       "      <th>Denver Nuggets</th>\n",
       "      <td>25</td>\n",
       "    </tr>\n",
       "    <tr>\n",
       "      <th>Detroit Pistons</th>\n",
       "      <td>26</td>\n",
       "    </tr>\n",
       "    <tr>\n",
       "      <th>Golden State Warriors</th>\n",
       "      <td>27</td>\n",
       "    </tr>\n",
       "    <tr>\n",
       "      <th>Houston Rockets</th>\n",
       "      <td>26</td>\n",
       "    </tr>\n",
       "    <tr>\n",
       "      <th>Indiana Pacers</th>\n",
       "      <td>26</td>\n",
       "    </tr>\n",
       "    <tr>\n",
       "      <th>Los Angeles Clippers</th>\n",
       "      <td>29</td>\n",
       "    </tr>\n",
       "    <tr>\n",
       "      <th>Los Angeles Lakers</th>\n",
       "      <td>27</td>\n",
       "    </tr>\n",
       "    <tr>\n",
       "      <th>Memphis Grizzlies</th>\n",
       "      <td>28</td>\n",
       "    </tr>\n",
       "    <tr>\n",
       "      <th>Miami Heat</th>\n",
       "      <td>28</td>\n",
       "    </tr>\n",
       "    <tr>\n",
       "      <th>Milwaukee Bucks</th>\n",
       "      <td>24</td>\n",
       "    </tr>\n",
       "    <tr>\n",
       "      <th>Minnesota Timberwolves</th>\n",
       "      <td>26</td>\n",
       "    </tr>\n",
       "    <tr>\n",
       "      <th>New Orleans Pelicans</th>\n",
       "      <td>26</td>\n",
       "    </tr>\n",
       "    <tr>\n",
       "      <th>New York Knicks</th>\n",
       "      <td>27</td>\n",
       "    </tr>\n",
       "    <tr>\n",
       "      <th>Oklahoma City Thunder</th>\n",
       "      <td>27</td>\n",
       "    </tr>\n",
       "    <tr>\n",
       "      <th>Orlando Magic</th>\n",
       "      <td>25</td>\n",
       "    </tr>\n",
       "    <tr>\n",
       "      <th>Philadelphia 76ers</th>\n",
       "      <td>24</td>\n",
       "    </tr>\n",
       "    <tr>\n",
       "      <th>Phoenix Suns</th>\n",
       "      <td>25</td>\n",
       "    </tr>\n",
       "    <tr>\n",
       "      <th>Portland Trail Blazers</th>\n",
       "      <td>25</td>\n",
       "    </tr>\n",
       "    <tr>\n",
       "      <th>Sacramento Kings</th>\n",
       "      <td>26</td>\n",
       "    </tr>\n",
       "    <tr>\n",
       "      <th>San Antonio Spurs</th>\n",
       "      <td>31</td>\n",
       "    </tr>\n",
       "    <tr>\n",
       "      <th>Toronto Raptors</th>\n",
       "      <td>26</td>\n",
       "    </tr>\n",
       "    <tr>\n",
       "      <th>Utah Jazz</th>\n",
       "      <td>24</td>\n",
       "    </tr>\n",
       "    <tr>\n",
       "      <th>Washington Wizards</th>\n",
       "      <td>27</td>\n",
       "    </tr>\n",
       "  </tbody>\n",
       "</table>\n",
       "</div>"
      ],
      "text/plain": [
       "                        MEDIA_IDADE\n",
       "TIME                               \n",
       "Atlanta Hawks                    28\n",
       "Boston Celtics                   24\n",
       "Brooklyn Nets                    25\n",
       "Charlotte Hornets                26\n",
       "Chicago Bulls                    27\n",
       "Cleveland Cavaliers              29\n",
       "Dallas Mavericks                 29\n",
       "Denver Nuggets                   25\n",
       "Detroit Pistons                  26\n",
       "Golden State Warriors            27\n",
       "Houston Rockets                  26\n",
       "Indiana Pacers                   26\n",
       "Los Angeles Clippers             29\n",
       "Los Angeles Lakers               27\n",
       "Memphis Grizzlies                28\n",
       "Miami Heat                       28\n",
       "Milwaukee Bucks                  24\n",
       "Minnesota Timberwolves           26\n",
       "New Orleans Pelicans             26\n",
       "New York Knicks                  27\n",
       "Oklahoma City Thunder            27\n",
       "Orlando Magic                    25\n",
       "Philadelphia 76ers               24\n",
       "Phoenix Suns                     25\n",
       "Portland Trail Blazers           25\n",
       "Sacramento Kings                 26\n",
       "San Antonio Spurs                31\n",
       "Toronto Raptors                  26\n",
       "Utah Jazz                        24\n",
       "Washington Wizards               27"
      ]
     },
     "execution_count": 26,
     "metadata": {},
     "output_type": "execute_result"
    }
   ],
   "source": [
    "#Validando a Média de Idade dos times\n",
    "df_nba.groupby([\"TIME\"]).IDADE.agg('mean').to_frame('MEDIA_IDADE').astype(int)"
   ]
  },
  {
   "cell_type": "markdown",
   "metadata": {},
   "source": [
    "### Dimensionamento e Disponibilização de Dados"
   ]
  },
  {
   "cell_type": "code",
   "execution_count": 27,
   "metadata": {},
   "outputs": [
    {
     "data": {
      "text/html": [
       "<div>\n",
       "<style scoped>\n",
       "    .dataframe tbody tr th:only-of-type {\n",
       "        vertical-align: middle;\n",
       "    }\n",
       "\n",
       "    .dataframe tbody tr th {\n",
       "        vertical-align: top;\n",
       "    }\n",
       "\n",
       "    .dataframe thead th {\n",
       "        text-align: right;\n",
       "    }\n",
       "</style>\n",
       "<table border=\"1\" class=\"dataframe\">\n",
       "  <thead>\n",
       "    <tr style=\"text-align: right;\">\n",
       "      <th></th>\n",
       "      <th>NOME</th>\n",
       "      <th>TIME</th>\n",
       "      <th>NUMERO</th>\n",
       "      <th>POSICAO</th>\n",
       "      <th>IDADE</th>\n",
       "      <th>ALTURA</th>\n",
       "      <th>PESO</th>\n",
       "      <th>COLEGIO</th>\n",
       "      <th>SALARIO</th>\n",
       "    </tr>\n",
       "  </thead>\n",
       "  <tbody>\n",
       "    <tr>\n",
       "      <th>0</th>\n",
       "      <td>Avery Bradley</td>\n",
       "      <td>Boston Celtics</td>\n",
       "      <td>0.0</td>\n",
       "      <td>PG</td>\n",
       "      <td>25.0</td>\n",
       "      <td>6-2</td>\n",
       "      <td>180.0</td>\n",
       "      <td>Texas</td>\n",
       "      <td>7730337.0</td>\n",
       "    </tr>\n",
       "    <tr>\n",
       "      <th>1</th>\n",
       "      <td>Jae Crowder</td>\n",
       "      <td>Boston Celtics</td>\n",
       "      <td>99.0</td>\n",
       "      <td>SF</td>\n",
       "      <td>25.0</td>\n",
       "      <td>6-6</td>\n",
       "      <td>235.0</td>\n",
       "      <td>Marquette</td>\n",
       "      <td>6796117.0</td>\n",
       "    </tr>\n",
       "    <tr>\n",
       "      <th>2</th>\n",
       "      <td>John Holland</td>\n",
       "      <td>Boston Celtics</td>\n",
       "      <td>30.0</td>\n",
       "      <td>SG</td>\n",
       "      <td>27.0</td>\n",
       "      <td>6-5</td>\n",
       "      <td>205.0</td>\n",
       "      <td>Boston University</td>\n",
       "      <td>0.0</td>\n",
       "    </tr>\n",
       "    <tr>\n",
       "      <th>3</th>\n",
       "      <td>R.J. Hunter</td>\n",
       "      <td>Boston Celtics</td>\n",
       "      <td>28.0</td>\n",
       "      <td>SG</td>\n",
       "      <td>22.0</td>\n",
       "      <td>6-5</td>\n",
       "      <td>185.0</td>\n",
       "      <td>Georgia State</td>\n",
       "      <td>1148640.0</td>\n",
       "    </tr>\n",
       "    <tr>\n",
       "      <th>4</th>\n",
       "      <td>Jonas Jerebko</td>\n",
       "      <td>Boston Celtics</td>\n",
       "      <td>8.0</td>\n",
       "      <td>PF</td>\n",
       "      <td>29.0</td>\n",
       "      <td>6-10</td>\n",
       "      <td>231.0</td>\n",
       "      <td>N/A</td>\n",
       "      <td>5000000.0</td>\n",
       "    </tr>\n",
       "    <tr>\n",
       "      <th>5</th>\n",
       "      <td>Amir Johnson</td>\n",
       "      <td>Boston Celtics</td>\n",
       "      <td>90.0</td>\n",
       "      <td>PF</td>\n",
       "      <td>29.0</td>\n",
       "      <td>6-9</td>\n",
       "      <td>240.0</td>\n",
       "      <td>N/A</td>\n",
       "      <td>12000000.0</td>\n",
       "    </tr>\n",
       "    <tr>\n",
       "      <th>6</th>\n",
       "      <td>Jordan Mickey</td>\n",
       "      <td>Boston Celtics</td>\n",
       "      <td>55.0</td>\n",
       "      <td>PF</td>\n",
       "      <td>21.0</td>\n",
       "      <td>6-8</td>\n",
       "      <td>235.0</td>\n",
       "      <td>LSU</td>\n",
       "      <td>1170960.0</td>\n",
       "    </tr>\n",
       "    <tr>\n",
       "      <th>7</th>\n",
       "      <td>Kelly Olynyk</td>\n",
       "      <td>Boston Celtics</td>\n",
       "      <td>41.0</td>\n",
       "      <td>C</td>\n",
       "      <td>25.0</td>\n",
       "      <td>7-0</td>\n",
       "      <td>238.0</td>\n",
       "      <td>Gonzaga</td>\n",
       "      <td>2165160.0</td>\n",
       "    </tr>\n",
       "    <tr>\n",
       "      <th>8</th>\n",
       "      <td>Terry Rozier</td>\n",
       "      <td>Boston Celtics</td>\n",
       "      <td>12.0</td>\n",
       "      <td>PG</td>\n",
       "      <td>22.0</td>\n",
       "      <td>6-2</td>\n",
       "      <td>190.0</td>\n",
       "      <td>Louisville</td>\n",
       "      <td>1824360.0</td>\n",
       "    </tr>\n",
       "    <tr>\n",
       "      <th>9</th>\n",
       "      <td>Marcus Smart</td>\n",
       "      <td>Boston Celtics</td>\n",
       "      <td>36.0</td>\n",
       "      <td>PG</td>\n",
       "      <td>22.0</td>\n",
       "      <td>6-4</td>\n",
       "      <td>220.0</td>\n",
       "      <td>Oklahoma State</td>\n",
       "      <td>3431040.0</td>\n",
       "    </tr>\n",
       "  </tbody>\n",
       "</table>\n",
       "</div>"
      ],
      "text/plain": [
       "            NOME            TIME  NUMERO POSICAO  IDADE ALTURA   PESO  \\\n",
       "0  Avery Bradley  Boston Celtics     0.0      PG   25.0    6-2  180.0   \n",
       "1    Jae Crowder  Boston Celtics    99.0      SF   25.0    6-6  235.0   \n",
       "2   John Holland  Boston Celtics    30.0      SG   27.0    6-5  205.0   \n",
       "3    R.J. Hunter  Boston Celtics    28.0      SG   22.0    6-5  185.0   \n",
       "4  Jonas Jerebko  Boston Celtics     8.0      PF   29.0   6-10  231.0   \n",
       "5   Amir Johnson  Boston Celtics    90.0      PF   29.0    6-9  240.0   \n",
       "6  Jordan Mickey  Boston Celtics    55.0      PF   21.0    6-8  235.0   \n",
       "7   Kelly Olynyk  Boston Celtics    41.0       C   25.0    7-0  238.0   \n",
       "8   Terry Rozier  Boston Celtics    12.0      PG   22.0    6-2  190.0   \n",
       "9   Marcus Smart  Boston Celtics    36.0      PG   22.0    6-4  220.0   \n",
       "\n",
       "             COLEGIO     SALARIO  \n",
       "0              Texas   7730337.0  \n",
       "1          Marquette   6796117.0  \n",
       "2  Boston University         0.0  \n",
       "3      Georgia State   1148640.0  \n",
       "4                N/A   5000000.0  \n",
       "5                N/A  12000000.0  \n",
       "6                LSU   1170960.0  \n",
       "7            Gonzaga   2165160.0  \n",
       "8         Louisville   1824360.0  \n",
       "9     Oklahoma State   3431040.0  "
      ]
     },
     "execution_count": 27,
     "metadata": {},
     "output_type": "execute_result"
    }
   ],
   "source": [
    "df_nba.head(10)"
   ]
  },
  {
   "cell_type": "code",
   "execution_count": 28,
   "metadata": {},
   "outputs": [],
   "source": [
    "def my_agg(x):\n",
    "    columns = {\n",
    "        'TIME': x['TIME'].values,\n",
    "        'IDADE_MEDIA': x['IDADE'].mean(),\n",
    "        'ALTURA_MAXIMA': x['ALTURA'].max(),\n",
    "        'PESO_MINIMO': x['PESO'].min(),\n",
    "        'SOMA_FOLHA': x['SALARIO'].sum()\n",
    "        }\n",
    "\n",
    "    return pd.Series(columns, index=[\n",
    "           'TIME',\n",
    "           'IDADE_MEDIA',\n",
    "           'ALTURA_MAXIMA',\n",
    "           'PESO_MINIMO',\n",
    "           'SOMA_FOLHA'\n",
    "    ])\n"
   ]
  },
  {
   "cell_type": "code",
   "execution_count": 29,
   "metadata": {},
   "outputs": [
    {
     "data": {
      "text/html": [
       "<div>\n",
       "<style scoped>\n",
       "    .dataframe tbody tr th:only-of-type {\n",
       "        vertical-align: middle;\n",
       "    }\n",
       "\n",
       "    .dataframe tbody tr th {\n",
       "        vertical-align: top;\n",
       "    }\n",
       "\n",
       "    .dataframe thead th {\n",
       "        text-align: right;\n",
       "    }\n",
       "</style>\n",
       "<table border=\"1\" class=\"dataframe\">\n",
       "  <thead>\n",
       "    <tr style=\"text-align: right;\">\n",
       "      <th></th>\n",
       "      <th></th>\n",
       "      <th>TIME</th>\n",
       "      <th>IDADE_MEDIA</th>\n",
       "      <th>ALTURA_MAXIMA</th>\n",
       "      <th>PESO_MINIMO</th>\n",
       "      <th>SOMA_FOLHA</th>\n",
       "    </tr>\n",
       "    <tr>\n",
       "      <th>COLEGIO</th>\n",
       "      <th>TIME</th>\n",
       "      <th></th>\n",
       "      <th></th>\n",
       "      <th></th>\n",
       "      <th></th>\n",
       "      <th></th>\n",
       "    </tr>\n",
       "  </thead>\n",
       "  <tbody>\n",
       "    <tr>\n",
       "      <th rowspan=\"3\" valign=\"top\">Alabama</th>\n",
       "      <th>Cleveland Cavaliers</th>\n",
       "      <td>[Cleveland Cavaliers]</td>\n",
       "      <td>33.0</td>\n",
       "      <td>6-1</td>\n",
       "      <td>198.0</td>\n",
       "      <td>2100000.0</td>\n",
       "    </tr>\n",
       "    <tr>\n",
       "      <th>Memphis Grizzlies</th>\n",
       "      <td>[Memphis Grizzlies]</td>\n",
       "      <td>25.0</td>\n",
       "      <td>6-9</td>\n",
       "      <td>227.0</td>\n",
       "      <td>845059.0</td>\n",
       "    </tr>\n",
       "    <tr>\n",
       "      <th>New Orleans Pelicans</th>\n",
       "      <td>[New Orleans Pelicans]</td>\n",
       "      <td>29.0</td>\n",
       "      <td>6-6</td>\n",
       "      <td>225.0</td>\n",
       "      <td>1320000.0</td>\n",
       "    </tr>\n",
       "    <tr>\n",
       "      <th rowspan=\"11\" valign=\"top\">Arizona</th>\n",
       "      <th>Brooklyn Nets</th>\n",
       "      <td>[Brooklyn Nets]</td>\n",
       "      <td>21.0</td>\n",
       "      <td>6-7</td>\n",
       "      <td>220.0</td>\n",
       "      <td>1335480.0</td>\n",
       "    </tr>\n",
       "    <tr>\n",
       "      <th>Cleveland Cavaliers</th>\n",
       "      <td>[Cleveland Cavaliers, Cleveland Cavaliers]</td>\n",
       "      <td>34.0</td>\n",
       "      <td>6-7</td>\n",
       "      <td>233.0</td>\n",
       "      <td>9140305.0</td>\n",
       "    </tr>\n",
       "    <tr>\n",
       "      <th>Detroit Pistons</th>\n",
       "      <td>[Detroit Pistons]</td>\n",
       "      <td>20.0</td>\n",
       "      <td>6-7</td>\n",
       "      <td>245.0</td>\n",
       "      <td>2841960.0</td>\n",
       "    </tr>\n",
       "    <tr>\n",
       "      <th>Golden State Warriors</th>\n",
       "      <td>[Golden State Warriors]</td>\n",
       "      <td>32.0</td>\n",
       "      <td>6-6</td>\n",
       "      <td>215.0</td>\n",
       "      <td>11710456.0</td>\n",
       "    </tr>\n",
       "    <tr>\n",
       "      <th>Houston Rockets</th>\n",
       "      <td>[Houston Rockets]</td>\n",
       "      <td>38.0</td>\n",
       "      <td>6-2</td>\n",
       "      <td>185.0</td>\n",
       "      <td>947276.0</td>\n",
       "    </tr>\n",
       "    <tr>\n",
       "      <th>Indiana Pacers</th>\n",
       "      <td>[Indiana Pacers, Indiana Pacers]</td>\n",
       "      <td>26.5</td>\n",
       "      <td>6-7</td>\n",
       "      <td>225.0</td>\n",
       "      <td>5358880.0</td>\n",
       "    </tr>\n",
       "    <tr>\n",
       "      <th>Milwaukee Bucks</th>\n",
       "      <td>[Milwaukee Bucks]</td>\n",
       "      <td>27.0</td>\n",
       "      <td>6-3</td>\n",
       "      <td>200.0</td>\n",
       "      <td>3000000.0</td>\n",
       "    </tr>\n",
       "    <tr>\n",
       "      <th>New York Knicks</th>\n",
       "      <td>[New York Knicks]</td>\n",
       "      <td>25.0</td>\n",
       "      <td>6-8</td>\n",
       "      <td>240.0</td>\n",
       "      <td>4000000.0</td>\n",
       "    </tr>\n",
       "    <tr>\n",
       "      <th>Orlando Magic</th>\n",
       "      <td>[Orlando Magic]</td>\n",
       "      <td>20.0</td>\n",
       "      <td>6-9</td>\n",
       "      <td>220.0</td>\n",
       "      <td>4171680.0</td>\n",
       "    </tr>\n",
       "    <tr>\n",
       "      <th>Philadelphia 76ers</th>\n",
       "      <td>[Philadelphia 76ers]</td>\n",
       "      <td>24.0</td>\n",
       "      <td>6-2</td>\n",
       "      <td>200.0</td>\n",
       "      <td>525093.0</td>\n",
       "    </tr>\n",
       "    <tr>\n",
       "      <th>Phoenix Suns</th>\n",
       "      <td>[Phoenix Suns]</td>\n",
       "      <td>28.0</td>\n",
       "      <td>6-7</td>\n",
       "      <td>209.0</td>\n",
       "      <td>206192.0</td>\n",
       "    </tr>\n",
       "    <tr>\n",
       "      <th rowspan=\"2\" valign=\"top\">Arizona State</th>\n",
       "      <th>Houston Rockets</th>\n",
       "      <td>[Houston Rockets]</td>\n",
       "      <td>26.0</td>\n",
       "      <td>6-5</td>\n",
       "      <td>220.0</td>\n",
       "      <td>15756438.0</td>\n",
       "    </tr>\n",
       "    <tr>\n",
       "      <th>Los Angeles Clippers</th>\n",
       "      <td>[Los Angeles Clippers]</td>\n",
       "      <td>29.0</td>\n",
       "      <td>6-9</td>\n",
       "      <td>250.0</td>\n",
       "      <td>111444.0</td>\n",
       "    </tr>\n",
       "    <tr>\n",
       "      <th rowspan=\"3\" valign=\"top\">Arkansas</th>\n",
       "      <th>Chicago Bulls</th>\n",
       "      <td>[Chicago Bulls]</td>\n",
       "      <td>21.0</td>\n",
       "      <td>6-11</td>\n",
       "      <td>230.0</td>\n",
       "      <td>1391160.0</td>\n",
       "    </tr>\n",
       "    <tr>\n",
       "      <th>Houston Rockets</th>\n",
       "      <td>[Houston Rockets]</td>\n",
       "      <td>27.0</td>\n",
       "      <td>6-1</td>\n",
       "      <td>185.0</td>\n",
       "      <td>6486486.0</td>\n",
       "    </tr>\n",
       "    <tr>\n",
       "      <th>Miami Heat</th>\n",
       "      <td>[Miami Heat]</td>\n",
       "      <td>34.0</td>\n",
       "      <td>6-7</td>\n",
       "      <td>240.0</td>\n",
       "      <td>261894.0</td>\n",
       "    </tr>\n",
       "    <tr>\n",
       "      <th>Baylor</th>\n",
       "      <th>Sacramento Kings</th>\n",
       "      <td>[Sacramento Kings]</td>\n",
       "      <td>25.0</td>\n",
       "      <td>6-7</td>\n",
       "      <td>240.0</td>\n",
       "      <td>981348.0</td>\n",
       "    </tr>\n",
       "    <tr>\n",
       "      <th>Belmont</th>\n",
       "      <th>Golden State Warriors</th>\n",
       "      <td>[Golden State Warriors]</td>\n",
       "      <td>25.0</td>\n",
       "      <td>6-3</td>\n",
       "      <td>175.0</td>\n",
       "      <td>947276.0</td>\n",
       "    </tr>\n",
       "    <tr>\n",
       "      <th>Blinn College</th>\n",
       "      <th>Memphis Grizzlies</th>\n",
       "      <td>[Memphis Grizzlies]</td>\n",
       "      <td>37.0</td>\n",
       "      <td>6-10</td>\n",
       "      <td>245.0</td>\n",
       "      <td>5000000.0</td>\n",
       "    </tr>\n",
       "    <tr>\n",
       "      <th rowspan=\"2\" valign=\"top\">Boston College</th>\n",
       "      <th>Detroit Pistons</th>\n",
       "      <td>[Detroit Pistons]</td>\n",
       "      <td>26.0</td>\n",
       "      <td>6-3</td>\n",
       "      <td>208.0</td>\n",
       "      <td>13913044.0</td>\n",
       "    </tr>\n",
       "    <tr>\n",
       "      <th>Washington Wizards</th>\n",
       "      <td>[Washington Wizards]</td>\n",
       "      <td>30.0</td>\n",
       "      <td>6-7</td>\n",
       "      <td>225.0</td>\n",
       "      <td>4375000.0</td>\n",
       "    </tr>\n",
       "    <tr>\n",
       "      <th>Boston University</th>\n",
       "      <th>Boston Celtics</th>\n",
       "      <td>[Boston Celtics]</td>\n",
       "      <td>27.0</td>\n",
       "      <td>6-5</td>\n",
       "      <td>205.0</td>\n",
       "      <td>0.0</td>\n",
       "    </tr>\n",
       "    <tr>\n",
       "      <th>Bowling Green</th>\n",
       "      <th>Philadelphia 76ers</th>\n",
       "      <td>[Philadelphia 76ers]</td>\n",
       "      <td>22.0</td>\n",
       "      <td>6-10</td>\n",
       "      <td>245.0</td>\n",
       "      <td>1074169.0</td>\n",
       "    </tr>\n",
       "    <tr>\n",
       "      <th>Bucknell</th>\n",
       "      <th>Atlanta Hawks</th>\n",
       "      <td>[Atlanta Hawks]</td>\n",
       "      <td>24.0</td>\n",
       "      <td>6-11</td>\n",
       "      <td>240.0</td>\n",
       "      <td>947276.0</td>\n",
       "    </tr>\n",
       "    <tr>\n",
       "      <th>Butler</th>\n",
       "      <th>Utah Jazz</th>\n",
       "      <td>[Utah Jazz, Utah Jazz]</td>\n",
       "      <td>26.0</td>\n",
       "      <td>6-8</td>\n",
       "      <td>203.0</td>\n",
       "      <td>17842903.0</td>\n",
       "    </tr>\n",
       "    <tr>\n",
       "      <th rowspan=\"2\" valign=\"top\">California</th>\n",
       "      <th>Charlotte Hornets</th>\n",
       "      <td>[Charlotte Hornets]</td>\n",
       "      <td>27.0</td>\n",
       "      <td>6-3</td>\n",
       "      <td>189.0</td>\n",
       "      <td>189455.0</td>\n",
       "    </tr>\n",
       "    <tr>\n",
       "      <th>New Orleans Pelicans</th>\n",
       "      <td>[New Orleans Pelicans]</td>\n",
       "      <td>28.0</td>\n",
       "      <td>6-10</td>\n",
       "      <td>240.0</td>\n",
       "      <td>8500000.0</td>\n",
       "    </tr>\n",
       "    <tr>\n",
       "      <th>...</th>\n",
       "      <th>...</th>\n",
       "      <td>...</td>\n",
       "      <td>...</td>\n",
       "      <td>...</td>\n",
       "      <td>...</td>\n",
       "      <td>...</td>\n",
       "    </tr>\n",
       "    <tr>\n",
       "      <th>Virginia Tech</th>\n",
       "      <th>Washington Wizards</th>\n",
       "      <td>[Washington Wizards]</td>\n",
       "      <td>24.0</td>\n",
       "      <td>6-7</td>\n",
       "      <td>218.0</td>\n",
       "      <td>561716.0</td>\n",
       "    </tr>\n",
       "    <tr>\n",
       "      <th rowspan=\"6\" valign=\"top\">Wake Forest</th>\n",
       "      <th>Atlanta Hawks</th>\n",
       "      <td>[Atlanta Hawks]</td>\n",
       "      <td>27.0</td>\n",
       "      <td>6-2</td>\n",
       "      <td>186.0</td>\n",
       "      <td>8000000.0</td>\n",
       "    </tr>\n",
       "    <tr>\n",
       "      <th>Los Angeles Clippers</th>\n",
       "      <td>[Los Angeles Clippers]</td>\n",
       "      <td>31.0</td>\n",
       "      <td>6-0</td>\n",
       "      <td>175.0</td>\n",
       "      <td>21468695.0</td>\n",
       "    </tr>\n",
       "    <tr>\n",
       "      <th>Philadelphia 76ers</th>\n",
       "      <td>[Philadelphia 76ers]</td>\n",
       "      <td>27.0</td>\n",
       "      <td>6-0</td>\n",
       "      <td>175.0</td>\n",
       "      <td>947276.0</td>\n",
       "    </tr>\n",
       "    <tr>\n",
       "      <th>Portland Trail Blazers</th>\n",
       "      <td>[Portland Trail Blazers]</td>\n",
       "      <td>25.0</td>\n",
       "      <td>6-9</td>\n",
       "      <td>215.0</td>\n",
       "      <td>8042895.0</td>\n",
       "    </tr>\n",
       "    <tr>\n",
       "      <th>San Antonio Spurs</th>\n",
       "      <td>[San Antonio Spurs]</td>\n",
       "      <td>40.0</td>\n",
       "      <td>6-11</td>\n",
       "      <td>250.0</td>\n",
       "      <td>5250000.0</td>\n",
       "    </tr>\n",
       "    <tr>\n",
       "      <th>Toronto Raptors</th>\n",
       "      <td>[Toronto Raptors]</td>\n",
       "      <td>29.0</td>\n",
       "      <td>6-9</td>\n",
       "      <td>250.0</td>\n",
       "      <td>2500000.0</td>\n",
       "    </tr>\n",
       "    <tr>\n",
       "      <th rowspan=\"7\" valign=\"top\">Washington</th>\n",
       "      <th>Boston Celtics</th>\n",
       "      <td>[Boston Celtics]</td>\n",
       "      <td>27.0</td>\n",
       "      <td>5-9</td>\n",
       "      <td>185.0</td>\n",
       "      <td>6912869.0</td>\n",
       "    </tr>\n",
       "    <tr>\n",
       "      <th>Charlotte Hornets</th>\n",
       "      <td>[Charlotte Hornets]</td>\n",
       "      <td>28.0</td>\n",
       "      <td>7-1</td>\n",
       "      <td>245.0</td>\n",
       "      <td>6110034.0</td>\n",
       "    </tr>\n",
       "    <tr>\n",
       "      <th>Chicago Bulls</th>\n",
       "      <td>[Chicago Bulls]</td>\n",
       "      <td>27.0</td>\n",
       "      <td>6-6</td>\n",
       "      <td>185.0</td>\n",
       "      <td>947276.0</td>\n",
       "    </tr>\n",
       "    <tr>\n",
       "      <th>Los Angeles Clippers</th>\n",
       "      <td>[Los Angeles Clippers]</td>\n",
       "      <td>25.0</td>\n",
       "      <td>6-5</td>\n",
       "      <td>195.0</td>\n",
       "      <td>1159680.0</td>\n",
       "    </tr>\n",
       "    <tr>\n",
       "      <th>New Orleans Pelicans</th>\n",
       "      <td>[New Orleans Pelicans]</td>\n",
       "      <td>28.0</td>\n",
       "      <td>6-7</td>\n",
       "      <td>220.0</td>\n",
       "      <td>3382023.0</td>\n",
       "    </tr>\n",
       "    <tr>\n",
       "      <th>New York Knicks</th>\n",
       "      <td>[New York Knicks]</td>\n",
       "      <td>23.0</td>\n",
       "      <td>6-6</td>\n",
       "      <td>205.0</td>\n",
       "      <td>167406.0</td>\n",
       "    </tr>\n",
       "    <tr>\n",
       "      <th>Toronto Raptors</th>\n",
       "      <td>[Toronto Raptors]</td>\n",
       "      <td>25.0</td>\n",
       "      <td>6-7</td>\n",
       "      <td>195.0</td>\n",
       "      <td>3553917.0</td>\n",
       "    </tr>\n",
       "    <tr>\n",
       "      <th rowspan=\"2\" valign=\"top\">Washington State</th>\n",
       "      <th>Detroit Pistons</th>\n",
       "      <td>[Detroit Pistons]</td>\n",
       "      <td>29.0</td>\n",
       "      <td>6-10</td>\n",
       "      <td>260.0</td>\n",
       "      <td>6500000.0</td>\n",
       "    </tr>\n",
       "    <tr>\n",
       "      <th>Golden State Warriors</th>\n",
       "      <td>[Golden State Warriors]</td>\n",
       "      <td>26.0</td>\n",
       "      <td>6-7</td>\n",
       "      <td>215.0</td>\n",
       "      <td>15501000.0</td>\n",
       "    </tr>\n",
       "    <tr>\n",
       "      <th>Weber State</th>\n",
       "      <th>Portland Trail Blazers</th>\n",
       "      <td>[Portland Trail Blazers]</td>\n",
       "      <td>25.0</td>\n",
       "      <td>6-3</td>\n",
       "      <td>195.0</td>\n",
       "      <td>4236287.0</td>\n",
       "    </tr>\n",
       "    <tr>\n",
       "      <th>Westchester CC</th>\n",
       "      <th>Portland Trail Blazers</th>\n",
       "      <td>[Portland Trail Blazers]</td>\n",
       "      <td>23.0</td>\n",
       "      <td>6-7</td>\n",
       "      <td>185.0</td>\n",
       "      <td>525093.0</td>\n",
       "    </tr>\n",
       "    <tr>\n",
       "      <th>Western Carolina</th>\n",
       "      <th>San Antonio Spurs</th>\n",
       "      <td>[San Antonio Spurs]</td>\n",
       "      <td>33.0</td>\n",
       "      <td>6-7</td>\n",
       "      <td>199.0</td>\n",
       "      <td>200600.0</td>\n",
       "    </tr>\n",
       "    <tr>\n",
       "      <th rowspan=\"2\" valign=\"top\">Western Kentucky</th>\n",
       "      <th>Charlotte Hornets</th>\n",
       "      <td>[Charlotte Hornets]</td>\n",
       "      <td>30.0</td>\n",
       "      <td>6-5</td>\n",
       "      <td>200.0</td>\n",
       "      <td>5675000.0</td>\n",
       "    </tr>\n",
       "    <tr>\n",
       "      <th>Dallas Mavericks</th>\n",
       "      <td>[Dallas Mavericks]</td>\n",
       "      <td>28.0</td>\n",
       "      <td>6-9</td>\n",
       "      <td>200.0</td>\n",
       "      <td>1100602.0</td>\n",
       "    </tr>\n",
       "    <tr>\n",
       "      <th>Western Michigan</th>\n",
       "      <th>Indiana Pacers</th>\n",
       "      <td>[Indiana Pacers]</td>\n",
       "      <td>25.0</td>\n",
       "      <td>6-11</td>\n",
       "      <td>250.0</td>\n",
       "      <td>845059.0</td>\n",
       "    </tr>\n",
       "    <tr>\n",
       "      <th>Wichita State</th>\n",
       "      <th>New York Knicks</th>\n",
       "      <td>[New York Knicks]</td>\n",
       "      <td>25.0</td>\n",
       "      <td>6-8</td>\n",
       "      <td>210.0</td>\n",
       "      <td>845059.0</td>\n",
       "    </tr>\n",
       "    <tr>\n",
       "      <th rowspan=\"5\" valign=\"top\">Wisconsin</th>\n",
       "      <th>Charlotte Hornets</th>\n",
       "      <td>[Charlotte Hornets]</td>\n",
       "      <td>23.0</td>\n",
       "      <td>7-0</td>\n",
       "      <td>240.0</td>\n",
       "      <td>2612520.0</td>\n",
       "    </tr>\n",
       "    <tr>\n",
       "      <th>Dallas Mavericks</th>\n",
       "      <td>[Dallas Mavericks]</td>\n",
       "      <td>33.0</td>\n",
       "      <td>6-3</td>\n",
       "      <td>185.0</td>\n",
       "      <td>4053446.0</td>\n",
       "    </tr>\n",
       "    <tr>\n",
       "      <th>Houston Rockets</th>\n",
       "      <td>[Houston Rockets]</td>\n",
       "      <td>22.0</td>\n",
       "      <td>6-9</td>\n",
       "      <td>230.0</td>\n",
       "      <td>1646400.0</td>\n",
       "    </tr>\n",
       "    <tr>\n",
       "      <th>Phoenix Suns</th>\n",
       "      <td>[Phoenix Suns]</td>\n",
       "      <td>27.0</td>\n",
       "      <td>6-10</td>\n",
       "      <td>228.0</td>\n",
       "      <td>1035000.0</td>\n",
       "    </tr>\n",
       "    <tr>\n",
       "      <th>Sacramento Kings</th>\n",
       "      <td>[Sacramento Kings]</td>\n",
       "      <td>24.0</td>\n",
       "      <td>6-9</td>\n",
       "      <td>220.0</td>\n",
       "      <td>525093.0</td>\n",
       "    </tr>\n",
       "    <tr>\n",
       "      <th>Wyoming</th>\n",
       "      <th>Los Angeles Lakers</th>\n",
       "      <td>[Los Angeles Lakers]</td>\n",
       "      <td>23.0</td>\n",
       "      <td>6-9</td>\n",
       "      <td>230.0</td>\n",
       "      <td>1155600.0</td>\n",
       "    </tr>\n",
       "    <tr>\n",
       "      <th>Xavier</th>\n",
       "      <th>San Antonio Spurs</th>\n",
       "      <td>[San Antonio Spurs]</td>\n",
       "      <td>35.0</td>\n",
       "      <td>6-9</td>\n",
       "      <td>250.0</td>\n",
       "      <td>1499187.0</td>\n",
       "    </tr>\n",
       "  </tbody>\n",
       "</table>\n",
       "<p>363 rows × 5 columns</p>\n",
       "</div>"
      ],
      "text/plain": [
       "                                                                                TIME  \\\n",
       "COLEGIO           TIME                                                                 \n",
       "Alabama           Cleveland Cavaliers                          [Cleveland Cavaliers]   \n",
       "                  Memphis Grizzlies                              [Memphis Grizzlies]   \n",
       "                  New Orleans Pelicans                        [New Orleans Pelicans]   \n",
       "Arizona           Brooklyn Nets                                      [Brooklyn Nets]   \n",
       "                  Cleveland Cavaliers     [Cleveland Cavaliers, Cleveland Cavaliers]   \n",
       "                  Detroit Pistons                                  [Detroit Pistons]   \n",
       "                  Golden State Warriors                      [Golden State Warriors]   \n",
       "                  Houston Rockets                                  [Houston Rockets]   \n",
       "                  Indiana Pacers                    [Indiana Pacers, Indiana Pacers]   \n",
       "                  Milwaukee Bucks                                  [Milwaukee Bucks]   \n",
       "                  New York Knicks                                  [New York Knicks]   \n",
       "                  Orlando Magic                                      [Orlando Magic]   \n",
       "                  Philadelphia 76ers                            [Philadelphia 76ers]   \n",
       "                  Phoenix Suns                                        [Phoenix Suns]   \n",
       "Arizona State     Houston Rockets                                  [Houston Rockets]   \n",
       "                  Los Angeles Clippers                        [Los Angeles Clippers]   \n",
       "Arkansas          Chicago Bulls                                      [Chicago Bulls]   \n",
       "                  Houston Rockets                                  [Houston Rockets]   \n",
       "                  Miami Heat                                            [Miami Heat]   \n",
       "Baylor            Sacramento Kings                                [Sacramento Kings]   \n",
       "Belmont           Golden State Warriors                      [Golden State Warriors]   \n",
       "Blinn College     Memphis Grizzlies                              [Memphis Grizzlies]   \n",
       "Boston College    Detroit Pistons                                  [Detroit Pistons]   \n",
       "                  Washington Wizards                            [Washington Wizards]   \n",
       "Boston University Boston Celtics                                    [Boston Celtics]   \n",
       "Bowling Green     Philadelphia 76ers                            [Philadelphia 76ers]   \n",
       "Bucknell          Atlanta Hawks                                      [Atlanta Hawks]   \n",
       "Butler            Utah Jazz                                   [Utah Jazz, Utah Jazz]   \n",
       "California        Charlotte Hornets                              [Charlotte Hornets]   \n",
       "                  New Orleans Pelicans                        [New Orleans Pelicans]   \n",
       "...                                                                              ...   \n",
       "Virginia Tech     Washington Wizards                            [Washington Wizards]   \n",
       "Wake Forest       Atlanta Hawks                                      [Atlanta Hawks]   \n",
       "                  Los Angeles Clippers                        [Los Angeles Clippers]   \n",
       "                  Philadelphia 76ers                            [Philadelphia 76ers]   \n",
       "                  Portland Trail Blazers                    [Portland Trail Blazers]   \n",
       "                  San Antonio Spurs                              [San Antonio Spurs]   \n",
       "                  Toronto Raptors                                  [Toronto Raptors]   \n",
       "Washington        Boston Celtics                                    [Boston Celtics]   \n",
       "                  Charlotte Hornets                              [Charlotte Hornets]   \n",
       "                  Chicago Bulls                                      [Chicago Bulls]   \n",
       "                  Los Angeles Clippers                        [Los Angeles Clippers]   \n",
       "                  New Orleans Pelicans                        [New Orleans Pelicans]   \n",
       "                  New York Knicks                                  [New York Knicks]   \n",
       "                  Toronto Raptors                                  [Toronto Raptors]   \n",
       "Washington State  Detroit Pistons                                  [Detroit Pistons]   \n",
       "                  Golden State Warriors                      [Golden State Warriors]   \n",
       "Weber State       Portland Trail Blazers                    [Portland Trail Blazers]   \n",
       "Westchester CC    Portland Trail Blazers                    [Portland Trail Blazers]   \n",
       "Western Carolina  San Antonio Spurs                              [San Antonio Spurs]   \n",
       "Western Kentucky  Charlotte Hornets                              [Charlotte Hornets]   \n",
       "                  Dallas Mavericks                                [Dallas Mavericks]   \n",
       "Western Michigan  Indiana Pacers                                    [Indiana Pacers]   \n",
       "Wichita State     New York Knicks                                  [New York Knicks]   \n",
       "Wisconsin         Charlotte Hornets                              [Charlotte Hornets]   \n",
       "                  Dallas Mavericks                                [Dallas Mavericks]   \n",
       "                  Houston Rockets                                  [Houston Rockets]   \n",
       "                  Phoenix Suns                                        [Phoenix Suns]   \n",
       "                  Sacramento Kings                                [Sacramento Kings]   \n",
       "Wyoming           Los Angeles Lakers                            [Los Angeles Lakers]   \n",
       "Xavier            San Antonio Spurs                              [San Antonio Spurs]   \n",
       "\n",
       "                                          IDADE_MEDIA ALTURA_MAXIMA  \\\n",
       "COLEGIO           TIME                                                \n",
       "Alabama           Cleveland Cavaliers            33.0           6-1   \n",
       "                  Memphis Grizzlies              25.0           6-9   \n",
       "                  New Orleans Pelicans           29.0           6-6   \n",
       "Arizona           Brooklyn Nets                  21.0           6-7   \n",
       "                  Cleveland Cavaliers            34.0           6-7   \n",
       "                  Detroit Pistons                20.0           6-7   \n",
       "                  Golden State Warriors          32.0           6-6   \n",
       "                  Houston Rockets                38.0           6-2   \n",
       "                  Indiana Pacers                 26.5           6-7   \n",
       "                  Milwaukee Bucks                27.0           6-3   \n",
       "                  New York Knicks                25.0           6-8   \n",
       "                  Orlando Magic                  20.0           6-9   \n",
       "                  Philadelphia 76ers             24.0           6-2   \n",
       "                  Phoenix Suns                   28.0           6-7   \n",
       "Arizona State     Houston Rockets                26.0           6-5   \n",
       "                  Los Angeles Clippers           29.0           6-9   \n",
       "Arkansas          Chicago Bulls                  21.0          6-11   \n",
       "                  Houston Rockets                27.0           6-1   \n",
       "                  Miami Heat                     34.0           6-7   \n",
       "Baylor            Sacramento Kings               25.0           6-7   \n",
       "Belmont           Golden State Warriors          25.0           6-3   \n",
       "Blinn College     Memphis Grizzlies              37.0          6-10   \n",
       "Boston College    Detroit Pistons                26.0           6-3   \n",
       "                  Washington Wizards             30.0           6-7   \n",
       "Boston University Boston Celtics                 27.0           6-5   \n",
       "Bowling Green     Philadelphia 76ers             22.0          6-10   \n",
       "Bucknell          Atlanta Hawks                  24.0          6-11   \n",
       "Butler            Utah Jazz                      26.0           6-8   \n",
       "California        Charlotte Hornets              27.0           6-3   \n",
       "                  New Orleans Pelicans           28.0          6-10   \n",
       "...                                               ...           ...   \n",
       "Virginia Tech     Washington Wizards             24.0           6-7   \n",
       "Wake Forest       Atlanta Hawks                  27.0           6-2   \n",
       "                  Los Angeles Clippers           31.0           6-0   \n",
       "                  Philadelphia 76ers             27.0           6-0   \n",
       "                  Portland Trail Blazers         25.0           6-9   \n",
       "                  San Antonio Spurs              40.0          6-11   \n",
       "                  Toronto Raptors                29.0           6-9   \n",
       "Washington        Boston Celtics                 27.0           5-9   \n",
       "                  Charlotte Hornets              28.0           7-1   \n",
       "                  Chicago Bulls                  27.0           6-6   \n",
       "                  Los Angeles Clippers           25.0           6-5   \n",
       "                  New Orleans Pelicans           28.0           6-7   \n",
       "                  New York Knicks                23.0           6-6   \n",
       "                  Toronto Raptors                25.0           6-7   \n",
       "Washington State  Detroit Pistons                29.0          6-10   \n",
       "                  Golden State Warriors          26.0           6-7   \n",
       "Weber State       Portland Trail Blazers         25.0           6-3   \n",
       "Westchester CC    Portland Trail Blazers         23.0           6-7   \n",
       "Western Carolina  San Antonio Spurs              33.0           6-7   \n",
       "Western Kentucky  Charlotte Hornets              30.0           6-5   \n",
       "                  Dallas Mavericks               28.0           6-9   \n",
       "Western Michigan  Indiana Pacers                 25.0          6-11   \n",
       "Wichita State     New York Knicks                25.0           6-8   \n",
       "Wisconsin         Charlotte Hornets              23.0           7-0   \n",
       "                  Dallas Mavericks               33.0           6-3   \n",
       "                  Houston Rockets                22.0           6-9   \n",
       "                  Phoenix Suns                   27.0          6-10   \n",
       "                  Sacramento Kings               24.0           6-9   \n",
       "Wyoming           Los Angeles Lakers             23.0           6-9   \n",
       "Xavier            San Antonio Spurs              35.0           6-9   \n",
       "\n",
       "                                          PESO_MINIMO  SOMA_FOLHA  \n",
       "COLEGIO           TIME                                             \n",
       "Alabama           Cleveland Cavaliers           198.0   2100000.0  \n",
       "                  Memphis Grizzlies             227.0    845059.0  \n",
       "                  New Orleans Pelicans          225.0   1320000.0  \n",
       "Arizona           Brooklyn Nets                 220.0   1335480.0  \n",
       "                  Cleveland Cavaliers           233.0   9140305.0  \n",
       "                  Detroit Pistons               245.0   2841960.0  \n",
       "                  Golden State Warriors         215.0  11710456.0  \n",
       "                  Houston Rockets               185.0    947276.0  \n",
       "                  Indiana Pacers                225.0   5358880.0  \n",
       "                  Milwaukee Bucks               200.0   3000000.0  \n",
       "                  New York Knicks               240.0   4000000.0  \n",
       "                  Orlando Magic                 220.0   4171680.0  \n",
       "                  Philadelphia 76ers            200.0    525093.0  \n",
       "                  Phoenix Suns                  209.0    206192.0  \n",
       "Arizona State     Houston Rockets               220.0  15756438.0  \n",
       "                  Los Angeles Clippers          250.0    111444.0  \n",
       "Arkansas          Chicago Bulls                 230.0   1391160.0  \n",
       "                  Houston Rockets               185.0   6486486.0  \n",
       "                  Miami Heat                    240.0    261894.0  \n",
       "Baylor            Sacramento Kings              240.0    981348.0  \n",
       "Belmont           Golden State Warriors         175.0    947276.0  \n",
       "Blinn College     Memphis Grizzlies             245.0   5000000.0  \n",
       "Boston College    Detroit Pistons               208.0  13913044.0  \n",
       "                  Washington Wizards            225.0   4375000.0  \n",
       "Boston University Boston Celtics                205.0         0.0  \n",
       "Bowling Green     Philadelphia 76ers            245.0   1074169.0  \n",
       "Bucknell          Atlanta Hawks                 240.0    947276.0  \n",
       "Butler            Utah Jazz                     203.0  17842903.0  \n",
       "California        Charlotte Hornets             189.0    189455.0  \n",
       "                  New Orleans Pelicans          240.0   8500000.0  \n",
       "...                                               ...         ...  \n",
       "Virginia Tech     Washington Wizards            218.0    561716.0  \n",
       "Wake Forest       Atlanta Hawks                 186.0   8000000.0  \n",
       "                  Los Angeles Clippers          175.0  21468695.0  \n",
       "                  Philadelphia 76ers            175.0    947276.0  \n",
       "                  Portland Trail Blazers        215.0   8042895.0  \n",
       "                  San Antonio Spurs             250.0   5250000.0  \n",
       "                  Toronto Raptors               250.0   2500000.0  \n",
       "Washington        Boston Celtics                185.0   6912869.0  \n",
       "                  Charlotte Hornets             245.0   6110034.0  \n",
       "                  Chicago Bulls                 185.0    947276.0  \n",
       "                  Los Angeles Clippers          195.0   1159680.0  \n",
       "                  New Orleans Pelicans          220.0   3382023.0  \n",
       "                  New York Knicks               205.0    167406.0  \n",
       "                  Toronto Raptors               195.0   3553917.0  \n",
       "Washington State  Detroit Pistons               260.0   6500000.0  \n",
       "                  Golden State Warriors         215.0  15501000.0  \n",
       "Weber State       Portland Trail Blazers        195.0   4236287.0  \n",
       "Westchester CC    Portland Trail Blazers        185.0    525093.0  \n",
       "Western Carolina  San Antonio Spurs             199.0    200600.0  \n",
       "Western Kentucky  Charlotte Hornets             200.0   5675000.0  \n",
       "                  Dallas Mavericks              200.0   1100602.0  \n",
       "Western Michigan  Indiana Pacers                250.0    845059.0  \n",
       "Wichita State     New York Knicks               210.0    845059.0  \n",
       "Wisconsin         Charlotte Hornets             240.0   2612520.0  \n",
       "                  Dallas Mavericks              185.0   4053446.0  \n",
       "                  Houston Rockets               230.0   1646400.0  \n",
       "                  Phoenix Suns                  228.0   1035000.0  \n",
       "                  Sacramento Kings              220.0    525093.0  \n",
       "Wyoming           Los Angeles Lakers            230.0   1155600.0  \n",
       "Xavier            San Antonio Spurs             250.0   1499187.0  \n",
       "\n",
       "[363 rows x 5 columns]"
      ]
     },
     "execution_count": 29,
     "metadata": {},
     "output_type": "execute_result"
    }
   ],
   "source": [
    "df_nba.groupby(['COLEGIO','TIME'], as_index = False).apply(my_agg)"
   ]
  },
  {
   "cell_type": "code",
   "execution_count": 30,
   "metadata": {},
   "outputs": [],
   "source": [
    "dimensao_jogadores_colegio = df_nba.groupby(['COLEGIO','TIME']).apply(my_agg)"
   ]
  },
  {
   "cell_type": "markdown",
   "metadata": {},
   "source": [
    "### Consumo e Visualização de Dados"
   ]
  },
  {
   "cell_type": "code",
   "execution_count": 31,
   "metadata": {},
   "outputs": [
    {
     "data": {
      "text/html": [
       "        <script type=\"text/javascript\">\n",
       "        window.PlotlyConfig = {MathJaxConfig: 'local'};\n",
       "        if (window.MathJax) {MathJax.Hub.Config({SVG: {font: \"STIX-Web\"}});}\n",
       "        if (typeof require !== 'undefined') {\n",
       "        require.undef(\"plotly\");\n",
       "        requirejs.config({\n",
       "            paths: {\n",
       "                'plotly': ['https://cdn.plot.ly/plotly-2.4.2.min']\n",
       "            }\n",
       "        });\n",
       "        require(['plotly'], function(Plotly) {\n",
       "            window._Plotly = Plotly;\n",
       "        });\n",
       "        }\n",
       "        </script>\n",
       "        "
      ]
     },
     "metadata": {},
     "output_type": "display_data"
    }
   ],
   "source": [
    "import pandas as pd\n",
    "import plotly.offline as py\n",
    "import plotly.graph_objs as go\n",
    "py.init_notebook_mode(connected=True)"
   ]
  },
  {
   "cell_type": "code",
   "execution_count": 32,
   "metadata": {},
   "outputs": [
    {
     "data": {
      "application/vnd.plotly.v1+json": {
       "config": {
        "linkText": "Export to plot.ly",
        "plotlyServerURL": "https://plot.ly",
        "showLink": false
       },
       "data": [
        {
         "mode": "markers",
         "type": "scatter",
         "x": [
          "Boston Celtics",
          "Boston Celtics",
          "Boston Celtics",
          "Boston Celtics",
          "Boston Celtics",
          "Boston Celtics",
          "Boston Celtics",
          "Boston Celtics",
          "Boston Celtics",
          "Boston Celtics",
          "Boston Celtics",
          "Boston Celtics",
          "Boston Celtics",
          "Boston Celtics",
          "Boston Celtics",
          "Brooklyn Nets",
          "Brooklyn Nets",
          "Brooklyn Nets",
          "Brooklyn Nets",
          "Brooklyn Nets",
          "Brooklyn Nets",
          "Brooklyn Nets",
          "Brooklyn Nets",
          "Brooklyn Nets",
          "Brooklyn Nets",
          "Brooklyn Nets",
          "Brooklyn Nets",
          "Brooklyn Nets",
          "Brooklyn Nets",
          "Brooklyn Nets",
          "New York Knicks",
          "New York Knicks",
          "New York Knicks",
          "New York Knicks",
          "New York Knicks",
          "New York Knicks",
          "New York Knicks",
          "New York Knicks",
          "New York Knicks",
          "New York Knicks",
          "New York Knicks",
          "New York Knicks",
          "New York Knicks",
          "New York Knicks",
          "New York Knicks",
          "New York Knicks",
          "Philadelphia 76ers",
          "Philadelphia 76ers",
          "Philadelphia 76ers",
          "Philadelphia 76ers",
          "Philadelphia 76ers",
          "Philadelphia 76ers",
          "Philadelphia 76ers",
          "Philadelphia 76ers",
          "Philadelphia 76ers",
          "Philadelphia 76ers",
          "Philadelphia 76ers",
          "Philadelphia 76ers",
          "Philadelphia 76ers",
          "Philadelphia 76ers",
          "Philadelphia 76ers",
          "Toronto Raptors",
          "Toronto Raptors",
          "Toronto Raptors",
          "Toronto Raptors",
          "Toronto Raptors",
          "Toronto Raptors",
          "Toronto Raptors",
          "Toronto Raptors",
          "Toronto Raptors",
          "Toronto Raptors",
          "Toronto Raptors",
          "Toronto Raptors",
          "Toronto Raptors",
          "Toronto Raptors",
          "Toronto Raptors",
          "Golden State Warriors",
          "Golden State Warriors",
          "Golden State Warriors",
          "Golden State Warriors",
          "Golden State Warriors",
          "Golden State Warriors",
          "Golden State Warriors",
          "Golden State Warriors",
          "Golden State Warriors",
          "Golden State Warriors",
          "Golden State Warriors",
          "Golden State Warriors",
          "Golden State Warriors",
          "Golden State Warriors",
          "Golden State Warriors",
          "Los Angeles Clippers",
          "Los Angeles Clippers",
          "Los Angeles Clippers",
          "Los Angeles Clippers",
          "Los Angeles Clippers",
          "Los Angeles Clippers",
          "Los Angeles Clippers",
          "Los Angeles Clippers",
          "Los Angeles Clippers",
          "Los Angeles Clippers",
          "Los Angeles Clippers",
          "Los Angeles Clippers",
          "Los Angeles Clippers",
          "Los Angeles Clippers",
          "Los Angeles Clippers",
          "Los Angeles Lakers",
          "Los Angeles Lakers",
          "Los Angeles Lakers",
          "Los Angeles Lakers",
          "Los Angeles Lakers",
          "Los Angeles Lakers",
          "Los Angeles Lakers",
          "Los Angeles Lakers",
          "Los Angeles Lakers",
          "Los Angeles Lakers",
          "Los Angeles Lakers",
          "Los Angeles Lakers",
          "Los Angeles Lakers",
          "Los Angeles Lakers",
          "Los Angeles Lakers",
          "Phoenix Suns",
          "Phoenix Suns",
          "Phoenix Suns",
          "Phoenix Suns",
          "Phoenix Suns",
          "Phoenix Suns",
          "Phoenix Suns",
          "Phoenix Suns",
          "Phoenix Suns",
          "Phoenix Suns",
          "Phoenix Suns",
          "Phoenix Suns",
          "Phoenix Suns",
          "Phoenix Suns",
          "Phoenix Suns",
          "Sacramento Kings",
          "Sacramento Kings",
          "Sacramento Kings",
          "Sacramento Kings",
          "Sacramento Kings",
          "Sacramento Kings",
          "Sacramento Kings",
          "Sacramento Kings",
          "Sacramento Kings",
          "Sacramento Kings",
          "Sacramento Kings",
          "Sacramento Kings",
          "Sacramento Kings",
          "Sacramento Kings",
          "Sacramento Kings",
          "Chicago Bulls",
          "Chicago Bulls",
          "Chicago Bulls",
          "Chicago Bulls",
          "Chicago Bulls",
          "Chicago Bulls",
          "Chicago Bulls",
          "Chicago Bulls",
          "Chicago Bulls",
          "Chicago Bulls",
          "Chicago Bulls",
          "Chicago Bulls",
          "Chicago Bulls",
          "Chicago Bulls",
          "Chicago Bulls",
          "Cleveland Cavaliers",
          "Cleveland Cavaliers",
          "Cleveland Cavaliers",
          "Cleveland Cavaliers",
          "Cleveland Cavaliers",
          "Cleveland Cavaliers",
          "Cleveland Cavaliers",
          "Cleveland Cavaliers",
          "Cleveland Cavaliers",
          "Cleveland Cavaliers",
          "Cleveland Cavaliers",
          "Cleveland Cavaliers",
          "Cleveland Cavaliers",
          "Cleveland Cavaliers",
          "Cleveland Cavaliers",
          "Detroit Pistons",
          "Detroit Pistons",
          "Detroit Pistons",
          "Detroit Pistons",
          "Detroit Pistons",
          "Detroit Pistons",
          "Detroit Pistons",
          "Detroit Pistons",
          "Detroit Pistons",
          "Detroit Pistons",
          "Detroit Pistons",
          "Detroit Pistons",
          "Detroit Pistons",
          "Detroit Pistons",
          "Detroit Pistons",
          "Indiana Pacers",
          "Indiana Pacers",
          "Indiana Pacers",
          "Indiana Pacers",
          "Indiana Pacers",
          "Indiana Pacers",
          "Indiana Pacers",
          "Indiana Pacers",
          "Indiana Pacers",
          "Indiana Pacers",
          "Indiana Pacers",
          "Indiana Pacers",
          "Indiana Pacers",
          "Indiana Pacers",
          "Indiana Pacers",
          "Milwaukee Bucks",
          "Milwaukee Bucks",
          "Milwaukee Bucks",
          "Milwaukee Bucks",
          "Milwaukee Bucks",
          "Milwaukee Bucks",
          "Milwaukee Bucks",
          "Milwaukee Bucks",
          "Milwaukee Bucks",
          "Milwaukee Bucks",
          "Milwaukee Bucks",
          "Milwaukee Bucks",
          "Milwaukee Bucks",
          "Milwaukee Bucks",
          "Milwaukee Bucks",
          "Milwaukee Bucks",
          "Dallas Mavericks",
          "Dallas Mavericks",
          "Dallas Mavericks",
          "Dallas Mavericks",
          "Dallas Mavericks",
          "Dallas Mavericks",
          "Dallas Mavericks",
          "Dallas Mavericks",
          "Dallas Mavericks",
          "Dallas Mavericks",
          "Dallas Mavericks",
          "Dallas Mavericks",
          "Dallas Mavericks",
          "Dallas Mavericks",
          "Dallas Mavericks",
          "Houston Rockets",
          "Houston Rockets",
          "Houston Rockets",
          "Houston Rockets",
          "Houston Rockets",
          "Houston Rockets",
          "Houston Rockets",
          "Houston Rockets",
          "Houston Rockets",
          "Houston Rockets",
          "Houston Rockets",
          "Houston Rockets",
          "Houston Rockets",
          "Houston Rockets",
          "Houston Rockets",
          "Memphis Grizzlies",
          "Memphis Grizzlies",
          "Memphis Grizzlies",
          "Memphis Grizzlies",
          "Memphis Grizzlies",
          "Memphis Grizzlies",
          "Memphis Grizzlies",
          "Memphis Grizzlies",
          "Memphis Grizzlies",
          "Memphis Grizzlies",
          "Memphis Grizzlies",
          "Memphis Grizzlies",
          "Memphis Grizzlies",
          "Memphis Grizzlies",
          "Memphis Grizzlies",
          "Memphis Grizzlies",
          "Memphis Grizzlies",
          "Memphis Grizzlies",
          "New Orleans Pelicans",
          "New Orleans Pelicans",
          "New Orleans Pelicans",
          "New Orleans Pelicans",
          "New Orleans Pelicans",
          "New Orleans Pelicans",
          "New Orleans Pelicans",
          "New Orleans Pelicans",
          "New Orleans Pelicans",
          "New Orleans Pelicans",
          "New Orleans Pelicans",
          "New Orleans Pelicans",
          "New Orleans Pelicans",
          "New Orleans Pelicans",
          "New Orleans Pelicans",
          "New Orleans Pelicans",
          "New Orleans Pelicans",
          "New Orleans Pelicans",
          "New Orleans Pelicans",
          "San Antonio Spurs",
          "San Antonio Spurs",
          "San Antonio Spurs",
          "San Antonio Spurs",
          "San Antonio Spurs",
          "San Antonio Spurs",
          "San Antonio Spurs",
          "San Antonio Spurs",
          "San Antonio Spurs",
          "San Antonio Spurs",
          "San Antonio Spurs",
          "San Antonio Spurs",
          "San Antonio Spurs",
          "San Antonio Spurs",
          "San Antonio Spurs",
          "Atlanta Hawks",
          "Atlanta Hawks",
          "Atlanta Hawks",
          "Atlanta Hawks",
          "Atlanta Hawks",
          "Atlanta Hawks",
          "Atlanta Hawks",
          "Atlanta Hawks",
          "Atlanta Hawks",
          "Atlanta Hawks",
          "Atlanta Hawks",
          "Atlanta Hawks",
          "Atlanta Hawks",
          "Atlanta Hawks",
          "Atlanta Hawks",
          "Charlotte Hornets",
          "Charlotte Hornets",
          "Charlotte Hornets",
          "Charlotte Hornets",
          "Charlotte Hornets",
          "Charlotte Hornets",
          "Charlotte Hornets",
          "Charlotte Hornets",
          "Charlotte Hornets",
          "Charlotte Hornets",
          "Charlotte Hornets",
          "Charlotte Hornets",
          "Charlotte Hornets",
          "Charlotte Hornets",
          "Charlotte Hornets",
          "Miami Heat",
          "Miami Heat",
          "Miami Heat",
          "Miami Heat",
          "Miami Heat",
          "Miami Heat",
          "Miami Heat",
          "Miami Heat",
          "Miami Heat",
          "Miami Heat",
          "Miami Heat",
          "Miami Heat",
          "Miami Heat",
          "Miami Heat",
          "Miami Heat",
          "Orlando Magic",
          "Orlando Magic",
          "Orlando Magic",
          "Orlando Magic",
          "Orlando Magic",
          "Orlando Magic",
          "Orlando Magic",
          "Orlando Magic",
          "Orlando Magic",
          "Orlando Magic",
          "Orlando Magic",
          "Orlando Magic",
          "Orlando Magic",
          "Orlando Magic",
          "Washington Wizards",
          "Washington Wizards",
          "Washington Wizards",
          "Washington Wizards",
          "Washington Wizards",
          "Washington Wizards",
          "Washington Wizards",
          "Washington Wizards",
          "Washington Wizards",
          "Washington Wizards",
          "Washington Wizards",
          "Washington Wizards",
          "Washington Wizards",
          "Washington Wizards",
          "Washington Wizards",
          "Denver Nuggets",
          "Denver Nuggets",
          "Denver Nuggets",
          "Denver Nuggets",
          "Denver Nuggets",
          "Denver Nuggets",
          "Denver Nuggets",
          "Denver Nuggets",
          "Denver Nuggets",
          "Denver Nuggets",
          "Denver Nuggets",
          "Denver Nuggets",
          "Denver Nuggets",
          "Denver Nuggets",
          "Denver Nuggets",
          "Minnesota Timberwolves",
          "Minnesota Timberwolves",
          "Minnesota Timberwolves",
          "Minnesota Timberwolves",
          "Minnesota Timberwolves",
          "Minnesota Timberwolves",
          "Minnesota Timberwolves",
          "Minnesota Timberwolves",
          "Minnesota Timberwolves",
          "Minnesota Timberwolves",
          "Minnesota Timberwolves",
          "Minnesota Timberwolves",
          "Minnesota Timberwolves",
          "Minnesota Timberwolves",
          "Oklahoma City Thunder",
          "Oklahoma City Thunder",
          "Oklahoma City Thunder",
          "Oklahoma City Thunder",
          "Oklahoma City Thunder",
          "Oklahoma City Thunder",
          "Oklahoma City Thunder",
          "Oklahoma City Thunder",
          "Oklahoma City Thunder",
          "Oklahoma City Thunder",
          "Oklahoma City Thunder",
          "Oklahoma City Thunder",
          "Oklahoma City Thunder",
          "Oklahoma City Thunder",
          "Oklahoma City Thunder",
          "Portland Trail Blazers",
          "Portland Trail Blazers",
          "Portland Trail Blazers",
          "Portland Trail Blazers",
          "Portland Trail Blazers",
          "Portland Trail Blazers",
          "Portland Trail Blazers",
          "Portland Trail Blazers",
          "Portland Trail Blazers",
          "Portland Trail Blazers",
          "Portland Trail Blazers",
          "Portland Trail Blazers",
          "Portland Trail Blazers",
          "Portland Trail Blazers",
          "Portland Trail Blazers",
          "Utah Jazz",
          "Utah Jazz",
          "Utah Jazz",
          "Utah Jazz",
          "Utah Jazz",
          "Utah Jazz",
          "Utah Jazz",
          "Utah Jazz",
          "Utah Jazz",
          "Utah Jazz",
          "Utah Jazz",
          "Utah Jazz",
          "Utah Jazz",
          "Utah Jazz",
          "Utah Jazz",
          null
         ],
         "y": [
          7730337,
          6796117,
          0,
          1148640,
          5000000,
          12000000,
          1170960,
          2165160,
          1824360,
          3431040,
          2569260,
          6912869,
          3425510,
          1749840,
          2616975,
          3425510,
          845059,
          1500000,
          1335480,
          6300000,
          1599840,
          134215,
          1500000,
          19689000,
          1140240,
          947276,
          981348,
          947276,
          947276,
          11235955,
          8000000,
          1635476,
          30888,
          22875000,
          7402812,
          845059,
          845059,
          1572360,
          12650000,
          3750000,
          4131720,
          2814000,
          1636842,
          947276,
          4000000,
          167406,
          0,
          947276,
          1000000,
          4626960,
          845059,
          1074169,
          6500000,
          2144772,
          525093,
          3457800,
          4582680,
          947276,
          2869440,
          947276,
          525093,
          2814000,
          1524000,
          13600000,
          10050000,
          2500000,
          7000000,
          12000000,
          1842000,
          6268675,
          650000,
          3553917,
          2900000,
          245177,
          4660482,
          1509360,
          2500000,
          3873398,
          13800000,
          947276,
          11370786,
          2008748,
          14260870,
          11710456,
          5543725,
          1131960,
          845059,
          1270964,
          3815000,
          15501000,
          289755,
          1100602,
          111444,
          5675000,
          525093,
          9650000,
          18907726,
          1100602,
          19689000,
          947276,
          21468695,
          3376000,
          947726,
          7085000,
          3110796,
          1159680,
          3000000,
          845059,
          700000,
          25000000,
          845059,
          15592217,
          525093,
          1724250,
          1155600,
          3132240,
          5103120,
          981348,
          7000000,
          947276,
          5219169,
          13500000,
          2127840,
          206192,
          13000000,
          1160160,
          981348,
          13500000,
          3807120,
          1035000,
          55722,
          947276,
          5500000,
          5500000,
          2041080,
          83397,
          981348,
          1015421,
          6060606,
          1449187,
          2836186,
          3398280,
          5013559,
          15851950,
          947276,
          525093,
          12403101,
          7700000,
          3156600,
          845059,
          9500000,
          845059,
          2250000,
          16407500,
          4500000,
          525093,
          7448760,
          8500000,
          947276,
          2380440,
          5543725,
          1015421,
          13400000,
          1391160,
          20093064,
          1535880,
          1147276,
          8193029,
          16407501,
          22970500,
          947276,
          0,
          947276,
          1276000,
          19689000,
          111196,
          4950000,
          8988765,
          5000000,
          14260870,
          2100000,
          2500000,
          6500000,
          2170465,
          111444,
          1252440,
          2891760,
          845059,
          3272091,
          16000000,
          600000,
          13913044,
          2841960,
          6270000,
          5000000,
          3000000,
          4050000,
          1007026,
          10300000,
          17120106,
          8000000,
          4000000,
          1358880,
          211744,
          4000000,
          4394225,
          1100000,
          7000000,
          2357760,
          845059,
          1007026,
          1953960,
          3000000,
          2399040,
          947276,
          1662360,
          2943221,
          855000,
          8000000,
          14700000,
          16407500,
          295327,
          845059,
          5152440,
          2109294,
          6600000,
          1733040,
          1449000,
          4290000,
          1100602,
          3950313,
          4053446,
          2085671,
          16407500,
          1270964,
          525093,
          8333334,
          5200000,
          15361500,
          845059,
          947276,
          5378974,
          8193030,
          306527,
          6486486,
          8229375,
          1242720,
          1646400,
          200600,
          15756438,
          1000000,
          22359364,
          2489530,
          3189794,
          2288205,
          947276,
          947276,
          1404600,
          5158539,
          5000000,
          3542500,
          4088019,
          9588426,
          700902,
          0,
          19688000,
          845059,
          1201440,
          1230840,
          0,
          0,
          9638555,
          9000000,
          0,
          5464000,
          4389607,
          8500000,
          9213483,
          1100602,
          3036927,
          2850000,
          7070730,
          169883,
          1164858,
          845059,
          10734586,
          845059,
          1320000,
          15514031,
          1015421,
          10595507,
          55722,
          947276,
          3382023,
          19689000,
          1142880,
          947276,
          7500000,
          5250000,
          2814000,
          10000000,
          16407500,
          1200000,
          200600,
          250750,
          3578947,
          13437500,
          525093,
          1499187,
          2000000,
          1304520,
          2854940,
          12000000,
          1000000,
          5746479,
          18671659,
          947276,
          525093,
          1763400,
          3333333,
          4000000,
          9756250,
          1000000,
          8000000,
          13125306,
          947276,
          189455,
          947276,
          525093,
          6110034,
          13500000,
          2612520,
          6331404,
          3034356,
          5675000,
          2139000,
          12000000,
          7000000,
          4204200,
          22192730,
          10151612,
          14783000,
          947276,
          2854940,
          261894,
          845059,
          5543725,
          525093,
          947276,
          20000000,
          0,
          981348,
          2481720,
          0,
          947276,
          2288205,
          4171680,
          3741480,
          7900000,
          8344497,
          845059,
          1294440,
          2380593,
          5192520,
          2505720,
          4300000,
          11250000,
          5000000,
          4000000,
          5694674,
          4375000,
          561716,
          3300000,
          11217391,
          273038,
          13000000,
          8000000,
          1920240,
          4662960,
          2170465,
          1100602,
          200600,
          15851950,
          2814000,
          3000000,
          3533333,
          10449438,
          11235955,
          14000000,
          1584480,
          1300000,
          1709719,
          947276,
          3102240,
          4345000,
          1842000,
          258489,
          0,
          3950001,
          1474440,
          8500000,
          1282080,
          2148360,
          2056920,
          1938840,
          12100000,
          947276,
          12700000,
          1149500,
          0,
          5703600,
          5758680,
          2279040,
          3750000,
          20158622,
          3135000,
          1140240,
          12250000,
          16407500,
          1463040,
          222888,
          3344000,
          2021520,
          1210800,
          4500000,
          5138430,
          16744218,
          525093,
          8042895,
          625093,
          947276,
          6980802,
          2894059,
          6000000,
          5016000,
          3075880,
          4236287,
          2525160,
          525093,
          1415520,
          2854940,
          2637720,
          4775000,
          2658240,
          9463484,
          3777720,
          12000000,
          1175880,
          15409570,
          1348440,
          2050000,
          981348,
          2239800,
          2433333,
          900000,
          2900000,
          947276,
          0
         ]
        }
       ],
       "layout": {
        "template": {
         "data": {
          "bar": [
           {
            "error_x": {
             "color": "#2a3f5f"
            },
            "error_y": {
             "color": "#2a3f5f"
            },
            "marker": {
             "line": {
              "color": "#E5ECF6",
              "width": 0.5
             },
             "pattern": {
              "fillmode": "overlay",
              "size": 10,
              "solidity": 0.2
             }
            },
            "type": "bar"
           }
          ],
          "barpolar": [
           {
            "marker": {
             "line": {
              "color": "#E5ECF6",
              "width": 0.5
             },
             "pattern": {
              "fillmode": "overlay",
              "size": 10,
              "solidity": 0.2
             }
            },
            "type": "barpolar"
           }
          ],
          "carpet": [
           {
            "aaxis": {
             "endlinecolor": "#2a3f5f",
             "gridcolor": "white",
             "linecolor": "white",
             "minorgridcolor": "white",
             "startlinecolor": "#2a3f5f"
            },
            "baxis": {
             "endlinecolor": "#2a3f5f",
             "gridcolor": "white",
             "linecolor": "white",
             "minorgridcolor": "white",
             "startlinecolor": "#2a3f5f"
            },
            "type": "carpet"
           }
          ],
          "choropleth": [
           {
            "colorbar": {
             "outlinewidth": 0,
             "ticks": ""
            },
            "type": "choropleth"
           }
          ],
          "contour": [
           {
            "colorbar": {
             "outlinewidth": 0,
             "ticks": ""
            },
            "colorscale": [
             [
              0,
              "#0d0887"
             ],
             [
              0.1111111111111111,
              "#46039f"
             ],
             [
              0.2222222222222222,
              "#7201a8"
             ],
             [
              0.3333333333333333,
              "#9c179e"
             ],
             [
              0.4444444444444444,
              "#bd3786"
             ],
             [
              0.5555555555555556,
              "#d8576b"
             ],
             [
              0.6666666666666666,
              "#ed7953"
             ],
             [
              0.7777777777777778,
              "#fb9f3a"
             ],
             [
              0.8888888888888888,
              "#fdca26"
             ],
             [
              1,
              "#f0f921"
             ]
            ],
            "type": "contour"
           }
          ],
          "contourcarpet": [
           {
            "colorbar": {
             "outlinewidth": 0,
             "ticks": ""
            },
            "type": "contourcarpet"
           }
          ],
          "heatmap": [
           {
            "colorbar": {
             "outlinewidth": 0,
             "ticks": ""
            },
            "colorscale": [
             [
              0,
              "#0d0887"
             ],
             [
              0.1111111111111111,
              "#46039f"
             ],
             [
              0.2222222222222222,
              "#7201a8"
             ],
             [
              0.3333333333333333,
              "#9c179e"
             ],
             [
              0.4444444444444444,
              "#bd3786"
             ],
             [
              0.5555555555555556,
              "#d8576b"
             ],
             [
              0.6666666666666666,
              "#ed7953"
             ],
             [
              0.7777777777777778,
              "#fb9f3a"
             ],
             [
              0.8888888888888888,
              "#fdca26"
             ],
             [
              1,
              "#f0f921"
             ]
            ],
            "type": "heatmap"
           }
          ],
          "heatmapgl": [
           {
            "colorbar": {
             "outlinewidth": 0,
             "ticks": ""
            },
            "colorscale": [
             [
              0,
              "#0d0887"
             ],
             [
              0.1111111111111111,
              "#46039f"
             ],
             [
              0.2222222222222222,
              "#7201a8"
             ],
             [
              0.3333333333333333,
              "#9c179e"
             ],
             [
              0.4444444444444444,
              "#bd3786"
             ],
             [
              0.5555555555555556,
              "#d8576b"
             ],
             [
              0.6666666666666666,
              "#ed7953"
             ],
             [
              0.7777777777777778,
              "#fb9f3a"
             ],
             [
              0.8888888888888888,
              "#fdca26"
             ],
             [
              1,
              "#f0f921"
             ]
            ],
            "type": "heatmapgl"
           }
          ],
          "histogram": [
           {
            "marker": {
             "pattern": {
              "fillmode": "overlay",
              "size": 10,
              "solidity": 0.2
             }
            },
            "type": "histogram"
           }
          ],
          "histogram2d": [
           {
            "colorbar": {
             "outlinewidth": 0,
             "ticks": ""
            },
            "colorscale": [
             [
              0,
              "#0d0887"
             ],
             [
              0.1111111111111111,
              "#46039f"
             ],
             [
              0.2222222222222222,
              "#7201a8"
             ],
             [
              0.3333333333333333,
              "#9c179e"
             ],
             [
              0.4444444444444444,
              "#bd3786"
             ],
             [
              0.5555555555555556,
              "#d8576b"
             ],
             [
              0.6666666666666666,
              "#ed7953"
             ],
             [
              0.7777777777777778,
              "#fb9f3a"
             ],
             [
              0.8888888888888888,
              "#fdca26"
             ],
             [
              1,
              "#f0f921"
             ]
            ],
            "type": "histogram2d"
           }
          ],
          "histogram2dcontour": [
           {
            "colorbar": {
             "outlinewidth": 0,
             "ticks": ""
            },
            "colorscale": [
             [
              0,
              "#0d0887"
             ],
             [
              0.1111111111111111,
              "#46039f"
             ],
             [
              0.2222222222222222,
              "#7201a8"
             ],
             [
              0.3333333333333333,
              "#9c179e"
             ],
             [
              0.4444444444444444,
              "#bd3786"
             ],
             [
              0.5555555555555556,
              "#d8576b"
             ],
             [
              0.6666666666666666,
              "#ed7953"
             ],
             [
              0.7777777777777778,
              "#fb9f3a"
             ],
             [
              0.8888888888888888,
              "#fdca26"
             ],
             [
              1,
              "#f0f921"
             ]
            ],
            "type": "histogram2dcontour"
           }
          ],
          "mesh3d": [
           {
            "colorbar": {
             "outlinewidth": 0,
             "ticks": ""
            },
            "type": "mesh3d"
           }
          ],
          "parcoords": [
           {
            "line": {
             "colorbar": {
              "outlinewidth": 0,
              "ticks": ""
             }
            },
            "type": "parcoords"
           }
          ],
          "pie": [
           {
            "automargin": true,
            "type": "pie"
           }
          ],
          "scatter": [
           {
            "marker": {
             "colorbar": {
              "outlinewidth": 0,
              "ticks": ""
             }
            },
            "type": "scatter"
           }
          ],
          "scatter3d": [
           {
            "line": {
             "colorbar": {
              "outlinewidth": 0,
              "ticks": ""
             }
            },
            "marker": {
             "colorbar": {
              "outlinewidth": 0,
              "ticks": ""
             }
            },
            "type": "scatter3d"
           }
          ],
          "scattercarpet": [
           {
            "marker": {
             "colorbar": {
              "outlinewidth": 0,
              "ticks": ""
             }
            },
            "type": "scattercarpet"
           }
          ],
          "scattergeo": [
           {
            "marker": {
             "colorbar": {
              "outlinewidth": 0,
              "ticks": ""
             }
            },
            "type": "scattergeo"
           }
          ],
          "scattergl": [
           {
            "marker": {
             "colorbar": {
              "outlinewidth": 0,
              "ticks": ""
             }
            },
            "type": "scattergl"
           }
          ],
          "scattermapbox": [
           {
            "marker": {
             "colorbar": {
              "outlinewidth": 0,
              "ticks": ""
             }
            },
            "type": "scattermapbox"
           }
          ],
          "scatterpolar": [
           {
            "marker": {
             "colorbar": {
              "outlinewidth": 0,
              "ticks": ""
             }
            },
            "type": "scatterpolar"
           }
          ],
          "scatterpolargl": [
           {
            "marker": {
             "colorbar": {
              "outlinewidth": 0,
              "ticks": ""
             }
            },
            "type": "scatterpolargl"
           }
          ],
          "scatterternary": [
           {
            "marker": {
             "colorbar": {
              "outlinewidth": 0,
              "ticks": ""
             }
            },
            "type": "scatterternary"
           }
          ],
          "surface": [
           {
            "colorbar": {
             "outlinewidth": 0,
             "ticks": ""
            },
            "colorscale": [
             [
              0,
              "#0d0887"
             ],
             [
              0.1111111111111111,
              "#46039f"
             ],
             [
              0.2222222222222222,
              "#7201a8"
             ],
             [
              0.3333333333333333,
              "#9c179e"
             ],
             [
              0.4444444444444444,
              "#bd3786"
             ],
             [
              0.5555555555555556,
              "#d8576b"
             ],
             [
              0.6666666666666666,
              "#ed7953"
             ],
             [
              0.7777777777777778,
              "#fb9f3a"
             ],
             [
              0.8888888888888888,
              "#fdca26"
             ],
             [
              1,
              "#f0f921"
             ]
            ],
            "type": "surface"
           }
          ],
          "table": [
           {
            "cells": {
             "fill": {
              "color": "#EBF0F8"
             },
             "line": {
              "color": "white"
             }
            },
            "header": {
             "fill": {
              "color": "#C8D4E3"
             },
             "line": {
              "color": "white"
             }
            },
            "type": "table"
           }
          ]
         },
         "layout": {
          "annotationdefaults": {
           "arrowcolor": "#2a3f5f",
           "arrowhead": 0,
           "arrowwidth": 1
          },
          "autotypenumbers": "strict",
          "coloraxis": {
           "colorbar": {
            "outlinewidth": 0,
            "ticks": ""
           }
          },
          "colorscale": {
           "diverging": [
            [
             0,
             "#8e0152"
            ],
            [
             0.1,
             "#c51b7d"
            ],
            [
             0.2,
             "#de77ae"
            ],
            [
             0.3,
             "#f1b6da"
            ],
            [
             0.4,
             "#fde0ef"
            ],
            [
             0.5,
             "#f7f7f7"
            ],
            [
             0.6,
             "#e6f5d0"
            ],
            [
             0.7,
             "#b8e186"
            ],
            [
             0.8,
             "#7fbc41"
            ],
            [
             0.9,
             "#4d9221"
            ],
            [
             1,
             "#276419"
            ]
           ],
           "sequential": [
            [
             0,
             "#0d0887"
            ],
            [
             0.1111111111111111,
             "#46039f"
            ],
            [
             0.2222222222222222,
             "#7201a8"
            ],
            [
             0.3333333333333333,
             "#9c179e"
            ],
            [
             0.4444444444444444,
             "#bd3786"
            ],
            [
             0.5555555555555556,
             "#d8576b"
            ],
            [
             0.6666666666666666,
             "#ed7953"
            ],
            [
             0.7777777777777778,
             "#fb9f3a"
            ],
            [
             0.8888888888888888,
             "#fdca26"
            ],
            [
             1,
             "#f0f921"
            ]
           ],
           "sequentialminus": [
            [
             0,
             "#0d0887"
            ],
            [
             0.1111111111111111,
             "#46039f"
            ],
            [
             0.2222222222222222,
             "#7201a8"
            ],
            [
             0.3333333333333333,
             "#9c179e"
            ],
            [
             0.4444444444444444,
             "#bd3786"
            ],
            [
             0.5555555555555556,
             "#d8576b"
            ],
            [
             0.6666666666666666,
             "#ed7953"
            ],
            [
             0.7777777777777778,
             "#fb9f3a"
            ],
            [
             0.8888888888888888,
             "#fdca26"
            ],
            [
             1,
             "#f0f921"
            ]
           ]
          },
          "colorway": [
           "#636efa",
           "#EF553B",
           "#00cc96",
           "#ab63fa",
           "#FFA15A",
           "#19d3f3",
           "#FF6692",
           "#B6E880",
           "#FF97FF",
           "#FECB52"
          ],
          "font": {
           "color": "#2a3f5f"
          },
          "geo": {
           "bgcolor": "white",
           "lakecolor": "white",
           "landcolor": "#E5ECF6",
           "showlakes": true,
           "showland": true,
           "subunitcolor": "white"
          },
          "hoverlabel": {
           "align": "left"
          },
          "hovermode": "closest",
          "mapbox": {
           "style": "light"
          },
          "paper_bgcolor": "white",
          "plot_bgcolor": "#E5ECF6",
          "polar": {
           "angularaxis": {
            "gridcolor": "white",
            "linecolor": "white",
            "ticks": ""
           },
           "bgcolor": "#E5ECF6",
           "radialaxis": {
            "gridcolor": "white",
            "linecolor": "white",
            "ticks": ""
           }
          },
          "scene": {
           "xaxis": {
            "backgroundcolor": "#E5ECF6",
            "gridcolor": "white",
            "gridwidth": 2,
            "linecolor": "white",
            "showbackground": true,
            "ticks": "",
            "zerolinecolor": "white"
           },
           "yaxis": {
            "backgroundcolor": "#E5ECF6",
            "gridcolor": "white",
            "gridwidth": 2,
            "linecolor": "white",
            "showbackground": true,
            "ticks": "",
            "zerolinecolor": "white"
           },
           "zaxis": {
            "backgroundcolor": "#E5ECF6",
            "gridcolor": "white",
            "gridwidth": 2,
            "linecolor": "white",
            "showbackground": true,
            "ticks": "",
            "zerolinecolor": "white"
           }
          },
          "shapedefaults": {
           "line": {
            "color": "#2a3f5f"
           }
          },
          "ternary": {
           "aaxis": {
            "gridcolor": "white",
            "linecolor": "white",
            "ticks": ""
           },
           "baxis": {
            "gridcolor": "white",
            "linecolor": "white",
            "ticks": ""
           },
           "bgcolor": "#E5ECF6",
           "caxis": {
            "gridcolor": "white",
            "linecolor": "white",
            "ticks": ""
           }
          },
          "title": {
           "x": 0.05
          },
          "xaxis": {
           "automargin": true,
           "gridcolor": "white",
           "linecolor": "white",
           "ticks": "",
           "title": {
            "standoff": 15
           },
           "zerolinecolor": "white",
           "zerolinewidth": 2
          },
          "yaxis": {
           "automargin": true,
           "gridcolor": "white",
           "linecolor": "white",
           "ticks": "",
           "title": {
            "standoff": 15
           },
           "zerolinecolor": "white",
           "zerolinewidth": 2
          }
         }
        }
       }
      },
      "text/html": [
       "<div>                            <div id=\"7d52903f-0e29-452f-bc9b-85057a9dfda1\" class=\"plotly-graph-div\" style=\"height:525px; width:100%;\"></div>            <script type=\"text/javascript\">                require([\"plotly\"], function(Plotly) {                    window.PLOTLYENV=window.PLOTLYENV || {};                                    if (document.getElementById(\"7d52903f-0e29-452f-bc9b-85057a9dfda1\")) {                    Plotly.newPlot(                        \"7d52903f-0e29-452f-bc9b-85057a9dfda1\",                        [{\"mode\":\"markers\",\"type\":\"scatter\",\"x\":[\"Boston Celtics\",\"Boston Celtics\",\"Boston Celtics\",\"Boston Celtics\",\"Boston Celtics\",\"Boston Celtics\",\"Boston Celtics\",\"Boston Celtics\",\"Boston Celtics\",\"Boston Celtics\",\"Boston Celtics\",\"Boston Celtics\",\"Boston Celtics\",\"Boston Celtics\",\"Boston Celtics\",\"Brooklyn Nets\",\"Brooklyn Nets\",\"Brooklyn Nets\",\"Brooklyn Nets\",\"Brooklyn Nets\",\"Brooklyn Nets\",\"Brooklyn Nets\",\"Brooklyn Nets\",\"Brooklyn Nets\",\"Brooklyn Nets\",\"Brooklyn Nets\",\"Brooklyn Nets\",\"Brooklyn Nets\",\"Brooklyn Nets\",\"Brooklyn Nets\",\"New York Knicks\",\"New York Knicks\",\"New York Knicks\",\"New York Knicks\",\"New York Knicks\",\"New York Knicks\",\"New York Knicks\",\"New York Knicks\",\"New York Knicks\",\"New York Knicks\",\"New York Knicks\",\"New York Knicks\",\"New York Knicks\",\"New York Knicks\",\"New York Knicks\",\"New York Knicks\",\"Philadelphia 76ers\",\"Philadelphia 76ers\",\"Philadelphia 76ers\",\"Philadelphia 76ers\",\"Philadelphia 76ers\",\"Philadelphia 76ers\",\"Philadelphia 76ers\",\"Philadelphia 76ers\",\"Philadelphia 76ers\",\"Philadelphia 76ers\",\"Philadelphia 76ers\",\"Philadelphia 76ers\",\"Philadelphia 76ers\",\"Philadelphia 76ers\",\"Philadelphia 76ers\",\"Toronto Raptors\",\"Toronto Raptors\",\"Toronto Raptors\",\"Toronto Raptors\",\"Toronto Raptors\",\"Toronto Raptors\",\"Toronto Raptors\",\"Toronto Raptors\",\"Toronto Raptors\",\"Toronto Raptors\",\"Toronto Raptors\",\"Toronto Raptors\",\"Toronto Raptors\",\"Toronto Raptors\",\"Toronto Raptors\",\"Golden State Warriors\",\"Golden State Warriors\",\"Golden State Warriors\",\"Golden State Warriors\",\"Golden State Warriors\",\"Golden State Warriors\",\"Golden State Warriors\",\"Golden State Warriors\",\"Golden State Warriors\",\"Golden State Warriors\",\"Golden State Warriors\",\"Golden State Warriors\",\"Golden State Warriors\",\"Golden State Warriors\",\"Golden State Warriors\",\"Los Angeles Clippers\",\"Los Angeles Clippers\",\"Los Angeles Clippers\",\"Los Angeles Clippers\",\"Los Angeles Clippers\",\"Los Angeles Clippers\",\"Los Angeles Clippers\",\"Los Angeles Clippers\",\"Los Angeles Clippers\",\"Los Angeles Clippers\",\"Los Angeles Clippers\",\"Los Angeles Clippers\",\"Los Angeles Clippers\",\"Los Angeles Clippers\",\"Los Angeles Clippers\",\"Los Angeles Lakers\",\"Los Angeles Lakers\",\"Los Angeles Lakers\",\"Los Angeles Lakers\",\"Los Angeles Lakers\",\"Los Angeles Lakers\",\"Los Angeles Lakers\",\"Los Angeles Lakers\",\"Los Angeles Lakers\",\"Los Angeles Lakers\",\"Los Angeles Lakers\",\"Los Angeles Lakers\",\"Los Angeles Lakers\",\"Los Angeles Lakers\",\"Los Angeles Lakers\",\"Phoenix Suns\",\"Phoenix Suns\",\"Phoenix Suns\",\"Phoenix Suns\",\"Phoenix Suns\",\"Phoenix Suns\",\"Phoenix Suns\",\"Phoenix Suns\",\"Phoenix Suns\",\"Phoenix Suns\",\"Phoenix Suns\",\"Phoenix Suns\",\"Phoenix Suns\",\"Phoenix Suns\",\"Phoenix Suns\",\"Sacramento Kings\",\"Sacramento Kings\",\"Sacramento Kings\",\"Sacramento Kings\",\"Sacramento Kings\",\"Sacramento Kings\",\"Sacramento Kings\",\"Sacramento Kings\",\"Sacramento Kings\",\"Sacramento Kings\",\"Sacramento Kings\",\"Sacramento Kings\",\"Sacramento Kings\",\"Sacramento Kings\",\"Sacramento Kings\",\"Chicago Bulls\",\"Chicago Bulls\",\"Chicago Bulls\",\"Chicago Bulls\",\"Chicago Bulls\",\"Chicago Bulls\",\"Chicago Bulls\",\"Chicago Bulls\",\"Chicago Bulls\",\"Chicago Bulls\",\"Chicago Bulls\",\"Chicago Bulls\",\"Chicago Bulls\",\"Chicago Bulls\",\"Chicago Bulls\",\"Cleveland Cavaliers\",\"Cleveland Cavaliers\",\"Cleveland Cavaliers\",\"Cleveland Cavaliers\",\"Cleveland Cavaliers\",\"Cleveland Cavaliers\",\"Cleveland Cavaliers\",\"Cleveland Cavaliers\",\"Cleveland Cavaliers\",\"Cleveland Cavaliers\",\"Cleveland Cavaliers\",\"Cleveland Cavaliers\",\"Cleveland Cavaliers\",\"Cleveland Cavaliers\",\"Cleveland Cavaliers\",\"Detroit Pistons\",\"Detroit Pistons\",\"Detroit Pistons\",\"Detroit Pistons\",\"Detroit Pistons\",\"Detroit Pistons\",\"Detroit Pistons\",\"Detroit Pistons\",\"Detroit Pistons\",\"Detroit Pistons\",\"Detroit Pistons\",\"Detroit Pistons\",\"Detroit Pistons\",\"Detroit Pistons\",\"Detroit Pistons\",\"Indiana Pacers\",\"Indiana Pacers\",\"Indiana Pacers\",\"Indiana Pacers\",\"Indiana Pacers\",\"Indiana Pacers\",\"Indiana Pacers\",\"Indiana Pacers\",\"Indiana Pacers\",\"Indiana Pacers\",\"Indiana Pacers\",\"Indiana Pacers\",\"Indiana Pacers\",\"Indiana Pacers\",\"Indiana Pacers\",\"Milwaukee Bucks\",\"Milwaukee Bucks\",\"Milwaukee Bucks\",\"Milwaukee Bucks\",\"Milwaukee Bucks\",\"Milwaukee Bucks\",\"Milwaukee Bucks\",\"Milwaukee Bucks\",\"Milwaukee Bucks\",\"Milwaukee Bucks\",\"Milwaukee Bucks\",\"Milwaukee Bucks\",\"Milwaukee Bucks\",\"Milwaukee Bucks\",\"Milwaukee Bucks\",\"Milwaukee Bucks\",\"Dallas Mavericks\",\"Dallas Mavericks\",\"Dallas Mavericks\",\"Dallas Mavericks\",\"Dallas Mavericks\",\"Dallas Mavericks\",\"Dallas Mavericks\",\"Dallas Mavericks\",\"Dallas Mavericks\",\"Dallas Mavericks\",\"Dallas Mavericks\",\"Dallas Mavericks\",\"Dallas Mavericks\",\"Dallas Mavericks\",\"Dallas Mavericks\",\"Houston Rockets\",\"Houston Rockets\",\"Houston Rockets\",\"Houston Rockets\",\"Houston Rockets\",\"Houston Rockets\",\"Houston Rockets\",\"Houston Rockets\",\"Houston Rockets\",\"Houston Rockets\",\"Houston Rockets\",\"Houston Rockets\",\"Houston Rockets\",\"Houston Rockets\",\"Houston Rockets\",\"Memphis Grizzlies\",\"Memphis Grizzlies\",\"Memphis Grizzlies\",\"Memphis Grizzlies\",\"Memphis Grizzlies\",\"Memphis Grizzlies\",\"Memphis Grizzlies\",\"Memphis Grizzlies\",\"Memphis Grizzlies\",\"Memphis Grizzlies\",\"Memphis Grizzlies\",\"Memphis Grizzlies\",\"Memphis Grizzlies\",\"Memphis Grizzlies\",\"Memphis Grizzlies\",\"Memphis Grizzlies\",\"Memphis Grizzlies\",\"Memphis Grizzlies\",\"New Orleans Pelicans\",\"New Orleans Pelicans\",\"New Orleans Pelicans\",\"New Orleans Pelicans\",\"New Orleans Pelicans\",\"New Orleans Pelicans\",\"New Orleans Pelicans\",\"New Orleans Pelicans\",\"New Orleans Pelicans\",\"New Orleans Pelicans\",\"New Orleans Pelicans\",\"New Orleans Pelicans\",\"New Orleans Pelicans\",\"New Orleans Pelicans\",\"New Orleans Pelicans\",\"New Orleans Pelicans\",\"New Orleans Pelicans\",\"New Orleans Pelicans\",\"New Orleans Pelicans\",\"San Antonio Spurs\",\"San Antonio Spurs\",\"San Antonio Spurs\",\"San Antonio Spurs\",\"San Antonio Spurs\",\"San Antonio Spurs\",\"San Antonio Spurs\",\"San Antonio Spurs\",\"San Antonio Spurs\",\"San Antonio Spurs\",\"San Antonio Spurs\",\"San Antonio Spurs\",\"San Antonio Spurs\",\"San Antonio Spurs\",\"San Antonio Spurs\",\"Atlanta Hawks\",\"Atlanta Hawks\",\"Atlanta Hawks\",\"Atlanta Hawks\",\"Atlanta Hawks\",\"Atlanta Hawks\",\"Atlanta Hawks\",\"Atlanta Hawks\",\"Atlanta Hawks\",\"Atlanta Hawks\",\"Atlanta Hawks\",\"Atlanta Hawks\",\"Atlanta Hawks\",\"Atlanta Hawks\",\"Atlanta Hawks\",\"Charlotte Hornets\",\"Charlotte Hornets\",\"Charlotte Hornets\",\"Charlotte Hornets\",\"Charlotte Hornets\",\"Charlotte Hornets\",\"Charlotte Hornets\",\"Charlotte Hornets\",\"Charlotte Hornets\",\"Charlotte Hornets\",\"Charlotte Hornets\",\"Charlotte Hornets\",\"Charlotte Hornets\",\"Charlotte Hornets\",\"Charlotte Hornets\",\"Miami Heat\",\"Miami Heat\",\"Miami Heat\",\"Miami Heat\",\"Miami Heat\",\"Miami Heat\",\"Miami Heat\",\"Miami Heat\",\"Miami Heat\",\"Miami Heat\",\"Miami Heat\",\"Miami Heat\",\"Miami Heat\",\"Miami Heat\",\"Miami Heat\",\"Orlando Magic\",\"Orlando Magic\",\"Orlando Magic\",\"Orlando Magic\",\"Orlando Magic\",\"Orlando Magic\",\"Orlando Magic\",\"Orlando Magic\",\"Orlando Magic\",\"Orlando Magic\",\"Orlando Magic\",\"Orlando Magic\",\"Orlando Magic\",\"Orlando Magic\",\"Washington Wizards\",\"Washington Wizards\",\"Washington Wizards\",\"Washington Wizards\",\"Washington Wizards\",\"Washington Wizards\",\"Washington Wizards\",\"Washington Wizards\",\"Washington Wizards\",\"Washington Wizards\",\"Washington Wizards\",\"Washington Wizards\",\"Washington Wizards\",\"Washington Wizards\",\"Washington Wizards\",\"Denver Nuggets\",\"Denver Nuggets\",\"Denver Nuggets\",\"Denver Nuggets\",\"Denver Nuggets\",\"Denver Nuggets\",\"Denver Nuggets\",\"Denver Nuggets\",\"Denver Nuggets\",\"Denver Nuggets\",\"Denver Nuggets\",\"Denver Nuggets\",\"Denver Nuggets\",\"Denver Nuggets\",\"Denver Nuggets\",\"Minnesota Timberwolves\",\"Minnesota Timberwolves\",\"Minnesota Timberwolves\",\"Minnesota Timberwolves\",\"Minnesota Timberwolves\",\"Minnesota Timberwolves\",\"Minnesota Timberwolves\",\"Minnesota Timberwolves\",\"Minnesota Timberwolves\",\"Minnesota Timberwolves\",\"Minnesota Timberwolves\",\"Minnesota Timberwolves\",\"Minnesota Timberwolves\",\"Minnesota Timberwolves\",\"Oklahoma City Thunder\",\"Oklahoma City Thunder\",\"Oklahoma City Thunder\",\"Oklahoma City Thunder\",\"Oklahoma City Thunder\",\"Oklahoma City Thunder\",\"Oklahoma City Thunder\",\"Oklahoma City Thunder\",\"Oklahoma City Thunder\",\"Oklahoma City Thunder\",\"Oklahoma City Thunder\",\"Oklahoma City Thunder\",\"Oklahoma City Thunder\",\"Oklahoma City Thunder\",\"Oklahoma City Thunder\",\"Portland Trail Blazers\",\"Portland Trail Blazers\",\"Portland Trail Blazers\",\"Portland Trail Blazers\",\"Portland Trail Blazers\",\"Portland Trail Blazers\",\"Portland Trail Blazers\",\"Portland Trail Blazers\",\"Portland Trail Blazers\",\"Portland Trail Blazers\",\"Portland Trail Blazers\",\"Portland Trail Blazers\",\"Portland Trail Blazers\",\"Portland Trail Blazers\",\"Portland Trail Blazers\",\"Utah Jazz\",\"Utah Jazz\",\"Utah Jazz\",\"Utah Jazz\",\"Utah Jazz\",\"Utah Jazz\",\"Utah Jazz\",\"Utah Jazz\",\"Utah Jazz\",\"Utah Jazz\",\"Utah Jazz\",\"Utah Jazz\",\"Utah Jazz\",\"Utah Jazz\",\"Utah Jazz\",null],\"y\":[7730337.0,6796117.0,0.0,1148640.0,5000000.0,12000000.0,1170960.0,2165160.0,1824360.0,3431040.0,2569260.0,6912869.0,3425510.0,1749840.0,2616975.0,3425510.0,845059.0,1500000.0,1335480.0,6300000.0,1599840.0,134215.0,1500000.0,19689000.0,1140240.0,947276.0,981348.0,947276.0,947276.0,11235955.0,8000000.0,1635476.0,30888.0,22875000.0,7402812.0,845059.0,845059.0,1572360.0,12650000.0,3750000.0,4131720.0,2814000.0,1636842.0,947276.0,4000000.0,167406.0,0.0,947276.0,1000000.0,4626960.0,845059.0,1074169.0,6500000.0,2144772.0,525093.0,3457800.0,4582680.0,947276.0,2869440.0,947276.0,525093.0,2814000.0,1524000.0,13600000.0,10050000.0,2500000.0,7000000.0,12000000.0,1842000.0,6268675.0,650000.0,3553917.0,2900000.0,245177.0,4660482.0,1509360.0,2500000.0,3873398.0,13800000.0,947276.0,11370786.0,2008748.0,14260870.0,11710456.0,5543725.0,1131960.0,845059.0,1270964.0,3815000.0,15501000.0,289755.0,1100602.0,111444.0,5675000.0,525093.0,9650000.0,18907726.0,1100602.0,19689000.0,947276.0,21468695.0,3376000.0,947726.0,7085000.0,3110796.0,1159680.0,3000000.0,845059.0,700000.0,25000000.0,845059.0,15592217.0,525093.0,1724250.0,1155600.0,3132240.0,5103120.0,981348.0,7000000.0,947276.0,5219169.0,13500000.0,2127840.0,206192.0,13000000.0,1160160.0,981348.0,13500000.0,3807120.0,1035000.0,55722.0,947276.0,5500000.0,5500000.0,2041080.0,83397.0,981348.0,1015421.0,6060606.0,1449187.0,2836186.0,3398280.0,5013559.0,15851950.0,947276.0,525093.0,12403101.0,7700000.0,3156600.0,845059.0,9500000.0,845059.0,2250000.0,16407500.0,4500000.0,525093.0,7448760.0,8500000.0,947276.0,2380440.0,5543725.0,1015421.0,13400000.0,1391160.0,20093064.0,1535880.0,1147276.0,8193029.0,16407501.0,22970500.0,947276.0,0.0,947276.0,1276000.0,19689000.0,111196.0,4950000.0,8988765.0,5000000.0,14260870.0,2100000.0,2500000.0,6500000.0,2170465.0,111444.0,1252440.0,2891760.0,845059.0,3272091.0,16000000.0,600000.0,13913044.0,2841960.0,6270000.0,5000000.0,3000000.0,4050000.0,1007026.0,10300000.0,17120106.0,8000000.0,4000000.0,1358880.0,211744.0,4000000.0,4394225.0,1100000.0,7000000.0,2357760.0,845059.0,1007026.0,1953960.0,3000000.0,2399040.0,947276.0,1662360.0,2943221.0,855000.0,8000000.0,14700000.0,16407500.0,295327.0,845059.0,5152440.0,2109294.0,6600000.0,1733040.0,1449000.0,4290000.0,1100602.0,3950313.0,4053446.0,2085671.0,16407500.0,1270964.0,525093.0,8333334.0,5200000.0,15361500.0,845059.0,947276.0,5378974.0,8193030.0,306527.0,6486486.0,8229375.0,1242720.0,1646400.0,200600.0,15756438.0,1000000.0,22359364.0,2489530.0,3189794.0,2288205.0,947276.0,947276.0,1404600.0,5158539.0,5000000.0,3542500.0,4088019.0,9588426.0,700902.0,0.0,19688000.0,845059.0,1201440.0,1230840.0,0.0,0.0,9638555.0,9000000.0,0.0,5464000.0,4389607.0,8500000.0,9213483.0,1100602.0,3036927.0,2850000.0,7070730.0,169883.0,1164858.0,845059.0,10734586.0,845059.0,1320000.0,15514031.0,1015421.0,10595507.0,55722.0,947276.0,3382023.0,19689000.0,1142880.0,947276.0,7500000.0,5250000.0,2814000.0,10000000.0,16407500.0,1200000.0,200600.0,250750.0,3578947.0,13437500.0,525093.0,1499187.0,2000000.0,1304520.0,2854940.0,12000000.0,1000000.0,5746479.0,18671659.0,947276.0,525093.0,1763400.0,3333333.0,4000000.0,9756250.0,1000000.0,8000000.0,13125306.0,947276.0,189455.0,947276.0,525093.0,6110034.0,13500000.0,2612520.0,6331404.0,3034356.0,5675000.0,2139000.0,12000000.0,7000000.0,4204200.0,22192730.0,10151612.0,14783000.0,947276.0,2854940.0,261894.0,845059.0,5543725.0,525093.0,947276.0,20000000.0,0.0,981348.0,2481720.0,0.0,947276.0,2288205.0,4171680.0,3741480.0,7900000.0,8344497.0,845059.0,1294440.0,2380593.0,5192520.0,2505720.0,4300000.0,11250000.0,5000000.0,4000000.0,5694674.0,4375000.0,561716.0,3300000.0,11217391.0,273038.0,13000000.0,8000000.0,1920240.0,4662960.0,2170465.0,1100602.0,200600.0,15851950.0,2814000.0,3000000.0,3533333.0,10449438.0,11235955.0,14000000.0,1584480.0,1300000.0,1709719.0,947276.0,3102240.0,4345000.0,1842000.0,258489.0,0.0,3950001.0,1474440.0,8500000.0,1282080.0,2148360.0,2056920.0,1938840.0,12100000.0,947276.0,12700000.0,1149500.0,0.0,5703600.0,5758680.0,2279040.0,3750000.0,20158622.0,3135000.0,1140240.0,12250000.0,16407500.0,1463040.0,222888.0,3344000.0,2021520.0,1210800.0,4500000.0,5138430.0,16744218.0,525093.0,8042895.0,625093.0,947276.0,6980802.0,2894059.0,6000000.0,5016000.0,3075880.0,4236287.0,2525160.0,525093.0,1415520.0,2854940.0,2637720.0,4775000.0,2658240.0,9463484.0,3777720.0,12000000.0,1175880.0,15409570.0,1348440.0,2050000.0,981348.0,2239800.0,2433333.0,900000.0,2900000.0,947276.0,0.0]}],                        {\"template\":{\"data\":{\"bar\":[{\"error_x\":{\"color\":\"#2a3f5f\"},\"error_y\":{\"color\":\"#2a3f5f\"},\"marker\":{\"line\":{\"color\":\"#E5ECF6\",\"width\":0.5},\"pattern\":{\"fillmode\":\"overlay\",\"size\":10,\"solidity\":0.2}},\"type\":\"bar\"}],\"barpolar\":[{\"marker\":{\"line\":{\"color\":\"#E5ECF6\",\"width\":0.5},\"pattern\":{\"fillmode\":\"overlay\",\"size\":10,\"solidity\":0.2}},\"type\":\"barpolar\"}],\"carpet\":[{\"aaxis\":{\"endlinecolor\":\"#2a3f5f\",\"gridcolor\":\"white\",\"linecolor\":\"white\",\"minorgridcolor\":\"white\",\"startlinecolor\":\"#2a3f5f\"},\"baxis\":{\"endlinecolor\":\"#2a3f5f\",\"gridcolor\":\"white\",\"linecolor\":\"white\",\"minorgridcolor\":\"white\",\"startlinecolor\":\"#2a3f5f\"},\"type\":\"carpet\"}],\"choropleth\":[{\"colorbar\":{\"outlinewidth\":0,\"ticks\":\"\"},\"type\":\"choropleth\"}],\"contour\":[{\"colorbar\":{\"outlinewidth\":0,\"ticks\":\"\"},\"colorscale\":[[0.0,\"#0d0887\"],[0.1111111111111111,\"#46039f\"],[0.2222222222222222,\"#7201a8\"],[0.3333333333333333,\"#9c179e\"],[0.4444444444444444,\"#bd3786\"],[0.5555555555555556,\"#d8576b\"],[0.6666666666666666,\"#ed7953\"],[0.7777777777777778,\"#fb9f3a\"],[0.8888888888888888,\"#fdca26\"],[1.0,\"#f0f921\"]],\"type\":\"contour\"}],\"contourcarpet\":[{\"colorbar\":{\"outlinewidth\":0,\"ticks\":\"\"},\"type\":\"contourcarpet\"}],\"heatmap\":[{\"colorbar\":{\"outlinewidth\":0,\"ticks\":\"\"},\"colorscale\":[[0.0,\"#0d0887\"],[0.1111111111111111,\"#46039f\"],[0.2222222222222222,\"#7201a8\"],[0.3333333333333333,\"#9c179e\"],[0.4444444444444444,\"#bd3786\"],[0.5555555555555556,\"#d8576b\"],[0.6666666666666666,\"#ed7953\"],[0.7777777777777778,\"#fb9f3a\"],[0.8888888888888888,\"#fdca26\"],[1.0,\"#f0f921\"]],\"type\":\"heatmap\"}],\"heatmapgl\":[{\"colorbar\":{\"outlinewidth\":0,\"ticks\":\"\"},\"colorscale\":[[0.0,\"#0d0887\"],[0.1111111111111111,\"#46039f\"],[0.2222222222222222,\"#7201a8\"],[0.3333333333333333,\"#9c179e\"],[0.4444444444444444,\"#bd3786\"],[0.5555555555555556,\"#d8576b\"],[0.6666666666666666,\"#ed7953\"],[0.7777777777777778,\"#fb9f3a\"],[0.8888888888888888,\"#fdca26\"],[1.0,\"#f0f921\"]],\"type\":\"heatmapgl\"}],\"histogram\":[{\"marker\":{\"pattern\":{\"fillmode\":\"overlay\",\"size\":10,\"solidity\":0.2}},\"type\":\"histogram\"}],\"histogram2d\":[{\"colorbar\":{\"outlinewidth\":0,\"ticks\":\"\"},\"colorscale\":[[0.0,\"#0d0887\"],[0.1111111111111111,\"#46039f\"],[0.2222222222222222,\"#7201a8\"],[0.3333333333333333,\"#9c179e\"],[0.4444444444444444,\"#bd3786\"],[0.5555555555555556,\"#d8576b\"],[0.6666666666666666,\"#ed7953\"],[0.7777777777777778,\"#fb9f3a\"],[0.8888888888888888,\"#fdca26\"],[1.0,\"#f0f921\"]],\"type\":\"histogram2d\"}],\"histogram2dcontour\":[{\"colorbar\":{\"outlinewidth\":0,\"ticks\":\"\"},\"colorscale\":[[0.0,\"#0d0887\"],[0.1111111111111111,\"#46039f\"],[0.2222222222222222,\"#7201a8\"],[0.3333333333333333,\"#9c179e\"],[0.4444444444444444,\"#bd3786\"],[0.5555555555555556,\"#d8576b\"],[0.6666666666666666,\"#ed7953\"],[0.7777777777777778,\"#fb9f3a\"],[0.8888888888888888,\"#fdca26\"],[1.0,\"#f0f921\"]],\"type\":\"histogram2dcontour\"}],\"mesh3d\":[{\"colorbar\":{\"outlinewidth\":0,\"ticks\":\"\"},\"type\":\"mesh3d\"}],\"parcoords\":[{\"line\":{\"colorbar\":{\"outlinewidth\":0,\"ticks\":\"\"}},\"type\":\"parcoords\"}],\"pie\":[{\"automargin\":true,\"type\":\"pie\"}],\"scatter\":[{\"marker\":{\"colorbar\":{\"outlinewidth\":0,\"ticks\":\"\"}},\"type\":\"scatter\"}],\"scatter3d\":[{\"line\":{\"colorbar\":{\"outlinewidth\":0,\"ticks\":\"\"}},\"marker\":{\"colorbar\":{\"outlinewidth\":0,\"ticks\":\"\"}},\"type\":\"scatter3d\"}],\"scattercarpet\":[{\"marker\":{\"colorbar\":{\"outlinewidth\":0,\"ticks\":\"\"}},\"type\":\"scattercarpet\"}],\"scattergeo\":[{\"marker\":{\"colorbar\":{\"outlinewidth\":0,\"ticks\":\"\"}},\"type\":\"scattergeo\"}],\"scattergl\":[{\"marker\":{\"colorbar\":{\"outlinewidth\":0,\"ticks\":\"\"}},\"type\":\"scattergl\"}],\"scattermapbox\":[{\"marker\":{\"colorbar\":{\"outlinewidth\":0,\"ticks\":\"\"}},\"type\":\"scattermapbox\"}],\"scatterpolar\":[{\"marker\":{\"colorbar\":{\"outlinewidth\":0,\"ticks\":\"\"}},\"type\":\"scatterpolar\"}],\"scatterpolargl\":[{\"marker\":{\"colorbar\":{\"outlinewidth\":0,\"ticks\":\"\"}},\"type\":\"scatterpolargl\"}],\"scatterternary\":[{\"marker\":{\"colorbar\":{\"outlinewidth\":0,\"ticks\":\"\"}},\"type\":\"scatterternary\"}],\"surface\":[{\"colorbar\":{\"outlinewidth\":0,\"ticks\":\"\"},\"colorscale\":[[0.0,\"#0d0887\"],[0.1111111111111111,\"#46039f\"],[0.2222222222222222,\"#7201a8\"],[0.3333333333333333,\"#9c179e\"],[0.4444444444444444,\"#bd3786\"],[0.5555555555555556,\"#d8576b\"],[0.6666666666666666,\"#ed7953\"],[0.7777777777777778,\"#fb9f3a\"],[0.8888888888888888,\"#fdca26\"],[1.0,\"#f0f921\"]],\"type\":\"surface\"}],\"table\":[{\"cells\":{\"fill\":{\"color\":\"#EBF0F8\"},\"line\":{\"color\":\"white\"}},\"header\":{\"fill\":{\"color\":\"#C8D4E3\"},\"line\":{\"color\":\"white\"}},\"type\":\"table\"}]},\"layout\":{\"annotationdefaults\":{\"arrowcolor\":\"#2a3f5f\",\"arrowhead\":0,\"arrowwidth\":1},\"autotypenumbers\":\"strict\",\"coloraxis\":{\"colorbar\":{\"outlinewidth\":0,\"ticks\":\"\"}},\"colorscale\":{\"diverging\":[[0,\"#8e0152\"],[0.1,\"#c51b7d\"],[0.2,\"#de77ae\"],[0.3,\"#f1b6da\"],[0.4,\"#fde0ef\"],[0.5,\"#f7f7f7\"],[0.6,\"#e6f5d0\"],[0.7,\"#b8e186\"],[0.8,\"#7fbc41\"],[0.9,\"#4d9221\"],[1,\"#276419\"]],\"sequential\":[[0.0,\"#0d0887\"],[0.1111111111111111,\"#46039f\"],[0.2222222222222222,\"#7201a8\"],[0.3333333333333333,\"#9c179e\"],[0.4444444444444444,\"#bd3786\"],[0.5555555555555556,\"#d8576b\"],[0.6666666666666666,\"#ed7953\"],[0.7777777777777778,\"#fb9f3a\"],[0.8888888888888888,\"#fdca26\"],[1.0,\"#f0f921\"]],\"sequentialminus\":[[0.0,\"#0d0887\"],[0.1111111111111111,\"#46039f\"],[0.2222222222222222,\"#7201a8\"],[0.3333333333333333,\"#9c179e\"],[0.4444444444444444,\"#bd3786\"],[0.5555555555555556,\"#d8576b\"],[0.6666666666666666,\"#ed7953\"],[0.7777777777777778,\"#fb9f3a\"],[0.8888888888888888,\"#fdca26\"],[1.0,\"#f0f921\"]]},\"colorway\":[\"#636efa\",\"#EF553B\",\"#00cc96\",\"#ab63fa\",\"#FFA15A\",\"#19d3f3\",\"#FF6692\",\"#B6E880\",\"#FF97FF\",\"#FECB52\"],\"font\":{\"color\":\"#2a3f5f\"},\"geo\":{\"bgcolor\":\"white\",\"lakecolor\":\"white\",\"landcolor\":\"#E5ECF6\",\"showlakes\":true,\"showland\":true,\"subunitcolor\":\"white\"},\"hoverlabel\":{\"align\":\"left\"},\"hovermode\":\"closest\",\"mapbox\":{\"style\":\"light\"},\"paper_bgcolor\":\"white\",\"plot_bgcolor\":\"#E5ECF6\",\"polar\":{\"angularaxis\":{\"gridcolor\":\"white\",\"linecolor\":\"white\",\"ticks\":\"\"},\"bgcolor\":\"#E5ECF6\",\"radialaxis\":{\"gridcolor\":\"white\",\"linecolor\":\"white\",\"ticks\":\"\"}},\"scene\":{\"xaxis\":{\"backgroundcolor\":\"#E5ECF6\",\"gridcolor\":\"white\",\"gridwidth\":2,\"linecolor\":\"white\",\"showbackground\":true,\"ticks\":\"\",\"zerolinecolor\":\"white\"},\"yaxis\":{\"backgroundcolor\":\"#E5ECF6\",\"gridcolor\":\"white\",\"gridwidth\":2,\"linecolor\":\"white\",\"showbackground\":true,\"ticks\":\"\",\"zerolinecolor\":\"white\"},\"zaxis\":{\"backgroundcolor\":\"#E5ECF6\",\"gridcolor\":\"white\",\"gridwidth\":2,\"linecolor\":\"white\",\"showbackground\":true,\"ticks\":\"\",\"zerolinecolor\":\"white\"}},\"shapedefaults\":{\"line\":{\"color\":\"#2a3f5f\"}},\"ternary\":{\"aaxis\":{\"gridcolor\":\"white\",\"linecolor\":\"white\",\"ticks\":\"\"},\"baxis\":{\"gridcolor\":\"white\",\"linecolor\":\"white\",\"ticks\":\"\"},\"bgcolor\":\"#E5ECF6\",\"caxis\":{\"gridcolor\":\"white\",\"linecolor\":\"white\",\"ticks\":\"\"}},\"title\":{\"x\":0.05},\"xaxis\":{\"automargin\":true,\"gridcolor\":\"white\",\"linecolor\":\"white\",\"ticks\":\"\",\"title\":{\"standoff\":15},\"zerolinecolor\":\"white\",\"zerolinewidth\":2},\"yaxis\":{\"automargin\":true,\"gridcolor\":\"white\",\"linecolor\":\"white\",\"ticks\":\"\",\"title\":{\"standoff\":15},\"zerolinecolor\":\"white\",\"zerolinewidth\":2}}}},                        {\"responsive\": true}                    ).then(function(){\n",
       "                            \n",
       "var gd = document.getElementById('7d52903f-0e29-452f-bc9b-85057a9dfda1');\n",
       "var x = new MutationObserver(function (mutations, observer) {{\n",
       "        var display = window.getComputedStyle(gd).display;\n",
       "        if (!display || display === 'none') {{\n",
       "            console.log([gd, 'removed!']);\n",
       "            Plotly.purge(gd);\n",
       "            observer.disconnect();\n",
       "        }}\n",
       "}});\n",
       "\n",
       "// Listen for the removal of the full notebook cells\n",
       "var notebookContainer = gd.closest('#notebook-container');\n",
       "if (notebookContainer) {{\n",
       "    x.observe(notebookContainer, {childList: true});\n",
       "}}\n",
       "\n",
       "// Listen for the clearing of the current output cell\n",
       "var outputEl = gd.closest('.output');\n",
       "if (outputEl) {{\n",
       "    x.observe(outputEl, {childList: true});\n",
       "}}\n",
       "\n",
       "                        })                };                });            </script>        </div>"
      ]
     },
     "metadata": {},
     "output_type": "display_data"
    }
   ],
   "source": [
    "trace = go.Scatter(x = df_nba['TIME'],\n",
    "                   y = df_nba['SALARIO'],\n",
    "                   mode = 'markers')\n",
    "data = [trace]\n",
    "py.iplot(data)"
   ]
  },
  {
   "cell_type": "code",
   "execution_count": 33,
   "metadata": {},
   "outputs": [
    {
     "data": {
      "application/vnd.plotly.v1+json": {
       "config": {
        "linkText": "Export to plot.ly",
        "plotlyServerURL": "https://plot.ly",
        "showLink": false
       },
       "data": [
        {
         "mode": "markers",
         "type": "scatter",
         "x": [
          "Avery Bradley",
          "Jae Crowder",
          "John Holland",
          "R.J. Hunter",
          "Jonas Jerebko",
          "Amir Johnson",
          "Jordan Mickey",
          "Kelly Olynyk",
          "Terry Rozier",
          "Marcus Smart",
          "Jared Sullinger",
          "Isaiah Thomas",
          "Evan Turner",
          "James Young",
          "Tyler Zeller",
          "Bojan Bogdanovic",
          "Markel Brown",
          "Wayne Ellington",
          "Rondae Hollis-Jefferson",
          "Jarrett Jack",
          "Sergey Karasev    ",
          "Sean Kilpatrick",
          "Shane Larkin",
          "Brook Lopez",
          "Chris McCullough",
          "Willie Reed",
          "Thomas Robinson",
          "Henry Sims",
          "Donald Sloan",
          "Thaddeus Young",
          "Arron Afflalo",
          "Lou Amundson",
          "Thanasis Antetokounmpo",
          "Carmelo Anthony",
          "Jose Calderon",
          "Cleanthony Early",
          "Langston Galloway",
          "Jerian Grant",
          "Robin Lopez",
          "Kyle O'Quinn",
          "Kristaps Porzingis",
          "Kevin Seraphin",
          "Lance Thomas",
          "Sasha Vujacic",
          "Derrick Williams",
          "Tony Wroten",
          "Elton Brand",
          "Isaiah Canaan",
          "Robert Covington",
          "Joel Embiid",
          "Jerami Grant",
          "Richaun Holmes",
          "Carl Landry",
          "Kendall Marshall",
          "T.J. McConnell",
          "Nerlens Noel",
          "Jahlil Okafor",
          "Ish Smith",
          "Nik Stauskas",
          "Hollis Thompson",
          "Christian Wood",
          "Bismack Biyombo",
          "Bruno Caboclo",
          "DeMarre Carroll",
          "DeMar DeRozan",
          "James Johnson",
          "Cory Joseph",
          "Kyle Lowry",
          "Lucas Nogueira",
          "Patrick Patterson",
          "Norman Powell",
          "Terrence Ross",
          "Luis Scola",
          "Jason Thompson",
          "Jonas Valanciunas",
          "Delon Wright",
          "Leandro Barbosa",
          "Harrison Barnes",
          "Andrew Bogut",
          "Ian Clark",
          "Stephen Curry",
          "Festus Ezeli",
          "Draymond Green",
          "Andre Iguodala",
          "Shaun Livingston",
          "Kevon Looney",
          "James Michael McAdoo",
          "Brandon Rush",
          "Marreese Speights",
          "Klay Thompson",
          "Anderson Varejao",
          "Cole Aldrich",
          "Jeff Ayres",
          "Jamal Crawford",
          "Branden Dawson",
          "Jeff Green",
          "Blake Griffin",
          "Wesley Johnson",
          "DeAndre Jordan",
          "Luc Richard Mbah a Moute",
          "Chris Paul",
          "Paul Pierce",
          "Pablo Prigioni",
          "JJ Redick",
          "Austin Rivers",
          "C.J. Wilcox",
          "Brandon Bass",
          "Tarik Black",
          "Anthony Brown",
          "Kobe Bryant",
          "Jordan Clarkson",
          "Roy Hibbert",
          "Marcelo Huertas",
          "Ryan Kelly",
          "Larry Nance Jr.",
          "Julius Randle",
          "D'Angelo Russell",
          "Robert Sacre",
          "Louis Williams",
          "Metta World Peace",
          "Nick Young",
          "Eric Bledsoe",
          "Devin Booker",
          "Chase Budinger",
          "Tyson Chandler",
          "Archie Goodwin",
          "John Jenkins",
          "Brandon Knight",
          "Alex Len",
          "Jon Leuer",
          "Phil Pressey",
          "Ronnie Price",
          "Mirza Teletovic",
          "P.J. Tucker",
          "T.J. Warren",
          "Alan Williams",
          "Quincy Acy",
          "James Anderson",
          "Marco Belinelli",
          "Caron Butler",
          "Omri Casspi",
          "Willie Cauley-Stein",
          "Darren Collison",
          "DeMarcus Cousins",
          "Seth Curry",
          "Duje Dukan",
          "Rudy Gay",
          "Kosta Koufos",
          "Ben McLemore",
          "Eric Moreland",
          "Rajon Rondo",
          "Cameron Bairstow",
          "Aaron Brooks",
          "Jimmy Butler",
          "Mike Dunleavy",
          "Cristiano Felicio",
          "Pau Gasol",
          "Taj Gibson",
          "Justin Holiday",
          "Doug McDermott",
          "Nikola Mirotic",
          "E'Twaun Moore",
          "Joakim Noah",
          "Bobby Portis",
          "Derrick Rose",
          "Tony Snell",
          "Matthew Dellavedova",
          "Channing Frye",
          "Kyrie Irving",
          "LeBron James",
          "Richard Jefferson",
          "Dahntay Jones",
          "James Jones",
          "Sasha Kaun",
          "Kevin Love",
          "Jordan McRae",
          "Timofey Mozgov",
          "Iman Shumpert",
          "J.R. Smith",
          "Tristan Thompson",
          "Mo Williams",
          "Joel Anthony",
          "Aron Baynes",
          "Steve Blake",
          "Lorenzo Brown",
          "Reggie Bullock",
          "Kentavious Caldwell-Pope",
          "Spencer Dinwiddie",
          "Andre Drummond",
          "Tobias Harris",
          "Darrun Hilliard",
          "Reggie Jackson",
          "Stanley Johnson",
          "Jodie Meeks",
          "Marcus Morris",
          "Anthony Tolliver",
          "Lavoy Allen",
          "Rakeem Christmas",
          "Monta Ellis",
          "Paul George",
          "George Hill",
          "Jordan Hill",
          "Solomon Hill",
          "Ty Lawson",
          "Ian Mahinmi",
          "C.J. Miles",
          "Glenn Robinson III",
          "Rodney Stuckey",
          "Myles Turner",
          "Shayne Whittington",
          "Joe Young",
          "Giannis Antetokounmpo",
          "Jerryd Bayless",
          "Michael Carter-Williams",
          "Jared Cunningham",
          "Tyler Ennis",
          "John Henson",
          "Damien Inglis",
          "O.J. Mayo",
          "Khris Middleton",
          "Greg Monroe",
          "Steve Novak",
          "Johnny O'Bryant III",
          "Jabari Parker",
          "Miles Plumlee",
          "Greivis Vasquez",
          "Rashad Vaughn",
          "Justin Anderson",
          "J.J. Barea",
          "Jeremy Evans",
          "Raymond Felton",
          "Devin Harris",
          "David Lee",
          "Wesley Matthews",
          "JaVale McGee",
          "Salah Mejri",
          "Dirk Nowitzki",
          "Zaza Pachulia",
          "Chandler Parsons",
          "Dwight Powell",
          "Charlie Villanueva",
          "Deron Williams",
          "Trevor Ariza",
          "Michael Beasley",
          "Patrick Beverley",
          "Corey Brewer",
          "Clint Capela",
          "Sam Dekker",
          "Andrew Goudelock",
          "James Harden",
          "Montrezl Harrell",
          "Dwight Howard",
          "Terrence Jones",
          "K.J. McDaniels",
          "Donatas Motiejunas",
          "Josh Smith",
          "Jason Terry",
          "Jordan Adams",
          "Tony Allen",
          "Chris Andersen",
          "Matt Barnes",
          "Vince Carter",
          "Mike Conley",
          "Bryce Cotton",
          "Jordan Farmar",
          "Marc Gasol",
          "JaMychal Green",
          "P.J. Hairston",
          "Jarell Martin",
          "Ray McCallum",
          "Xavier Munford",
          "Zach Randolph",
          "Lance Stephenson",
          "Alex Stepheson",
          "Brandan Wright",
          "Alexis Ajinca",
          "Ryan Anderson",
          "Omer Asik",
          "Luke Babbitt",
          "Norris Cole",
          "Dante Cunningham",
          "Anthony Davis",
          "Bryce Dejean-Jones",
          "Toney Douglas",
          "James Ennis",
          "Tyreke Evans",
          "Tim Frazier",
          "Alonzo Gee",
          "Eric Gordon",
          "Jordan Hamilton",
          "Jrue Holiday",
          "Orlando Johnson",
          "Kendrick Perkins",
          "Quincy Pondexter",
          "LaMarcus Aldridge",
          "Kyle Anderson",
          "Matt Bonner",
          "Boris Diaw",
          "Tim Duncan",
          "Manu Ginobili",
          "Danny Green",
          "Kawhi Leonard",
          "Boban Marjanovic",
          "Kevin Martin",
          "Andre Miller",
          "Patty Mills",
          "Tony Parker",
          "Jonathon Simmons",
          "David West",
          "Kent Bazemore",
          "Tim Hardaway Jr.",
          "Kirk Hinrich",
          "Al Horford",
          "Kris Humphries",
          "Kyle Korver",
          "Paul Millsap",
          "Mike Muscala",
          "Lamar Patterson",
          "Dennis Schroder",
          "Mike Scott",
          "Thabo Sefolosha",
          "Tiago Splitter",
          "Walter Tavares",
          "Jeff Teague",
          "Nicolas Batum",
          "Troy Daniels",
          "Jorge Gutierrez",
          "Tyler Hansbrough",
          "Aaron Harrison",
          "Spencer Hawes",
          "Al Jefferson",
          "Frank Kaminsky III",
          "Michael Kidd-Gilchrist",
          "Jeremy Lamb",
          "Courtney Lee",
          "Jeremy Lin",
          "Kemba Walker",
          "Marvin Williams",
          "Cody Zeller",
          "Chris Bosh",
          "Luol Deng",
          "Goran Dragic",
          "Gerald Green",
          "Udonis Haslem",
          "Joe Johnson",
          "Tyler Johnson",
          "Josh McRoberts",
          "Josh Richardson",
          "Amar'e Stoudemire",
          "Dwyane Wade",
          "Briante Weber",
          "Hassan Whiteside",
          "Justise Winslow",
          "Dorell Wright",
          "Dewayne Dedmon",
          "Evan Fournier",
          "Aaron Gordon",
          "Mario Hezonja",
          "Ersan Ilyasova",
          "Brandon Jennings",
          "Devyn Marble",
          "Shabazz Napier",
          "Andrew Nicholson",
          "Victor Oladipo",
          "Elfrid Payton",
          "Jason Smith",
          "Nikola Vucevic",
          "C.J. Watson",
          "Alan Anderson",
          "Bradley Beal",
          "Jared Dudley",
          "Jarell Eddie",
          "Drew Gooden",
          "Marcin Gortat",
          "JJ Hickson",
          "Nene Hilario",
          "Markieff Morris",
          "Kelly Oubre Jr.",
          "Otto Porter Jr.",
          "Ramon Sessions",
          "Garrett Temple",
          "Marcus Thornton",
          "John Wall",
          "Darrell Arthur",
          "D.J. Augustin",
          "Will Barton",
          "Wilson Chandler",
          "Kenneth Faried",
          "Danilo Gallinari",
          "Gary Harris",
          "Nikola Jokic",
          "Joffrey Lauvergne",
          "Mike Miller",
          "Emmanuel Mudiay",
          "Jameer Nelson",
          "Jusuf Nurkic",
          "JaKarr Sampson",
          "Axel Toupane",
          "Nemanja Bjelica",
          "Gorgui Dieng",
          "Kevin Garnett",
          "Tyus Jones",
          "Zach LaVine",
          "Shabazz Muhammad",
          "Adreian Payne",
          "Nikola Pekovic",
          "Tayshaun Prince",
          "Ricky Rubio",
          "Damjan Rudez",
          "Greg Smith",
          "Karl-Anthony Towns",
          "Andrew Wiggins",
          "Steven Adams",
          "Nick Collison",
          "Kevin Durant",
          "Randy Foye",
          "Josh Huestis",
          "Serge Ibaka",
          "Enes Kanter",
          "Mitch McGary",
          "Nazr Mohammed",
          "Anthony Morrow",
          "Cameron Payne",
          "Andre Roberson",
          "Kyle Singler",
          "Dion Waiters",
          "Russell Westbrook",
          "Cliff Alexander",
          "Al-Farouq Aminu",
          "Pat Connaughton",
          "Allen Crabbe",
          "Ed Davis",
          "Maurice Harkless",
          "Gerald Henderson",
          "Chris Kaman",
          "Meyers Leonard",
          "Damian Lillard",
          "C.J. McCollum",
          "Luis Montero",
          "Mason Plumlee",
          "Brian Roberts",
          "Noah Vonleh",
          "Trevor Booker",
          "Trey Burke",
          "Alec Burks",
          "Dante Exum",
          "Derrick Favors",
          "Rudy Gobert",
          "Gordon Hayward",
          "Rodney Hood",
          "Joe Ingles",
          "Chris Johnson",
          "Trey Lyles",
          "Shelvin Mack",
          "Raul Neto",
          "Tibor Pleiss",
          "Jeff Withey",
          null
         ],
         "y": [
          7730337,
          6796117,
          0,
          1148640,
          5000000,
          12000000,
          1170960,
          2165160,
          1824360,
          3431040,
          2569260,
          6912869,
          3425510,
          1749840,
          2616975,
          3425510,
          845059,
          1500000,
          1335480,
          6300000,
          1599840,
          134215,
          1500000,
          19689000,
          1140240,
          947276,
          981348,
          947276,
          947276,
          11235955,
          8000000,
          1635476,
          30888,
          22875000,
          7402812,
          845059,
          845059,
          1572360,
          12650000,
          3750000,
          4131720,
          2814000,
          1636842,
          947276,
          4000000,
          167406,
          0,
          947276,
          1000000,
          4626960,
          845059,
          1074169,
          6500000,
          2144772,
          525093,
          3457800,
          4582680,
          947276,
          2869440,
          947276,
          525093,
          2814000,
          1524000,
          13600000,
          10050000,
          2500000,
          7000000,
          12000000,
          1842000,
          6268675,
          650000,
          3553917,
          2900000,
          245177,
          4660482,
          1509360,
          2500000,
          3873398,
          13800000,
          947276,
          11370786,
          2008748,
          14260870,
          11710456,
          5543725,
          1131960,
          845059,
          1270964,
          3815000,
          15501000,
          289755,
          1100602,
          111444,
          5675000,
          525093,
          9650000,
          18907726,
          1100602,
          19689000,
          947276,
          21468695,
          3376000,
          947726,
          7085000,
          3110796,
          1159680,
          3000000,
          845059,
          700000,
          25000000,
          845059,
          15592217,
          525093,
          1724250,
          1155600,
          3132240,
          5103120,
          981348,
          7000000,
          947276,
          5219169,
          13500000,
          2127840,
          206192,
          13000000,
          1160160,
          981348,
          13500000,
          3807120,
          1035000,
          55722,
          947276,
          5500000,
          5500000,
          2041080,
          83397,
          981348,
          1015421,
          6060606,
          1449187,
          2836186,
          3398280,
          5013559,
          15851950,
          947276,
          525093,
          12403101,
          7700000,
          3156600,
          845059,
          9500000,
          845059,
          2250000,
          16407500,
          4500000,
          525093,
          7448760,
          8500000,
          947276,
          2380440,
          5543725,
          1015421,
          13400000,
          1391160,
          20093064,
          1535880,
          1147276,
          8193029,
          16407501,
          22970500,
          947276,
          0,
          947276,
          1276000,
          19689000,
          111196,
          4950000,
          8988765,
          5000000,
          14260870,
          2100000,
          2500000,
          6500000,
          2170465,
          111444,
          1252440,
          2891760,
          845059,
          3272091,
          16000000,
          600000,
          13913044,
          2841960,
          6270000,
          5000000,
          3000000,
          4050000,
          1007026,
          10300000,
          17120106,
          8000000,
          4000000,
          1358880,
          211744,
          4000000,
          4394225,
          1100000,
          7000000,
          2357760,
          845059,
          1007026,
          1953960,
          3000000,
          2399040,
          947276,
          1662360,
          2943221,
          855000,
          8000000,
          14700000,
          16407500,
          295327,
          845059,
          5152440,
          2109294,
          6600000,
          1733040,
          1449000,
          4290000,
          1100602,
          3950313,
          4053446,
          2085671,
          16407500,
          1270964,
          525093,
          8333334,
          5200000,
          15361500,
          845059,
          947276,
          5378974,
          8193030,
          306527,
          6486486,
          8229375,
          1242720,
          1646400,
          200600,
          15756438,
          1000000,
          22359364,
          2489530,
          3189794,
          2288205,
          947276,
          947276,
          1404600,
          5158539,
          5000000,
          3542500,
          4088019,
          9588426,
          700902,
          0,
          19688000,
          845059,
          1201440,
          1230840,
          0,
          0,
          9638555,
          9000000,
          0,
          5464000,
          4389607,
          8500000,
          9213483,
          1100602,
          3036927,
          2850000,
          7070730,
          169883,
          1164858,
          845059,
          10734586,
          845059,
          1320000,
          15514031,
          1015421,
          10595507,
          55722,
          947276,
          3382023,
          19689000,
          1142880,
          947276,
          7500000,
          5250000,
          2814000,
          10000000,
          16407500,
          1200000,
          200600,
          250750,
          3578947,
          13437500,
          525093,
          1499187,
          2000000,
          1304520,
          2854940,
          12000000,
          1000000,
          5746479,
          18671659,
          947276,
          525093,
          1763400,
          3333333,
          4000000,
          9756250,
          1000000,
          8000000,
          13125306,
          947276,
          189455,
          947276,
          525093,
          6110034,
          13500000,
          2612520,
          6331404,
          3034356,
          5675000,
          2139000,
          12000000,
          7000000,
          4204200,
          22192730,
          10151612,
          14783000,
          947276,
          2854940,
          261894,
          845059,
          5543725,
          525093,
          947276,
          20000000,
          0,
          981348,
          2481720,
          0,
          947276,
          2288205,
          4171680,
          3741480,
          7900000,
          8344497,
          845059,
          1294440,
          2380593,
          5192520,
          2505720,
          4300000,
          11250000,
          5000000,
          4000000,
          5694674,
          4375000,
          561716,
          3300000,
          11217391,
          273038,
          13000000,
          8000000,
          1920240,
          4662960,
          2170465,
          1100602,
          200600,
          15851950,
          2814000,
          3000000,
          3533333,
          10449438,
          11235955,
          14000000,
          1584480,
          1300000,
          1709719,
          947276,
          3102240,
          4345000,
          1842000,
          258489,
          0,
          3950001,
          1474440,
          8500000,
          1282080,
          2148360,
          2056920,
          1938840,
          12100000,
          947276,
          12700000,
          1149500,
          0,
          5703600,
          5758680,
          2279040,
          3750000,
          20158622,
          3135000,
          1140240,
          12250000,
          16407500,
          1463040,
          222888,
          3344000,
          2021520,
          1210800,
          4500000,
          5138430,
          16744218,
          525093,
          8042895,
          625093,
          947276,
          6980802,
          2894059,
          6000000,
          5016000,
          3075880,
          4236287,
          2525160,
          525093,
          1415520,
          2854940,
          2637720,
          4775000,
          2658240,
          9463484,
          3777720,
          12000000,
          1175880,
          15409570,
          1348440,
          2050000,
          981348,
          2239800,
          2433333,
          900000,
          2900000,
          947276,
          0
         ]
        }
       ],
       "layout": {
        "template": {
         "data": {
          "bar": [
           {
            "error_x": {
             "color": "#2a3f5f"
            },
            "error_y": {
             "color": "#2a3f5f"
            },
            "marker": {
             "line": {
              "color": "#E5ECF6",
              "width": 0.5
             },
             "pattern": {
              "fillmode": "overlay",
              "size": 10,
              "solidity": 0.2
             }
            },
            "type": "bar"
           }
          ],
          "barpolar": [
           {
            "marker": {
             "line": {
              "color": "#E5ECF6",
              "width": 0.5
             },
             "pattern": {
              "fillmode": "overlay",
              "size": 10,
              "solidity": 0.2
             }
            },
            "type": "barpolar"
           }
          ],
          "carpet": [
           {
            "aaxis": {
             "endlinecolor": "#2a3f5f",
             "gridcolor": "white",
             "linecolor": "white",
             "minorgridcolor": "white",
             "startlinecolor": "#2a3f5f"
            },
            "baxis": {
             "endlinecolor": "#2a3f5f",
             "gridcolor": "white",
             "linecolor": "white",
             "minorgridcolor": "white",
             "startlinecolor": "#2a3f5f"
            },
            "type": "carpet"
           }
          ],
          "choropleth": [
           {
            "colorbar": {
             "outlinewidth": 0,
             "ticks": ""
            },
            "type": "choropleth"
           }
          ],
          "contour": [
           {
            "colorbar": {
             "outlinewidth": 0,
             "ticks": ""
            },
            "colorscale": [
             [
              0,
              "#0d0887"
             ],
             [
              0.1111111111111111,
              "#46039f"
             ],
             [
              0.2222222222222222,
              "#7201a8"
             ],
             [
              0.3333333333333333,
              "#9c179e"
             ],
             [
              0.4444444444444444,
              "#bd3786"
             ],
             [
              0.5555555555555556,
              "#d8576b"
             ],
             [
              0.6666666666666666,
              "#ed7953"
             ],
             [
              0.7777777777777778,
              "#fb9f3a"
             ],
             [
              0.8888888888888888,
              "#fdca26"
             ],
             [
              1,
              "#f0f921"
             ]
            ],
            "type": "contour"
           }
          ],
          "contourcarpet": [
           {
            "colorbar": {
             "outlinewidth": 0,
             "ticks": ""
            },
            "type": "contourcarpet"
           }
          ],
          "heatmap": [
           {
            "colorbar": {
             "outlinewidth": 0,
             "ticks": ""
            },
            "colorscale": [
             [
              0,
              "#0d0887"
             ],
             [
              0.1111111111111111,
              "#46039f"
             ],
             [
              0.2222222222222222,
              "#7201a8"
             ],
             [
              0.3333333333333333,
              "#9c179e"
             ],
             [
              0.4444444444444444,
              "#bd3786"
             ],
             [
              0.5555555555555556,
              "#d8576b"
             ],
             [
              0.6666666666666666,
              "#ed7953"
             ],
             [
              0.7777777777777778,
              "#fb9f3a"
             ],
             [
              0.8888888888888888,
              "#fdca26"
             ],
             [
              1,
              "#f0f921"
             ]
            ],
            "type": "heatmap"
           }
          ],
          "heatmapgl": [
           {
            "colorbar": {
             "outlinewidth": 0,
             "ticks": ""
            },
            "colorscale": [
             [
              0,
              "#0d0887"
             ],
             [
              0.1111111111111111,
              "#46039f"
             ],
             [
              0.2222222222222222,
              "#7201a8"
             ],
             [
              0.3333333333333333,
              "#9c179e"
             ],
             [
              0.4444444444444444,
              "#bd3786"
             ],
             [
              0.5555555555555556,
              "#d8576b"
             ],
             [
              0.6666666666666666,
              "#ed7953"
             ],
             [
              0.7777777777777778,
              "#fb9f3a"
             ],
             [
              0.8888888888888888,
              "#fdca26"
             ],
             [
              1,
              "#f0f921"
             ]
            ],
            "type": "heatmapgl"
           }
          ],
          "histogram": [
           {
            "marker": {
             "pattern": {
              "fillmode": "overlay",
              "size": 10,
              "solidity": 0.2
             }
            },
            "type": "histogram"
           }
          ],
          "histogram2d": [
           {
            "colorbar": {
             "outlinewidth": 0,
             "ticks": ""
            },
            "colorscale": [
             [
              0,
              "#0d0887"
             ],
             [
              0.1111111111111111,
              "#46039f"
             ],
             [
              0.2222222222222222,
              "#7201a8"
             ],
             [
              0.3333333333333333,
              "#9c179e"
             ],
             [
              0.4444444444444444,
              "#bd3786"
             ],
             [
              0.5555555555555556,
              "#d8576b"
             ],
             [
              0.6666666666666666,
              "#ed7953"
             ],
             [
              0.7777777777777778,
              "#fb9f3a"
             ],
             [
              0.8888888888888888,
              "#fdca26"
             ],
             [
              1,
              "#f0f921"
             ]
            ],
            "type": "histogram2d"
           }
          ],
          "histogram2dcontour": [
           {
            "colorbar": {
             "outlinewidth": 0,
             "ticks": ""
            },
            "colorscale": [
             [
              0,
              "#0d0887"
             ],
             [
              0.1111111111111111,
              "#46039f"
             ],
             [
              0.2222222222222222,
              "#7201a8"
             ],
             [
              0.3333333333333333,
              "#9c179e"
             ],
             [
              0.4444444444444444,
              "#bd3786"
             ],
             [
              0.5555555555555556,
              "#d8576b"
             ],
             [
              0.6666666666666666,
              "#ed7953"
             ],
             [
              0.7777777777777778,
              "#fb9f3a"
             ],
             [
              0.8888888888888888,
              "#fdca26"
             ],
             [
              1,
              "#f0f921"
             ]
            ],
            "type": "histogram2dcontour"
           }
          ],
          "mesh3d": [
           {
            "colorbar": {
             "outlinewidth": 0,
             "ticks": ""
            },
            "type": "mesh3d"
           }
          ],
          "parcoords": [
           {
            "line": {
             "colorbar": {
              "outlinewidth": 0,
              "ticks": ""
             }
            },
            "type": "parcoords"
           }
          ],
          "pie": [
           {
            "automargin": true,
            "type": "pie"
           }
          ],
          "scatter": [
           {
            "marker": {
             "colorbar": {
              "outlinewidth": 0,
              "ticks": ""
             }
            },
            "type": "scatter"
           }
          ],
          "scatter3d": [
           {
            "line": {
             "colorbar": {
              "outlinewidth": 0,
              "ticks": ""
             }
            },
            "marker": {
             "colorbar": {
              "outlinewidth": 0,
              "ticks": ""
             }
            },
            "type": "scatter3d"
           }
          ],
          "scattercarpet": [
           {
            "marker": {
             "colorbar": {
              "outlinewidth": 0,
              "ticks": ""
             }
            },
            "type": "scattercarpet"
           }
          ],
          "scattergeo": [
           {
            "marker": {
             "colorbar": {
              "outlinewidth": 0,
              "ticks": ""
             }
            },
            "type": "scattergeo"
           }
          ],
          "scattergl": [
           {
            "marker": {
             "colorbar": {
              "outlinewidth": 0,
              "ticks": ""
             }
            },
            "type": "scattergl"
           }
          ],
          "scattermapbox": [
           {
            "marker": {
             "colorbar": {
              "outlinewidth": 0,
              "ticks": ""
             }
            },
            "type": "scattermapbox"
           }
          ],
          "scatterpolar": [
           {
            "marker": {
             "colorbar": {
              "outlinewidth": 0,
              "ticks": ""
             }
            },
            "type": "scatterpolar"
           }
          ],
          "scatterpolargl": [
           {
            "marker": {
             "colorbar": {
              "outlinewidth": 0,
              "ticks": ""
             }
            },
            "type": "scatterpolargl"
           }
          ],
          "scatterternary": [
           {
            "marker": {
             "colorbar": {
              "outlinewidth": 0,
              "ticks": ""
             }
            },
            "type": "scatterternary"
           }
          ],
          "surface": [
           {
            "colorbar": {
             "outlinewidth": 0,
             "ticks": ""
            },
            "colorscale": [
             [
              0,
              "#0d0887"
             ],
             [
              0.1111111111111111,
              "#46039f"
             ],
             [
              0.2222222222222222,
              "#7201a8"
             ],
             [
              0.3333333333333333,
              "#9c179e"
             ],
             [
              0.4444444444444444,
              "#bd3786"
             ],
             [
              0.5555555555555556,
              "#d8576b"
             ],
             [
              0.6666666666666666,
              "#ed7953"
             ],
             [
              0.7777777777777778,
              "#fb9f3a"
             ],
             [
              0.8888888888888888,
              "#fdca26"
             ],
             [
              1,
              "#f0f921"
             ]
            ],
            "type": "surface"
           }
          ],
          "table": [
           {
            "cells": {
             "fill": {
              "color": "#EBF0F8"
             },
             "line": {
              "color": "white"
             }
            },
            "header": {
             "fill": {
              "color": "#C8D4E3"
             },
             "line": {
              "color": "white"
             }
            },
            "type": "table"
           }
          ]
         },
         "layout": {
          "annotationdefaults": {
           "arrowcolor": "#2a3f5f",
           "arrowhead": 0,
           "arrowwidth": 1
          },
          "autotypenumbers": "strict",
          "coloraxis": {
           "colorbar": {
            "outlinewidth": 0,
            "ticks": ""
           }
          },
          "colorscale": {
           "diverging": [
            [
             0,
             "#8e0152"
            ],
            [
             0.1,
             "#c51b7d"
            ],
            [
             0.2,
             "#de77ae"
            ],
            [
             0.3,
             "#f1b6da"
            ],
            [
             0.4,
             "#fde0ef"
            ],
            [
             0.5,
             "#f7f7f7"
            ],
            [
             0.6,
             "#e6f5d0"
            ],
            [
             0.7,
             "#b8e186"
            ],
            [
             0.8,
             "#7fbc41"
            ],
            [
             0.9,
             "#4d9221"
            ],
            [
             1,
             "#276419"
            ]
           ],
           "sequential": [
            [
             0,
             "#0d0887"
            ],
            [
             0.1111111111111111,
             "#46039f"
            ],
            [
             0.2222222222222222,
             "#7201a8"
            ],
            [
             0.3333333333333333,
             "#9c179e"
            ],
            [
             0.4444444444444444,
             "#bd3786"
            ],
            [
             0.5555555555555556,
             "#d8576b"
            ],
            [
             0.6666666666666666,
             "#ed7953"
            ],
            [
             0.7777777777777778,
             "#fb9f3a"
            ],
            [
             0.8888888888888888,
             "#fdca26"
            ],
            [
             1,
             "#f0f921"
            ]
           ],
           "sequentialminus": [
            [
             0,
             "#0d0887"
            ],
            [
             0.1111111111111111,
             "#46039f"
            ],
            [
             0.2222222222222222,
             "#7201a8"
            ],
            [
             0.3333333333333333,
             "#9c179e"
            ],
            [
             0.4444444444444444,
             "#bd3786"
            ],
            [
             0.5555555555555556,
             "#d8576b"
            ],
            [
             0.6666666666666666,
             "#ed7953"
            ],
            [
             0.7777777777777778,
             "#fb9f3a"
            ],
            [
             0.8888888888888888,
             "#fdca26"
            ],
            [
             1,
             "#f0f921"
            ]
           ]
          },
          "colorway": [
           "#636efa",
           "#EF553B",
           "#00cc96",
           "#ab63fa",
           "#FFA15A",
           "#19d3f3",
           "#FF6692",
           "#B6E880",
           "#FF97FF",
           "#FECB52"
          ],
          "font": {
           "color": "#2a3f5f"
          },
          "geo": {
           "bgcolor": "white",
           "lakecolor": "white",
           "landcolor": "#E5ECF6",
           "showlakes": true,
           "showland": true,
           "subunitcolor": "white"
          },
          "hoverlabel": {
           "align": "left"
          },
          "hovermode": "closest",
          "mapbox": {
           "style": "light"
          },
          "paper_bgcolor": "white",
          "plot_bgcolor": "#E5ECF6",
          "polar": {
           "angularaxis": {
            "gridcolor": "white",
            "linecolor": "white",
            "ticks": ""
           },
           "bgcolor": "#E5ECF6",
           "radialaxis": {
            "gridcolor": "white",
            "linecolor": "white",
            "ticks": ""
           }
          },
          "scene": {
           "xaxis": {
            "backgroundcolor": "#E5ECF6",
            "gridcolor": "white",
            "gridwidth": 2,
            "linecolor": "white",
            "showbackground": true,
            "ticks": "",
            "zerolinecolor": "white"
           },
           "yaxis": {
            "backgroundcolor": "#E5ECF6",
            "gridcolor": "white",
            "gridwidth": 2,
            "linecolor": "white",
            "showbackground": true,
            "ticks": "",
            "zerolinecolor": "white"
           },
           "zaxis": {
            "backgroundcolor": "#E5ECF6",
            "gridcolor": "white",
            "gridwidth": 2,
            "linecolor": "white",
            "showbackground": true,
            "ticks": "",
            "zerolinecolor": "white"
           }
          },
          "shapedefaults": {
           "line": {
            "color": "#2a3f5f"
           }
          },
          "ternary": {
           "aaxis": {
            "gridcolor": "white",
            "linecolor": "white",
            "ticks": ""
           },
           "baxis": {
            "gridcolor": "white",
            "linecolor": "white",
            "ticks": ""
           },
           "bgcolor": "#E5ECF6",
           "caxis": {
            "gridcolor": "white",
            "linecolor": "white",
            "ticks": ""
           }
          },
          "title": {
           "x": 0.05
          },
          "xaxis": {
           "automargin": true,
           "gridcolor": "white",
           "linecolor": "white",
           "ticks": "",
           "title": {
            "standoff": 15
           },
           "zerolinecolor": "white",
           "zerolinewidth": 2
          },
          "yaxis": {
           "automargin": true,
           "gridcolor": "white",
           "linecolor": "white",
           "ticks": "",
           "title": {
            "standoff": 15
           },
           "zerolinecolor": "white",
           "zerolinewidth": 2
          }
         }
        },
        "title": {
         "text": "Salários dos Jogadores"
        },
        "xaxis": {
         "title": {
          "text": "Nome do Jogador"
         }
        },
        "yaxis": {
         "title": {
          "text": "Salário do Jogador"
         }
        }
       }
      },
      "text/html": [
       "<div>                            <div id=\"9e6c012a-86c7-4040-a9bf-958b861d8434\" class=\"plotly-graph-div\" style=\"height:525px; width:100%;\"></div>            <script type=\"text/javascript\">                require([\"plotly\"], function(Plotly) {                    window.PLOTLYENV=window.PLOTLYENV || {};                                    if (document.getElementById(\"9e6c012a-86c7-4040-a9bf-958b861d8434\")) {                    Plotly.newPlot(                        \"9e6c012a-86c7-4040-a9bf-958b861d8434\",                        [{\"mode\":\"markers\",\"type\":\"scatter\",\"x\":[\"Avery Bradley\",\"Jae Crowder\",\"John Holland\",\"R.J. Hunter\",\"Jonas Jerebko\",\"Amir Johnson\",\"Jordan Mickey\",\"Kelly Olynyk\",\"Terry Rozier\",\"Marcus Smart\",\"Jared Sullinger\",\"Isaiah Thomas\",\"Evan Turner\",\"James Young\",\"Tyler Zeller\",\"Bojan Bogdanovic\",\"Markel Brown\",\"Wayne Ellington\",\"Rondae Hollis-Jefferson\",\"Jarrett Jack\",\"Sergey Karasev    \",\"Sean Kilpatrick\",\"Shane Larkin\",\"Brook Lopez\",\"Chris McCullough\",\"Willie Reed\",\"Thomas Robinson\",\"Henry Sims\",\"Donald Sloan\",\"Thaddeus Young\",\"Arron Afflalo\",\"Lou Amundson\",\"Thanasis Antetokounmpo\",\"Carmelo Anthony\",\"Jose Calderon\",\"Cleanthony Early\",\"Langston Galloway\",\"Jerian Grant\",\"Robin Lopez\",\"Kyle O'Quinn\",\"Kristaps Porzingis\",\"Kevin Seraphin\",\"Lance Thomas\",\"Sasha Vujacic\",\"Derrick Williams\",\"Tony Wroten\",\"Elton Brand\",\"Isaiah Canaan\",\"Robert Covington\",\"Joel Embiid\",\"Jerami Grant\",\"Richaun Holmes\",\"Carl Landry\",\"Kendall Marshall\",\"T.J. McConnell\",\"Nerlens Noel\",\"Jahlil Okafor\",\"Ish Smith\",\"Nik Stauskas\",\"Hollis Thompson\",\"Christian Wood\",\"Bismack Biyombo\",\"Bruno Caboclo\",\"DeMarre Carroll\",\"DeMar DeRozan\",\"James Johnson\",\"Cory Joseph\",\"Kyle Lowry\",\"Lucas Nogueira\",\"Patrick Patterson\",\"Norman Powell\",\"Terrence Ross\",\"Luis Scola\",\"Jason Thompson\",\"Jonas Valanciunas\",\"Delon Wright\",\"Leandro Barbosa\",\"Harrison Barnes\",\"Andrew Bogut\",\"Ian Clark\",\"Stephen Curry\",\"Festus Ezeli\",\"Draymond Green\",\"Andre Iguodala\",\"Shaun Livingston\",\"Kevon Looney\",\"James Michael McAdoo\",\"Brandon Rush\",\"Marreese Speights\",\"Klay Thompson\",\"Anderson Varejao\",\"Cole Aldrich\",\"Jeff Ayres\",\"Jamal Crawford\",\"Branden Dawson\",\"Jeff Green\",\"Blake Griffin\",\"Wesley Johnson\",\"DeAndre Jordan\",\"Luc Richard Mbah a Moute\",\"Chris Paul\",\"Paul Pierce\",\"Pablo Prigioni\",\"JJ Redick\",\"Austin Rivers\",\"C.J. Wilcox\",\"Brandon Bass\",\"Tarik Black\",\"Anthony Brown\",\"Kobe Bryant\",\"Jordan Clarkson\",\"Roy Hibbert\",\"Marcelo Huertas\",\"Ryan Kelly\",\"Larry Nance Jr.\",\"Julius Randle\",\"D'Angelo Russell\",\"Robert Sacre\",\"Louis Williams\",\"Metta World Peace\",\"Nick Young\",\"Eric Bledsoe\",\"Devin Booker\",\"Chase Budinger\",\"Tyson Chandler\",\"Archie Goodwin\",\"John Jenkins\",\"Brandon Knight\",\"Alex Len\",\"Jon Leuer\",\"Phil Pressey\",\"Ronnie Price\",\"Mirza Teletovic\",\"P.J. Tucker\",\"T.J. Warren\",\"Alan Williams\",\"Quincy Acy\",\"James Anderson\",\"Marco Belinelli\",\"Caron Butler\",\"Omri Casspi\",\"Willie Cauley-Stein\",\"Darren Collison\",\"DeMarcus Cousins\",\"Seth Curry\",\"Duje Dukan\",\"Rudy Gay\",\"Kosta Koufos\",\"Ben McLemore\",\"Eric Moreland\",\"Rajon Rondo\",\"Cameron Bairstow\",\"Aaron Brooks\",\"Jimmy Butler\",\"Mike Dunleavy\",\"Cristiano Felicio\",\"Pau Gasol\",\"Taj Gibson\",\"Justin Holiday\",\"Doug McDermott\",\"Nikola Mirotic\",\"E'Twaun Moore\",\"Joakim Noah\",\"Bobby Portis\",\"Derrick Rose\",\"Tony Snell\",\"Matthew Dellavedova\",\"Channing Frye\",\"Kyrie Irving\",\"LeBron James\",\"Richard Jefferson\",\"Dahntay Jones\",\"James Jones\",\"Sasha Kaun\",\"Kevin Love\",\"Jordan McRae\",\"Timofey Mozgov\",\"Iman Shumpert\",\"J.R. Smith\",\"Tristan Thompson\",\"Mo Williams\",\"Joel Anthony\",\"Aron Baynes\",\"Steve Blake\",\"Lorenzo Brown\",\"Reggie Bullock\",\"Kentavious Caldwell-Pope\",\"Spencer Dinwiddie\",\"Andre Drummond\",\"Tobias Harris\",\"Darrun Hilliard\",\"Reggie Jackson\",\"Stanley Johnson\",\"Jodie Meeks\",\"Marcus Morris\",\"Anthony Tolliver\",\"Lavoy Allen\",\"Rakeem Christmas\",\"Monta Ellis\",\"Paul George\",\"George Hill\",\"Jordan Hill\",\"Solomon Hill\",\"Ty Lawson\",\"Ian Mahinmi\",\"C.J. Miles\",\"Glenn Robinson III\",\"Rodney Stuckey\",\"Myles Turner\",\"Shayne Whittington\",\"Joe Young\",\"Giannis Antetokounmpo\",\"Jerryd Bayless\",\"Michael Carter-Williams\",\"Jared Cunningham\",\"Tyler Ennis\",\"John Henson\",\"Damien Inglis\",\"O.J. Mayo\",\"Khris Middleton\",\"Greg Monroe\",\"Steve Novak\",\"Johnny O'Bryant III\",\"Jabari Parker\",\"Miles Plumlee\",\"Greivis Vasquez\",\"Rashad Vaughn\",\"Justin Anderson\",\"J.J. Barea\",\"Jeremy Evans\",\"Raymond Felton\",\"Devin Harris\",\"David Lee\",\"Wesley Matthews\",\"JaVale McGee\",\"Salah Mejri\",\"Dirk Nowitzki\",\"Zaza Pachulia\",\"Chandler Parsons\",\"Dwight Powell\",\"Charlie Villanueva\",\"Deron Williams\",\"Trevor Ariza\",\"Michael Beasley\",\"Patrick Beverley\",\"Corey Brewer\",\"Clint Capela\",\"Sam Dekker\",\"Andrew Goudelock\",\"James Harden\",\"Montrezl Harrell\",\"Dwight Howard\",\"Terrence Jones\",\"K.J. McDaniels\",\"Donatas Motiejunas\",\"Josh Smith\",\"Jason Terry\",\"Jordan Adams\",\"Tony Allen\",\"Chris Andersen\",\"Matt Barnes\",\"Vince Carter\",\"Mike Conley\",\"Bryce Cotton\",\"Jordan Farmar\",\"Marc Gasol\",\"JaMychal Green\",\"P.J. Hairston\",\"Jarell Martin\",\"Ray McCallum\",\"Xavier Munford\",\"Zach Randolph\",\"Lance Stephenson\",\"Alex Stepheson\",\"Brandan Wright\",\"Alexis Ajinca\",\"Ryan Anderson\",\"Omer Asik\",\"Luke Babbitt\",\"Norris Cole\",\"Dante Cunningham\",\"Anthony Davis\",\"Bryce Dejean-Jones\",\"Toney Douglas\",\"James Ennis\",\"Tyreke Evans\",\"Tim Frazier\",\"Alonzo Gee\",\"Eric Gordon\",\"Jordan Hamilton\",\"Jrue Holiday\",\"Orlando Johnson\",\"Kendrick Perkins\",\"Quincy Pondexter\",\"LaMarcus Aldridge\",\"Kyle Anderson\",\"Matt Bonner\",\"Boris Diaw\",\"Tim Duncan\",\"Manu Ginobili\",\"Danny Green\",\"Kawhi Leonard\",\"Boban Marjanovic\",\"Kevin Martin\",\"Andre Miller\",\"Patty Mills\",\"Tony Parker\",\"Jonathon Simmons\",\"David West\",\"Kent Bazemore\",\"Tim Hardaway Jr.\",\"Kirk Hinrich\",\"Al Horford\",\"Kris Humphries\",\"Kyle Korver\",\"Paul Millsap\",\"Mike Muscala\",\"Lamar Patterson\",\"Dennis Schroder\",\"Mike Scott\",\"Thabo Sefolosha\",\"Tiago Splitter\",\"Walter Tavares\",\"Jeff Teague\",\"Nicolas Batum\",\"Troy Daniels\",\"Jorge Gutierrez\",\"Tyler Hansbrough\",\"Aaron Harrison\",\"Spencer Hawes\",\"Al Jefferson\",\"Frank Kaminsky III\",\"Michael Kidd-Gilchrist\",\"Jeremy Lamb\",\"Courtney Lee\",\"Jeremy Lin\",\"Kemba Walker\",\"Marvin Williams\",\"Cody Zeller\",\"Chris Bosh\",\"Luol Deng\",\"Goran Dragic\",\"Gerald Green\",\"Udonis Haslem\",\"Joe Johnson\",\"Tyler Johnson\",\"Josh McRoberts\",\"Josh Richardson\",\"Amar'e Stoudemire\",\"Dwyane Wade\",\"Briante Weber\",\"Hassan Whiteside\",\"Justise Winslow\",\"Dorell Wright\",\"Dewayne Dedmon\",\"Evan Fournier\",\"Aaron Gordon\",\"Mario Hezonja\",\"Ersan Ilyasova\",\"Brandon Jennings\",\"Devyn Marble\",\"Shabazz Napier\",\"Andrew Nicholson\",\"Victor Oladipo\",\"Elfrid Payton\",\"Jason Smith\",\"Nikola Vucevic\",\"C.J. Watson\",\"Alan Anderson\",\"Bradley Beal\",\"Jared Dudley\",\"Jarell Eddie\",\"Drew Gooden\",\"Marcin Gortat\",\"JJ Hickson\",\"Nene Hilario\",\"Markieff Morris\",\"Kelly Oubre Jr.\",\"Otto Porter Jr.\",\"Ramon Sessions\",\"Garrett Temple\",\"Marcus Thornton\",\"John Wall\",\"Darrell Arthur\",\"D.J. Augustin\",\"Will Barton\",\"Wilson Chandler\",\"Kenneth Faried\",\"Danilo Gallinari\",\"Gary Harris\",\"Nikola Jokic\",\"Joffrey Lauvergne\",\"Mike Miller\",\"Emmanuel Mudiay\",\"Jameer Nelson\",\"Jusuf Nurkic\",\"JaKarr Sampson\",\"Axel Toupane\",\"Nemanja Bjelica\",\"Gorgui Dieng\",\"Kevin Garnett\",\"Tyus Jones\",\"Zach LaVine\",\"Shabazz Muhammad\",\"Adreian Payne\",\"Nikola Pekovic\",\"Tayshaun Prince\",\"Ricky Rubio\",\"Damjan Rudez\",\"Greg Smith\",\"Karl-Anthony Towns\",\"Andrew Wiggins\",\"Steven Adams\",\"Nick Collison\",\"Kevin Durant\",\"Randy Foye\",\"Josh Huestis\",\"Serge Ibaka\",\"Enes Kanter\",\"Mitch McGary\",\"Nazr Mohammed\",\"Anthony Morrow\",\"Cameron Payne\",\"Andre Roberson\",\"Kyle Singler\",\"Dion Waiters\",\"Russell Westbrook\",\"Cliff Alexander\",\"Al-Farouq Aminu\",\"Pat Connaughton\",\"Allen Crabbe\",\"Ed Davis\",\"Maurice Harkless\",\"Gerald Henderson\",\"Chris Kaman\",\"Meyers Leonard\",\"Damian Lillard\",\"C.J. McCollum\",\"Luis Montero\",\"Mason Plumlee\",\"Brian Roberts\",\"Noah Vonleh\",\"Trevor Booker\",\"Trey Burke\",\"Alec Burks\",\"Dante Exum\",\"Derrick Favors\",\"Rudy Gobert\",\"Gordon Hayward\",\"Rodney Hood\",\"Joe Ingles\",\"Chris Johnson\",\"Trey Lyles\",\"Shelvin Mack\",\"Raul Neto\",\"Tibor Pleiss\",\"Jeff Withey\",null],\"y\":[7730337.0,6796117.0,0.0,1148640.0,5000000.0,12000000.0,1170960.0,2165160.0,1824360.0,3431040.0,2569260.0,6912869.0,3425510.0,1749840.0,2616975.0,3425510.0,845059.0,1500000.0,1335480.0,6300000.0,1599840.0,134215.0,1500000.0,19689000.0,1140240.0,947276.0,981348.0,947276.0,947276.0,11235955.0,8000000.0,1635476.0,30888.0,22875000.0,7402812.0,845059.0,845059.0,1572360.0,12650000.0,3750000.0,4131720.0,2814000.0,1636842.0,947276.0,4000000.0,167406.0,0.0,947276.0,1000000.0,4626960.0,845059.0,1074169.0,6500000.0,2144772.0,525093.0,3457800.0,4582680.0,947276.0,2869440.0,947276.0,525093.0,2814000.0,1524000.0,13600000.0,10050000.0,2500000.0,7000000.0,12000000.0,1842000.0,6268675.0,650000.0,3553917.0,2900000.0,245177.0,4660482.0,1509360.0,2500000.0,3873398.0,13800000.0,947276.0,11370786.0,2008748.0,14260870.0,11710456.0,5543725.0,1131960.0,845059.0,1270964.0,3815000.0,15501000.0,289755.0,1100602.0,111444.0,5675000.0,525093.0,9650000.0,18907726.0,1100602.0,19689000.0,947276.0,21468695.0,3376000.0,947726.0,7085000.0,3110796.0,1159680.0,3000000.0,845059.0,700000.0,25000000.0,845059.0,15592217.0,525093.0,1724250.0,1155600.0,3132240.0,5103120.0,981348.0,7000000.0,947276.0,5219169.0,13500000.0,2127840.0,206192.0,13000000.0,1160160.0,981348.0,13500000.0,3807120.0,1035000.0,55722.0,947276.0,5500000.0,5500000.0,2041080.0,83397.0,981348.0,1015421.0,6060606.0,1449187.0,2836186.0,3398280.0,5013559.0,15851950.0,947276.0,525093.0,12403101.0,7700000.0,3156600.0,845059.0,9500000.0,845059.0,2250000.0,16407500.0,4500000.0,525093.0,7448760.0,8500000.0,947276.0,2380440.0,5543725.0,1015421.0,13400000.0,1391160.0,20093064.0,1535880.0,1147276.0,8193029.0,16407501.0,22970500.0,947276.0,0.0,947276.0,1276000.0,19689000.0,111196.0,4950000.0,8988765.0,5000000.0,14260870.0,2100000.0,2500000.0,6500000.0,2170465.0,111444.0,1252440.0,2891760.0,845059.0,3272091.0,16000000.0,600000.0,13913044.0,2841960.0,6270000.0,5000000.0,3000000.0,4050000.0,1007026.0,10300000.0,17120106.0,8000000.0,4000000.0,1358880.0,211744.0,4000000.0,4394225.0,1100000.0,7000000.0,2357760.0,845059.0,1007026.0,1953960.0,3000000.0,2399040.0,947276.0,1662360.0,2943221.0,855000.0,8000000.0,14700000.0,16407500.0,295327.0,845059.0,5152440.0,2109294.0,6600000.0,1733040.0,1449000.0,4290000.0,1100602.0,3950313.0,4053446.0,2085671.0,16407500.0,1270964.0,525093.0,8333334.0,5200000.0,15361500.0,845059.0,947276.0,5378974.0,8193030.0,306527.0,6486486.0,8229375.0,1242720.0,1646400.0,200600.0,15756438.0,1000000.0,22359364.0,2489530.0,3189794.0,2288205.0,947276.0,947276.0,1404600.0,5158539.0,5000000.0,3542500.0,4088019.0,9588426.0,700902.0,0.0,19688000.0,845059.0,1201440.0,1230840.0,0.0,0.0,9638555.0,9000000.0,0.0,5464000.0,4389607.0,8500000.0,9213483.0,1100602.0,3036927.0,2850000.0,7070730.0,169883.0,1164858.0,845059.0,10734586.0,845059.0,1320000.0,15514031.0,1015421.0,10595507.0,55722.0,947276.0,3382023.0,19689000.0,1142880.0,947276.0,7500000.0,5250000.0,2814000.0,10000000.0,16407500.0,1200000.0,200600.0,250750.0,3578947.0,13437500.0,525093.0,1499187.0,2000000.0,1304520.0,2854940.0,12000000.0,1000000.0,5746479.0,18671659.0,947276.0,525093.0,1763400.0,3333333.0,4000000.0,9756250.0,1000000.0,8000000.0,13125306.0,947276.0,189455.0,947276.0,525093.0,6110034.0,13500000.0,2612520.0,6331404.0,3034356.0,5675000.0,2139000.0,12000000.0,7000000.0,4204200.0,22192730.0,10151612.0,14783000.0,947276.0,2854940.0,261894.0,845059.0,5543725.0,525093.0,947276.0,20000000.0,0.0,981348.0,2481720.0,0.0,947276.0,2288205.0,4171680.0,3741480.0,7900000.0,8344497.0,845059.0,1294440.0,2380593.0,5192520.0,2505720.0,4300000.0,11250000.0,5000000.0,4000000.0,5694674.0,4375000.0,561716.0,3300000.0,11217391.0,273038.0,13000000.0,8000000.0,1920240.0,4662960.0,2170465.0,1100602.0,200600.0,15851950.0,2814000.0,3000000.0,3533333.0,10449438.0,11235955.0,14000000.0,1584480.0,1300000.0,1709719.0,947276.0,3102240.0,4345000.0,1842000.0,258489.0,0.0,3950001.0,1474440.0,8500000.0,1282080.0,2148360.0,2056920.0,1938840.0,12100000.0,947276.0,12700000.0,1149500.0,0.0,5703600.0,5758680.0,2279040.0,3750000.0,20158622.0,3135000.0,1140240.0,12250000.0,16407500.0,1463040.0,222888.0,3344000.0,2021520.0,1210800.0,4500000.0,5138430.0,16744218.0,525093.0,8042895.0,625093.0,947276.0,6980802.0,2894059.0,6000000.0,5016000.0,3075880.0,4236287.0,2525160.0,525093.0,1415520.0,2854940.0,2637720.0,4775000.0,2658240.0,9463484.0,3777720.0,12000000.0,1175880.0,15409570.0,1348440.0,2050000.0,981348.0,2239800.0,2433333.0,900000.0,2900000.0,947276.0,0.0]}],                        {\"template\":{\"data\":{\"bar\":[{\"error_x\":{\"color\":\"#2a3f5f\"},\"error_y\":{\"color\":\"#2a3f5f\"},\"marker\":{\"line\":{\"color\":\"#E5ECF6\",\"width\":0.5},\"pattern\":{\"fillmode\":\"overlay\",\"size\":10,\"solidity\":0.2}},\"type\":\"bar\"}],\"barpolar\":[{\"marker\":{\"line\":{\"color\":\"#E5ECF6\",\"width\":0.5},\"pattern\":{\"fillmode\":\"overlay\",\"size\":10,\"solidity\":0.2}},\"type\":\"barpolar\"}],\"carpet\":[{\"aaxis\":{\"endlinecolor\":\"#2a3f5f\",\"gridcolor\":\"white\",\"linecolor\":\"white\",\"minorgridcolor\":\"white\",\"startlinecolor\":\"#2a3f5f\"},\"baxis\":{\"endlinecolor\":\"#2a3f5f\",\"gridcolor\":\"white\",\"linecolor\":\"white\",\"minorgridcolor\":\"white\",\"startlinecolor\":\"#2a3f5f\"},\"type\":\"carpet\"}],\"choropleth\":[{\"colorbar\":{\"outlinewidth\":0,\"ticks\":\"\"},\"type\":\"choropleth\"}],\"contour\":[{\"colorbar\":{\"outlinewidth\":0,\"ticks\":\"\"},\"colorscale\":[[0.0,\"#0d0887\"],[0.1111111111111111,\"#46039f\"],[0.2222222222222222,\"#7201a8\"],[0.3333333333333333,\"#9c179e\"],[0.4444444444444444,\"#bd3786\"],[0.5555555555555556,\"#d8576b\"],[0.6666666666666666,\"#ed7953\"],[0.7777777777777778,\"#fb9f3a\"],[0.8888888888888888,\"#fdca26\"],[1.0,\"#f0f921\"]],\"type\":\"contour\"}],\"contourcarpet\":[{\"colorbar\":{\"outlinewidth\":0,\"ticks\":\"\"},\"type\":\"contourcarpet\"}],\"heatmap\":[{\"colorbar\":{\"outlinewidth\":0,\"ticks\":\"\"},\"colorscale\":[[0.0,\"#0d0887\"],[0.1111111111111111,\"#46039f\"],[0.2222222222222222,\"#7201a8\"],[0.3333333333333333,\"#9c179e\"],[0.4444444444444444,\"#bd3786\"],[0.5555555555555556,\"#d8576b\"],[0.6666666666666666,\"#ed7953\"],[0.7777777777777778,\"#fb9f3a\"],[0.8888888888888888,\"#fdca26\"],[1.0,\"#f0f921\"]],\"type\":\"heatmap\"}],\"heatmapgl\":[{\"colorbar\":{\"outlinewidth\":0,\"ticks\":\"\"},\"colorscale\":[[0.0,\"#0d0887\"],[0.1111111111111111,\"#46039f\"],[0.2222222222222222,\"#7201a8\"],[0.3333333333333333,\"#9c179e\"],[0.4444444444444444,\"#bd3786\"],[0.5555555555555556,\"#d8576b\"],[0.6666666666666666,\"#ed7953\"],[0.7777777777777778,\"#fb9f3a\"],[0.8888888888888888,\"#fdca26\"],[1.0,\"#f0f921\"]],\"type\":\"heatmapgl\"}],\"histogram\":[{\"marker\":{\"pattern\":{\"fillmode\":\"overlay\",\"size\":10,\"solidity\":0.2}},\"type\":\"histogram\"}],\"histogram2d\":[{\"colorbar\":{\"outlinewidth\":0,\"ticks\":\"\"},\"colorscale\":[[0.0,\"#0d0887\"],[0.1111111111111111,\"#46039f\"],[0.2222222222222222,\"#7201a8\"],[0.3333333333333333,\"#9c179e\"],[0.4444444444444444,\"#bd3786\"],[0.5555555555555556,\"#d8576b\"],[0.6666666666666666,\"#ed7953\"],[0.7777777777777778,\"#fb9f3a\"],[0.8888888888888888,\"#fdca26\"],[1.0,\"#f0f921\"]],\"type\":\"histogram2d\"}],\"histogram2dcontour\":[{\"colorbar\":{\"outlinewidth\":0,\"ticks\":\"\"},\"colorscale\":[[0.0,\"#0d0887\"],[0.1111111111111111,\"#46039f\"],[0.2222222222222222,\"#7201a8\"],[0.3333333333333333,\"#9c179e\"],[0.4444444444444444,\"#bd3786\"],[0.5555555555555556,\"#d8576b\"],[0.6666666666666666,\"#ed7953\"],[0.7777777777777778,\"#fb9f3a\"],[0.8888888888888888,\"#fdca26\"],[1.0,\"#f0f921\"]],\"type\":\"histogram2dcontour\"}],\"mesh3d\":[{\"colorbar\":{\"outlinewidth\":0,\"ticks\":\"\"},\"type\":\"mesh3d\"}],\"parcoords\":[{\"line\":{\"colorbar\":{\"outlinewidth\":0,\"ticks\":\"\"}},\"type\":\"parcoords\"}],\"pie\":[{\"automargin\":true,\"type\":\"pie\"}],\"scatter\":[{\"marker\":{\"colorbar\":{\"outlinewidth\":0,\"ticks\":\"\"}},\"type\":\"scatter\"}],\"scatter3d\":[{\"line\":{\"colorbar\":{\"outlinewidth\":0,\"ticks\":\"\"}},\"marker\":{\"colorbar\":{\"outlinewidth\":0,\"ticks\":\"\"}},\"type\":\"scatter3d\"}],\"scattercarpet\":[{\"marker\":{\"colorbar\":{\"outlinewidth\":0,\"ticks\":\"\"}},\"type\":\"scattercarpet\"}],\"scattergeo\":[{\"marker\":{\"colorbar\":{\"outlinewidth\":0,\"ticks\":\"\"}},\"type\":\"scattergeo\"}],\"scattergl\":[{\"marker\":{\"colorbar\":{\"outlinewidth\":0,\"ticks\":\"\"}},\"type\":\"scattergl\"}],\"scattermapbox\":[{\"marker\":{\"colorbar\":{\"outlinewidth\":0,\"ticks\":\"\"}},\"type\":\"scattermapbox\"}],\"scatterpolar\":[{\"marker\":{\"colorbar\":{\"outlinewidth\":0,\"ticks\":\"\"}},\"type\":\"scatterpolar\"}],\"scatterpolargl\":[{\"marker\":{\"colorbar\":{\"outlinewidth\":0,\"ticks\":\"\"}},\"type\":\"scatterpolargl\"}],\"scatterternary\":[{\"marker\":{\"colorbar\":{\"outlinewidth\":0,\"ticks\":\"\"}},\"type\":\"scatterternary\"}],\"surface\":[{\"colorbar\":{\"outlinewidth\":0,\"ticks\":\"\"},\"colorscale\":[[0.0,\"#0d0887\"],[0.1111111111111111,\"#46039f\"],[0.2222222222222222,\"#7201a8\"],[0.3333333333333333,\"#9c179e\"],[0.4444444444444444,\"#bd3786\"],[0.5555555555555556,\"#d8576b\"],[0.6666666666666666,\"#ed7953\"],[0.7777777777777778,\"#fb9f3a\"],[0.8888888888888888,\"#fdca26\"],[1.0,\"#f0f921\"]],\"type\":\"surface\"}],\"table\":[{\"cells\":{\"fill\":{\"color\":\"#EBF0F8\"},\"line\":{\"color\":\"white\"}},\"header\":{\"fill\":{\"color\":\"#C8D4E3\"},\"line\":{\"color\":\"white\"}},\"type\":\"table\"}]},\"layout\":{\"annotationdefaults\":{\"arrowcolor\":\"#2a3f5f\",\"arrowhead\":0,\"arrowwidth\":1},\"autotypenumbers\":\"strict\",\"coloraxis\":{\"colorbar\":{\"outlinewidth\":0,\"ticks\":\"\"}},\"colorscale\":{\"diverging\":[[0,\"#8e0152\"],[0.1,\"#c51b7d\"],[0.2,\"#de77ae\"],[0.3,\"#f1b6da\"],[0.4,\"#fde0ef\"],[0.5,\"#f7f7f7\"],[0.6,\"#e6f5d0\"],[0.7,\"#b8e186\"],[0.8,\"#7fbc41\"],[0.9,\"#4d9221\"],[1,\"#276419\"]],\"sequential\":[[0.0,\"#0d0887\"],[0.1111111111111111,\"#46039f\"],[0.2222222222222222,\"#7201a8\"],[0.3333333333333333,\"#9c179e\"],[0.4444444444444444,\"#bd3786\"],[0.5555555555555556,\"#d8576b\"],[0.6666666666666666,\"#ed7953\"],[0.7777777777777778,\"#fb9f3a\"],[0.8888888888888888,\"#fdca26\"],[1.0,\"#f0f921\"]],\"sequentialminus\":[[0.0,\"#0d0887\"],[0.1111111111111111,\"#46039f\"],[0.2222222222222222,\"#7201a8\"],[0.3333333333333333,\"#9c179e\"],[0.4444444444444444,\"#bd3786\"],[0.5555555555555556,\"#d8576b\"],[0.6666666666666666,\"#ed7953\"],[0.7777777777777778,\"#fb9f3a\"],[0.8888888888888888,\"#fdca26\"],[1.0,\"#f0f921\"]]},\"colorway\":[\"#636efa\",\"#EF553B\",\"#00cc96\",\"#ab63fa\",\"#FFA15A\",\"#19d3f3\",\"#FF6692\",\"#B6E880\",\"#FF97FF\",\"#FECB52\"],\"font\":{\"color\":\"#2a3f5f\"},\"geo\":{\"bgcolor\":\"white\",\"lakecolor\":\"white\",\"landcolor\":\"#E5ECF6\",\"showlakes\":true,\"showland\":true,\"subunitcolor\":\"white\"},\"hoverlabel\":{\"align\":\"left\"},\"hovermode\":\"closest\",\"mapbox\":{\"style\":\"light\"},\"paper_bgcolor\":\"white\",\"plot_bgcolor\":\"#E5ECF6\",\"polar\":{\"angularaxis\":{\"gridcolor\":\"white\",\"linecolor\":\"white\",\"ticks\":\"\"},\"bgcolor\":\"#E5ECF6\",\"radialaxis\":{\"gridcolor\":\"white\",\"linecolor\":\"white\",\"ticks\":\"\"}},\"scene\":{\"xaxis\":{\"backgroundcolor\":\"#E5ECF6\",\"gridcolor\":\"white\",\"gridwidth\":2,\"linecolor\":\"white\",\"showbackground\":true,\"ticks\":\"\",\"zerolinecolor\":\"white\"},\"yaxis\":{\"backgroundcolor\":\"#E5ECF6\",\"gridcolor\":\"white\",\"gridwidth\":2,\"linecolor\":\"white\",\"showbackground\":true,\"ticks\":\"\",\"zerolinecolor\":\"white\"},\"zaxis\":{\"backgroundcolor\":\"#E5ECF6\",\"gridcolor\":\"white\",\"gridwidth\":2,\"linecolor\":\"white\",\"showbackground\":true,\"ticks\":\"\",\"zerolinecolor\":\"white\"}},\"shapedefaults\":{\"line\":{\"color\":\"#2a3f5f\"}},\"ternary\":{\"aaxis\":{\"gridcolor\":\"white\",\"linecolor\":\"white\",\"ticks\":\"\"},\"baxis\":{\"gridcolor\":\"white\",\"linecolor\":\"white\",\"ticks\":\"\"},\"bgcolor\":\"#E5ECF6\",\"caxis\":{\"gridcolor\":\"white\",\"linecolor\":\"white\",\"ticks\":\"\"}},\"title\":{\"x\":0.05},\"xaxis\":{\"automargin\":true,\"gridcolor\":\"white\",\"linecolor\":\"white\",\"ticks\":\"\",\"title\":{\"standoff\":15},\"zerolinecolor\":\"white\",\"zerolinewidth\":2},\"yaxis\":{\"automargin\":true,\"gridcolor\":\"white\",\"linecolor\":\"white\",\"ticks\":\"\",\"title\":{\"standoff\":15},\"zerolinecolor\":\"white\",\"zerolinewidth\":2}}},\"title\":{\"text\":\"Sal\\u00e1rios dos Jogadores\"},\"xaxis\":{\"title\":{\"text\":\"Nome do Jogador\"}},\"yaxis\":{\"title\":{\"text\":\"Sal\\u00e1rio do Jogador\"}}},                        {\"responsive\": true}                    ).then(function(){\n",
       "                            \n",
       "var gd = document.getElementById('9e6c012a-86c7-4040-a9bf-958b861d8434');\n",
       "var x = new MutationObserver(function (mutations, observer) {{\n",
       "        var display = window.getComputedStyle(gd).display;\n",
       "        if (!display || display === 'none') {{\n",
       "            console.log([gd, 'removed!']);\n",
       "            Plotly.purge(gd);\n",
       "            observer.disconnect();\n",
       "        }}\n",
       "}});\n",
       "\n",
       "// Listen for the removal of the full notebook cells\n",
       "var notebookContainer = gd.closest('#notebook-container');\n",
       "if (notebookContainer) {{\n",
       "    x.observe(notebookContainer, {childList: true});\n",
       "}}\n",
       "\n",
       "// Listen for the clearing of the current output cell\n",
       "var outputEl = gd.closest('.output');\n",
       "if (outputEl) {{\n",
       "    x.observe(outputEl, {childList: true});\n",
       "}}\n",
       "\n",
       "                        })                };                });            </script>        </div>"
      ]
     },
     "metadata": {},
     "output_type": "display_data"
    }
   ],
   "source": [
    "# Criando gráfico\n",
    "trace = go.Scatter(x = df_nba['NOME'],\n",
    "                   y = df_nba['SALARIO'],\n",
    "                   mode = 'markers')\n",
    "# Armazenando gráfico em uma lista\n",
    "data = [trace]\n",
    "# Criando Layout\n",
    "layout = go.Layout(title='Salários dos Jogadores',\n",
    "                   yaxis={'title':'Salário do Jogador'},\n",
    "                   xaxis={'title': 'Nome do Jogador'})\n",
    "# Criando figura que será exibida\n",
    "fig = go.Figure(data=data, layout=layout)\n",
    "# Exibindo figura/gráfico\n",
    "py.iplot(fig)"
   ]
  },
  {
   "cell_type": "code",
   "execution_count": 34,
   "metadata": {},
   "outputs": [
    {
     "data": {
      "application/vnd.plotly.v1+json": {
       "config": {
        "linkText": "Export to plot.ly",
        "plotlyServerURL": "https://plot.ly",
        "showLink": false
       },
       "data": [
        {
         "type": "bar",
         "x": [
          33,
          25,
          29,
          21,
          34,
          20,
          32,
          38,
          26.5,
          27,
          25,
          20,
          24,
          28,
          26,
          29,
          21,
          27,
          34,
          25,
          25,
          37,
          26,
          30,
          27,
          22,
          24,
          26,
          27,
          28,
          24,
          34,
          27,
          26,
          25,
          23,
          28,
          27,
          23,
          24,
          24,
          30,
          25,
          31,
          22,
          24,
          32.5,
          35,
          24,
          31,
          28,
          30,
          26,
          29,
          24,
          35,
          29.5,
          27,
          25,
          26.666666666666668,
          24,
          20,
          28,
          28,
          28.5,
          27,
          25,
          23,
          30,
          30,
          31,
          30,
          36,
          28,
          30,
          36,
          36,
          22,
          30,
          26,
          24,
          25,
          26,
          29,
          29,
          26,
          25,
          23,
          23,
          22,
          29.5,
          25,
          32,
          30,
          24,
          25,
          27,
          27,
          26,
          30,
          31,
          24,
          23,
          27,
          24,
          20,
          23,
          23,
          35,
          25,
          31,
          28,
          26,
          30,
          32.5,
          24,
          21,
          35,
          22,
          20,
          23,
          26,
          26.666666666666668,
          27,
          20,
          21.5,
          28,
          24,
          21,
          28,
          23,
          31,
          22,
          22.5,
          25.666666666666668,
          27,
          20,
          25,
          21,
          31,
          22,
          23,
          29.5,
          24,
          25,
          31,
          22,
          22,
          22,
          26,
          25,
          26,
          29,
          34,
          32,
          26,
          36,
          29,
          22,
          27,
          25,
          26,
          23,
          35,
          24,
          22,
          36,
          24,
          22,
          23,
          21,
          26,
          23,
          34,
          25,
          33,
          31,
          24,
          25,
          29,
          26,
          21,
          25,
          27.25,
          29,
          24.5,
          29,
          27.666666666666668,
          30,
          32.666666666666664,
          22.666666666666668,
          32,
          26.75,
          29.333333333333332,
          39,
          33,
          31,
          30.75,
          21,
          30.4,
          29.333333333333332,
          27,
          26,
          24.75,
          31.5,
          28.5,
          33.25,
          25.2,
          24.2,
          32.5,
          28,
          26,
          30,
          24.5,
          26,
          26,
          28,
          29.5,
          31,
          25,
          23.5,
          28,
          30,
          25,
          24,
          27,
          28,
          25,
          22,
          27,
          31,
          23,
          23,
          25.5,
          20,
          28,
          27,
          27,
          22,
          24,
          34,
          27,
          26,
          31,
          23,
          25,
          24,
          25,
          24,
          22,
          23,
          27,
          32,
          24,
          29,
          34,
          24,
          26,
          25,
          27,
          24,
          26,
          23,
          36,
          23,
          28,
          24,
          23,
          28,
          24,
          21,
          24,
          28,
          22.5,
          32,
          24,
          22,
          27,
          25,
          23,
          22,
          32,
          25,
          25,
          25,
          28,
          20,
          25,
          27,
          31,
          30,
          24,
          28,
          27,
          24,
          27,
          23,
          27,
          20,
          30,
          29,
          28.666666666666668,
          22,
          25,
          30,
          27,
          28,
          22,
          23,
          33,
          19,
          33,
          20,
          30,
          31,
          28,
          28,
          25.5,
          26,
          31,
          40,
          24,
          32,
          26,
          25,
          23,
          29,
          32,
          30,
          27,
          22,
          24,
          23,
          24,
          27,
          31,
          27,
          25,
          40,
          29,
          27,
          28,
          27,
          25,
          28,
          23,
          25,
          29,
          26,
          25,
          23,
          33,
          30,
          28,
          25,
          25,
          23,
          33,
          22,
          27,
          24,
          23,
          35
         ],
         "y": [
          2100000,
          845059,
          1320000,
          1335480,
          9140305,
          2841960,
          11710456,
          947276,
          5358880,
          3000000,
          4000000,
          4171680,
          525093,
          206192,
          15756438,
          111444,
          1391160,
          6486486,
          261894,
          981348,
          947276,
          5000000,
          13913044,
          4375000,
          0,
          1074169,
          947276,
          17842903,
          189455,
          8500000,
          947276,
          5016000,
          200600,
          134215,
          9000000,
          3189794,
          4775000,
          3036927,
          845059,
          1210800,
          9463484,
          4300000,
          15034356,
          947276,
          3272091,
          1294440,
          13852288,
          5746479,
          2380440,
          3000000,
          11370786,
          2854940,
          981348,
          10449438,
          0,
          4500000,
          16407501,
          10195796,
          1724250,
          18177057,
          7261734,
          1282080,
          1636842,
          4500000,
          4582680,
          7415520,
          947276,
          1348440,
          7000000,
          12000000,
          13400000,
          17447171,
          947276,
          3815000,
          8229375,
          2854940,
          947276,
          5694674,
          1164858,
          17120106,
          845059,
          0,
          947276,
          9650000,
          15592217,
          16407500,
          947276,
          4662960,
          2891760,
          1148640,
          17535955,
          8988765,
          22192730,
          3344000,
          12000000,
          2165160,
          981348,
          2139000,
          525093,
          8000000,
          5378974,
          3075880,
          4204200,
          15514031,
          5192520,
          2637720,
          845059,
          169883,
          2854940,
          981348,
          1276000,
          2814000,
          5000000,
          1270964,
          4476602,
          845059,
          5758680,
          3750000,
          4626960,
          525093,
          3156600,
          947276,
          13220240,
          306527,
          1749840,
          6856497,
          6270000,
          2489530,
          3132240,
          6650876,
          7070730,
          16630388,
          3457800,
          30288000,
          28750230,
          6268675,
          2239800,
          15851950,
          1170960,
          3000000,
          1230840,
          845059,
          1301202,
          2525160,
          845059,
          18671659,
          2505720,
          1824360,
          1000000,
          1474440,
          6796117,
          16407500,
          16407500,
          20000000,
          295327,
          981348,
          2170465,
          6600000,
          3807120,
          20093064,
          3533333,
          10734586,
          1500000,
          947276,
          1304520,
          1100000,
          5675000,
          1463040,
          2869440,
          2658240,
          1584480,
          14260870,
          525093,
          9638555,
          1938840,
          4000000,
          1000000,
          845059,
          55722,
          13600000,
          11235955,
          2021520,
          947276,
          16519650,
          17000000,
          5025350,
          26625306,
          13517578,
          32920500,
          14058427,
          21953959,
          8333480,
          26837565,
          18694225,
          947726,
          32525093,
          19688000,
          16677552,
          2808960,
          38399501,
          14550366,
          15326696,
          12250000,
          22274182,
          18500000,
          8896792,
          24951500,
          13740482,
          10803600,
          24217391,
          1270964,
          1100602,
          2170465,
          2380939,
          3750000,
          2616975,
          1500000,
          7947276,
          3950313,
          1252440,
          4718457,
          211744,
          10753459,
          2943221,
          2144772,
          6980802,
          10000000,
          111444,
          2041080,
          273038,
          4290000,
          1572360,
          625093,
          5994770,
          5103120,
          9588426,
          7700000,
          18907726,
          3431040,
          845059,
          5158539,
          1015421,
          2000000,
          2250000,
          1007026,
          947276,
          845059,
          845059,
          525093,
          2279040,
          700902,
          1015421,
          6500000,
          0,
          245177,
          4345000,
          845059,
          947276,
          1147276,
          3578947,
          16407500,
          2380593,
          258489,
          947276,
          2894059,
          19689000,
          845059,
          700000,
          12650000,
          1140240,
          1140240,
          1007026,
          1100602,
          4061400,
          22875000,
          5138430,
          845059,
          4050000,
          111196,
          16000000,
          525093,
          5000000,
          1000000,
          7730337,
          14260870,
          3000000,
          2357760,
          1015421,
          20158622,
          5500000,
          19689000,
          7000000,
          947276,
          19689000,
          14700000,
          55722,
          83397,
          19689000,
          1131960,
          8193030,
          947276,
          4947100,
          4205280,
          10595507,
          8000000,
          16744218,
          5013559,
          1142880,
          650000,
          2500000,
          1733040,
          1635476,
          525093,
          8500000,
          5219169,
          0,
          8000000,
          12197276,
          10050000,
          13800000,
          250750,
          1509360,
          947276,
          2008748,
          981348,
          600000,
          2850000,
          3135000,
          12000000,
          3333333,
          1449000,
          947276,
          0,
          561716,
          8000000,
          21468695,
          947276,
          8042895,
          5250000,
          2500000,
          6912869,
          6110034,
          947276,
          1159680,
          3382023,
          167406,
          3553917,
          6500000,
          15501000,
          4236287,
          525093,
          200600,
          5675000,
          1100602,
          845059,
          845059,
          2612520,
          4053446,
          1646400,
          1035000,
          525093,
          1155600,
          1499187
         ]
        }
       ],
       "layout": {
        "template": {
         "data": {
          "bar": [
           {
            "error_x": {
             "color": "#2a3f5f"
            },
            "error_y": {
             "color": "#2a3f5f"
            },
            "marker": {
             "line": {
              "color": "#E5ECF6",
              "width": 0.5
             },
             "pattern": {
              "fillmode": "overlay",
              "size": 10,
              "solidity": 0.2
             }
            },
            "type": "bar"
           }
          ],
          "barpolar": [
           {
            "marker": {
             "line": {
              "color": "#E5ECF6",
              "width": 0.5
             },
             "pattern": {
              "fillmode": "overlay",
              "size": 10,
              "solidity": 0.2
             }
            },
            "type": "barpolar"
           }
          ],
          "carpet": [
           {
            "aaxis": {
             "endlinecolor": "#2a3f5f",
             "gridcolor": "white",
             "linecolor": "white",
             "minorgridcolor": "white",
             "startlinecolor": "#2a3f5f"
            },
            "baxis": {
             "endlinecolor": "#2a3f5f",
             "gridcolor": "white",
             "linecolor": "white",
             "minorgridcolor": "white",
             "startlinecolor": "#2a3f5f"
            },
            "type": "carpet"
           }
          ],
          "choropleth": [
           {
            "colorbar": {
             "outlinewidth": 0,
             "ticks": ""
            },
            "type": "choropleth"
           }
          ],
          "contour": [
           {
            "colorbar": {
             "outlinewidth": 0,
             "ticks": ""
            },
            "colorscale": [
             [
              0,
              "#0d0887"
             ],
             [
              0.1111111111111111,
              "#46039f"
             ],
             [
              0.2222222222222222,
              "#7201a8"
             ],
             [
              0.3333333333333333,
              "#9c179e"
             ],
             [
              0.4444444444444444,
              "#bd3786"
             ],
             [
              0.5555555555555556,
              "#d8576b"
             ],
             [
              0.6666666666666666,
              "#ed7953"
             ],
             [
              0.7777777777777778,
              "#fb9f3a"
             ],
             [
              0.8888888888888888,
              "#fdca26"
             ],
             [
              1,
              "#f0f921"
             ]
            ],
            "type": "contour"
           }
          ],
          "contourcarpet": [
           {
            "colorbar": {
             "outlinewidth": 0,
             "ticks": ""
            },
            "type": "contourcarpet"
           }
          ],
          "heatmap": [
           {
            "colorbar": {
             "outlinewidth": 0,
             "ticks": ""
            },
            "colorscale": [
             [
              0,
              "#0d0887"
             ],
             [
              0.1111111111111111,
              "#46039f"
             ],
             [
              0.2222222222222222,
              "#7201a8"
             ],
             [
              0.3333333333333333,
              "#9c179e"
             ],
             [
              0.4444444444444444,
              "#bd3786"
             ],
             [
              0.5555555555555556,
              "#d8576b"
             ],
             [
              0.6666666666666666,
              "#ed7953"
             ],
             [
              0.7777777777777778,
              "#fb9f3a"
             ],
             [
              0.8888888888888888,
              "#fdca26"
             ],
             [
              1,
              "#f0f921"
             ]
            ],
            "type": "heatmap"
           }
          ],
          "heatmapgl": [
           {
            "colorbar": {
             "outlinewidth": 0,
             "ticks": ""
            },
            "colorscale": [
             [
              0,
              "#0d0887"
             ],
             [
              0.1111111111111111,
              "#46039f"
             ],
             [
              0.2222222222222222,
              "#7201a8"
             ],
             [
              0.3333333333333333,
              "#9c179e"
             ],
             [
              0.4444444444444444,
              "#bd3786"
             ],
             [
              0.5555555555555556,
              "#d8576b"
             ],
             [
              0.6666666666666666,
              "#ed7953"
             ],
             [
              0.7777777777777778,
              "#fb9f3a"
             ],
             [
              0.8888888888888888,
              "#fdca26"
             ],
             [
              1,
              "#f0f921"
             ]
            ],
            "type": "heatmapgl"
           }
          ],
          "histogram": [
           {
            "marker": {
             "pattern": {
              "fillmode": "overlay",
              "size": 10,
              "solidity": 0.2
             }
            },
            "type": "histogram"
           }
          ],
          "histogram2d": [
           {
            "colorbar": {
             "outlinewidth": 0,
             "ticks": ""
            },
            "colorscale": [
             [
              0,
              "#0d0887"
             ],
             [
              0.1111111111111111,
              "#46039f"
             ],
             [
              0.2222222222222222,
              "#7201a8"
             ],
             [
              0.3333333333333333,
              "#9c179e"
             ],
             [
              0.4444444444444444,
              "#bd3786"
             ],
             [
              0.5555555555555556,
              "#d8576b"
             ],
             [
              0.6666666666666666,
              "#ed7953"
             ],
             [
              0.7777777777777778,
              "#fb9f3a"
             ],
             [
              0.8888888888888888,
              "#fdca26"
             ],
             [
              1,
              "#f0f921"
             ]
            ],
            "type": "histogram2d"
           }
          ],
          "histogram2dcontour": [
           {
            "colorbar": {
             "outlinewidth": 0,
             "ticks": ""
            },
            "colorscale": [
             [
              0,
              "#0d0887"
             ],
             [
              0.1111111111111111,
              "#46039f"
             ],
             [
              0.2222222222222222,
              "#7201a8"
             ],
             [
              0.3333333333333333,
              "#9c179e"
             ],
             [
              0.4444444444444444,
              "#bd3786"
             ],
             [
              0.5555555555555556,
              "#d8576b"
             ],
             [
              0.6666666666666666,
              "#ed7953"
             ],
             [
              0.7777777777777778,
              "#fb9f3a"
             ],
             [
              0.8888888888888888,
              "#fdca26"
             ],
             [
              1,
              "#f0f921"
             ]
            ],
            "type": "histogram2dcontour"
           }
          ],
          "mesh3d": [
           {
            "colorbar": {
             "outlinewidth": 0,
             "ticks": ""
            },
            "type": "mesh3d"
           }
          ],
          "parcoords": [
           {
            "line": {
             "colorbar": {
              "outlinewidth": 0,
              "ticks": ""
             }
            },
            "type": "parcoords"
           }
          ],
          "pie": [
           {
            "automargin": true,
            "type": "pie"
           }
          ],
          "scatter": [
           {
            "marker": {
             "colorbar": {
              "outlinewidth": 0,
              "ticks": ""
             }
            },
            "type": "scatter"
           }
          ],
          "scatter3d": [
           {
            "line": {
             "colorbar": {
              "outlinewidth": 0,
              "ticks": ""
             }
            },
            "marker": {
             "colorbar": {
              "outlinewidth": 0,
              "ticks": ""
             }
            },
            "type": "scatter3d"
           }
          ],
          "scattercarpet": [
           {
            "marker": {
             "colorbar": {
              "outlinewidth": 0,
              "ticks": ""
             }
            },
            "type": "scattercarpet"
           }
          ],
          "scattergeo": [
           {
            "marker": {
             "colorbar": {
              "outlinewidth": 0,
              "ticks": ""
             }
            },
            "type": "scattergeo"
           }
          ],
          "scattergl": [
           {
            "marker": {
             "colorbar": {
              "outlinewidth": 0,
              "ticks": ""
             }
            },
            "type": "scattergl"
           }
          ],
          "scattermapbox": [
           {
            "marker": {
             "colorbar": {
              "outlinewidth": 0,
              "ticks": ""
             }
            },
            "type": "scattermapbox"
           }
          ],
          "scatterpolar": [
           {
            "marker": {
             "colorbar": {
              "outlinewidth": 0,
              "ticks": ""
             }
            },
            "type": "scatterpolar"
           }
          ],
          "scatterpolargl": [
           {
            "marker": {
             "colorbar": {
              "outlinewidth": 0,
              "ticks": ""
             }
            },
            "type": "scatterpolargl"
           }
          ],
          "scatterternary": [
           {
            "marker": {
             "colorbar": {
              "outlinewidth": 0,
              "ticks": ""
             }
            },
            "type": "scatterternary"
           }
          ],
          "surface": [
           {
            "colorbar": {
             "outlinewidth": 0,
             "ticks": ""
            },
            "colorscale": [
             [
              0,
              "#0d0887"
             ],
             [
              0.1111111111111111,
              "#46039f"
             ],
             [
              0.2222222222222222,
              "#7201a8"
             ],
             [
              0.3333333333333333,
              "#9c179e"
             ],
             [
              0.4444444444444444,
              "#bd3786"
             ],
             [
              0.5555555555555556,
              "#d8576b"
             ],
             [
              0.6666666666666666,
              "#ed7953"
             ],
             [
              0.7777777777777778,
              "#fb9f3a"
             ],
             [
              0.8888888888888888,
              "#fdca26"
             ],
             [
              1,
              "#f0f921"
             ]
            ],
            "type": "surface"
           }
          ],
          "table": [
           {
            "cells": {
             "fill": {
              "color": "#EBF0F8"
             },
             "line": {
              "color": "white"
             }
            },
            "header": {
             "fill": {
              "color": "#C8D4E3"
             },
             "line": {
              "color": "white"
             }
            },
            "type": "table"
           }
          ]
         },
         "layout": {
          "annotationdefaults": {
           "arrowcolor": "#2a3f5f",
           "arrowhead": 0,
           "arrowwidth": 1
          },
          "autotypenumbers": "strict",
          "coloraxis": {
           "colorbar": {
            "outlinewidth": 0,
            "ticks": ""
           }
          },
          "colorscale": {
           "diverging": [
            [
             0,
             "#8e0152"
            ],
            [
             0.1,
             "#c51b7d"
            ],
            [
             0.2,
             "#de77ae"
            ],
            [
             0.3,
             "#f1b6da"
            ],
            [
             0.4,
             "#fde0ef"
            ],
            [
             0.5,
             "#f7f7f7"
            ],
            [
             0.6,
             "#e6f5d0"
            ],
            [
             0.7,
             "#b8e186"
            ],
            [
             0.8,
             "#7fbc41"
            ],
            [
             0.9,
             "#4d9221"
            ],
            [
             1,
             "#276419"
            ]
           ],
           "sequential": [
            [
             0,
             "#0d0887"
            ],
            [
             0.1111111111111111,
             "#46039f"
            ],
            [
             0.2222222222222222,
             "#7201a8"
            ],
            [
             0.3333333333333333,
             "#9c179e"
            ],
            [
             0.4444444444444444,
             "#bd3786"
            ],
            [
             0.5555555555555556,
             "#d8576b"
            ],
            [
             0.6666666666666666,
             "#ed7953"
            ],
            [
             0.7777777777777778,
             "#fb9f3a"
            ],
            [
             0.8888888888888888,
             "#fdca26"
            ],
            [
             1,
             "#f0f921"
            ]
           ],
           "sequentialminus": [
            [
             0,
             "#0d0887"
            ],
            [
             0.1111111111111111,
             "#46039f"
            ],
            [
             0.2222222222222222,
             "#7201a8"
            ],
            [
             0.3333333333333333,
             "#9c179e"
            ],
            [
             0.4444444444444444,
             "#bd3786"
            ],
            [
             0.5555555555555556,
             "#d8576b"
            ],
            [
             0.6666666666666666,
             "#ed7953"
            ],
            [
             0.7777777777777778,
             "#fb9f3a"
            ],
            [
             0.8888888888888888,
             "#fdca26"
            ],
            [
             1,
             "#f0f921"
            ]
           ]
          },
          "colorway": [
           "#636efa",
           "#EF553B",
           "#00cc96",
           "#ab63fa",
           "#FFA15A",
           "#19d3f3",
           "#FF6692",
           "#B6E880",
           "#FF97FF",
           "#FECB52"
          ],
          "font": {
           "color": "#2a3f5f"
          },
          "geo": {
           "bgcolor": "white",
           "lakecolor": "white",
           "landcolor": "#E5ECF6",
           "showlakes": true,
           "showland": true,
           "subunitcolor": "white"
          },
          "hoverlabel": {
           "align": "left"
          },
          "hovermode": "closest",
          "mapbox": {
           "style": "light"
          },
          "paper_bgcolor": "white",
          "plot_bgcolor": "#E5ECF6",
          "polar": {
           "angularaxis": {
            "gridcolor": "white",
            "linecolor": "white",
            "ticks": ""
           },
           "bgcolor": "#E5ECF6",
           "radialaxis": {
            "gridcolor": "white",
            "linecolor": "white",
            "ticks": ""
           }
          },
          "scene": {
           "xaxis": {
            "backgroundcolor": "#E5ECF6",
            "gridcolor": "white",
            "gridwidth": 2,
            "linecolor": "white",
            "showbackground": true,
            "ticks": "",
            "zerolinecolor": "white"
           },
           "yaxis": {
            "backgroundcolor": "#E5ECF6",
            "gridcolor": "white",
            "gridwidth": 2,
            "linecolor": "white",
            "showbackground": true,
            "ticks": "",
            "zerolinecolor": "white"
           },
           "zaxis": {
            "backgroundcolor": "#E5ECF6",
            "gridcolor": "white",
            "gridwidth": 2,
            "linecolor": "white",
            "showbackground": true,
            "ticks": "",
            "zerolinecolor": "white"
           }
          },
          "shapedefaults": {
           "line": {
            "color": "#2a3f5f"
           }
          },
          "ternary": {
           "aaxis": {
            "gridcolor": "white",
            "linecolor": "white",
            "ticks": ""
           },
           "baxis": {
            "gridcolor": "white",
            "linecolor": "white",
            "ticks": ""
           },
           "bgcolor": "#E5ECF6",
           "caxis": {
            "gridcolor": "white",
            "linecolor": "white",
            "ticks": ""
           }
          },
          "title": {
           "x": 0.05
          },
          "xaxis": {
           "automargin": true,
           "gridcolor": "white",
           "linecolor": "white",
           "ticks": "",
           "title": {
            "standoff": 15
           },
           "zerolinecolor": "white",
           "zerolinewidth": 2
          },
          "yaxis": {
           "automargin": true,
           "gridcolor": "white",
           "linecolor": "white",
           "ticks": "",
           "title": {
            "standoff": 15
           },
           "zerolinecolor": "white",
           "zerolinewidth": 2
          }
         }
        }
       }
      },
      "text/html": [
       "<div>                            <div id=\"aa377728-0cda-41cc-af24-85cc544b648e\" class=\"plotly-graph-div\" style=\"height:525px; width:100%;\"></div>            <script type=\"text/javascript\">                require([\"plotly\"], function(Plotly) {                    window.PLOTLYENV=window.PLOTLYENV || {};                                    if (document.getElementById(\"aa377728-0cda-41cc-af24-85cc544b648e\")) {                    Plotly.newPlot(                        \"aa377728-0cda-41cc-af24-85cc544b648e\",                        [{\"type\":\"bar\",\"x\":[33.0,25.0,29.0,21.0,34.0,20.0,32.0,38.0,26.5,27.0,25.0,20.0,24.0,28.0,26.0,29.0,21.0,27.0,34.0,25.0,25.0,37.0,26.0,30.0,27.0,22.0,24.0,26.0,27.0,28.0,24.0,34.0,27.0,26.0,25.0,23.0,28.0,27.0,23.0,24.0,24.0,30.0,25.0,31.0,22.0,24.0,32.5,35.0,24.0,31.0,28.0,30.0,26.0,29.0,24.0,35.0,29.5,27.0,25.0,26.666666666666668,24.0,20.0,28.0,28.0,28.5,27.0,25.0,23.0,30.0,30.0,31.0,30.0,36.0,28.0,30.0,36.0,36.0,22.0,30.0,26.0,24.0,25.0,26.0,29.0,29.0,26.0,25.0,23.0,23.0,22.0,29.5,25.0,32.0,30.0,24.0,25.0,27.0,27.0,26.0,30.0,31.0,24.0,23.0,27.0,24.0,20.0,23.0,23.0,35.0,25.0,31.0,28.0,26.0,30.0,32.5,24.0,21.0,35.0,22.0,20.0,23.0,26.0,26.666666666666668,27.0,20.0,21.5,28.0,24.0,21.0,28.0,23.0,31.0,22.0,22.5,25.666666666666668,27.0,20.0,25.0,21.0,31.0,22.0,23.0,29.5,24.0,25.0,31.0,22.0,22.0,22.0,26.0,25.0,26.0,29.0,34.0,32.0,26.0,36.0,29.0,22.0,27.0,25.0,26.0,23.0,35.0,24.0,22.0,36.0,24.0,22.0,23.0,21.0,26.0,23.0,34.0,25.0,33.0,31.0,24.0,25.0,29.0,26.0,21.0,25.0,27.25,29.0,24.5,29.0,27.666666666666668,30.0,32.666666666666664,22.666666666666668,32.0,26.75,29.333333333333332,39.0,33.0,31.0,30.75,21.0,30.4,29.333333333333332,27.0,26.0,24.75,31.5,28.5,33.25,25.2,24.2,32.5,28.0,26.0,30.0,24.5,26.0,26.0,28.0,29.5,31.0,25.0,23.5,28.0,30.0,25.0,24.0,27.0,28.0,25.0,22.0,27.0,31.0,23.0,23.0,25.5,20.0,28.0,27.0,27.0,22.0,24.0,34.0,27.0,26.0,31.0,23.0,25.0,24.0,25.0,24.0,22.0,23.0,27.0,32.0,24.0,29.0,34.0,24.0,26.0,25.0,27.0,24.0,26.0,23.0,36.0,23.0,28.0,24.0,23.0,28.0,24.0,21.0,24.0,28.0,22.5,32.0,24.0,22.0,27.0,25.0,23.0,22.0,32.0,25.0,25.0,25.0,28.0,20.0,25.0,27.0,31.0,30.0,24.0,28.0,27.0,24.0,27.0,23.0,27.0,20.0,30.0,29.0,28.666666666666668,22.0,25.0,30.0,27.0,28.0,22.0,23.0,33.0,19.0,33.0,20.0,30.0,31.0,28.0,28.0,25.5,26.0,31.0,40.0,24.0,32.0,26.0,25.0,23.0,29.0,32.0,30.0,27.0,22.0,24.0,23.0,24.0,27.0,31.0,27.0,25.0,40.0,29.0,27.0,28.0,27.0,25.0,28.0,23.0,25.0,29.0,26.0,25.0,23.0,33.0,30.0,28.0,25.0,25.0,23.0,33.0,22.0,27.0,24.0,23.0,35.0],\"y\":[2100000.0,845059.0,1320000.0,1335480.0,9140305.0,2841960.0,11710456.0,947276.0,5358880.0,3000000.0,4000000.0,4171680.0,525093.0,206192.0,15756438.0,111444.0,1391160.0,6486486.0,261894.0,981348.0,947276.0,5000000.0,13913044.0,4375000.0,0.0,1074169.0,947276.0,17842903.0,189455.0,8500000.0,947276.0,5016000.0,200600.0,134215.0,9000000.0,3189794.0,4775000.0,3036927.0,845059.0,1210800.0,9463484.0,4300000.0,15034356.0,947276.0,3272091.0,1294440.0,13852288.0,5746479.0,2380440.0,3000000.0,11370786.0,2854940.0,981348.0,10449438.0,0.0,4500000.0,16407501.0,10195796.0,1724250.0,18177057.0,7261734.0,1282080.0,1636842.0,4500000.0,4582680.0,7415520.0,947276.0,1348440.0,7000000.0,12000000.0,13400000.0,17447171.0,947276.0,3815000.0,8229375.0,2854940.0,947276.0,5694674.0,1164858.0,17120106.0,845059.0,0.0,947276.0,9650000.0,15592217.0,16407500.0,947276.0,4662960.0,2891760.0,1148640.0,17535955.0,8988765.0,22192730.0,3344000.0,12000000.0,2165160.0,981348.0,2139000.0,525093.0,8000000.0,5378974.0,3075880.0,4204200.0,15514031.0,5192520.0,2637720.0,845059.0,169883.0,2854940.0,981348.0,1276000.0,2814000.0,5000000.0,1270964.0,4476602.0,845059.0,5758680.0,3750000.0,4626960.0,525093.0,3156600.0,947276.0,13220240.0,306527.0,1749840.0,6856497.0,6270000.0,2489530.0,3132240.0,6650876.0,7070730.0,16630388.0,3457800.0,30288000.0,28750230.0,6268675.0,2239800.0,15851950.0,1170960.0,3000000.0,1230840.0,845059.0,1301202.0,2525160.0,845059.0,18671659.0,2505720.0,1824360.0,1000000.0,1474440.0,6796117.0,16407500.0,16407500.0,20000000.0,295327.0,981348.0,2170465.0,6600000.0,3807120.0,20093064.0,3533333.0,10734586.0,1500000.0,947276.0,1304520.0,1100000.0,5675000.0,1463040.0,2869440.0,2658240.0,1584480.0,14260870.0,525093.0,9638555.0,1938840.0,4000000.0,1000000.0,845059.0,55722.0,13600000.0,11235955.0,2021520.0,947276.0,16519650.0,17000000.0,5025350.0,26625306.0,13517578.0,32920500.0,14058427.0,21953959.0,8333480.0,26837565.0,18694225.0,947726.0,32525093.0,19688000.0,16677552.0,2808960.0,38399501.0,14550366.0,15326696.0,12250000.0,22274182.0,18500000.0,8896792.0,24951500.0,13740482.0,10803600.0,24217391.0,1270964.0,1100602.0,2170465.0,2380939.0,3750000.0,2616975.0,1500000.0,7947276.0,3950313.0,1252440.0,4718457.0,211744.0,10753459.0,2943221.0,2144772.0,6980802.0,10000000.0,111444.0,2041080.0,273038.0,4290000.0,1572360.0,625093.0,5994770.0,5103120.0,9588426.0,7700000.0,18907726.0,3431040.0,845059.0,5158539.0,1015421.0,2000000.0,2250000.0,1007026.0,947276.0,845059.0,845059.0,525093.0,2279040.0,700902.0,1015421.0,6500000.0,0.0,245177.0,4345000.0,845059.0,947276.0,1147276.0,3578947.0,16407500.0,2380593.0,258489.0,947276.0,2894059.0,19689000.0,845059.0,700000.0,12650000.0,1140240.0,1140240.0,1007026.0,1100602.0,4061400.0,22875000.0,5138430.0,845059.0,4050000.0,111196.0,16000000.0,525093.0,5000000.0,1000000.0,7730337.0,14260870.0,3000000.0,2357760.0,1015421.0,20158622.0,5500000.0,19689000.0,7000000.0,947276.0,19689000.0,14700000.0,55722.0,83397.0,19689000.0,1131960.0,8193030.0,947276.0,4947100.0,4205280.0,10595507.0,8000000.0,16744218.0,5013559.0,1142880.0,650000.0,2500000.0,1733040.0,1635476.0,525093.0,8500000.0,5219169.0,0.0,8000000.0,12197276.0,10050000.0,13800000.0,250750.0,1509360.0,947276.0,2008748.0,981348.0,600000.0,2850000.0,3135000.0,12000000.0,3333333.0,1449000.0,947276.0,0.0,561716.0,8000000.0,21468695.0,947276.0,8042895.0,5250000.0,2500000.0,6912869.0,6110034.0,947276.0,1159680.0,3382023.0,167406.0,3553917.0,6500000.0,15501000.0,4236287.0,525093.0,200600.0,5675000.0,1100602.0,845059.0,845059.0,2612520.0,4053446.0,1646400.0,1035000.0,525093.0,1155600.0,1499187.0]}],                        {\"template\":{\"data\":{\"bar\":[{\"error_x\":{\"color\":\"#2a3f5f\"},\"error_y\":{\"color\":\"#2a3f5f\"},\"marker\":{\"line\":{\"color\":\"#E5ECF6\",\"width\":0.5},\"pattern\":{\"fillmode\":\"overlay\",\"size\":10,\"solidity\":0.2}},\"type\":\"bar\"}],\"barpolar\":[{\"marker\":{\"line\":{\"color\":\"#E5ECF6\",\"width\":0.5},\"pattern\":{\"fillmode\":\"overlay\",\"size\":10,\"solidity\":0.2}},\"type\":\"barpolar\"}],\"carpet\":[{\"aaxis\":{\"endlinecolor\":\"#2a3f5f\",\"gridcolor\":\"white\",\"linecolor\":\"white\",\"minorgridcolor\":\"white\",\"startlinecolor\":\"#2a3f5f\"},\"baxis\":{\"endlinecolor\":\"#2a3f5f\",\"gridcolor\":\"white\",\"linecolor\":\"white\",\"minorgridcolor\":\"white\",\"startlinecolor\":\"#2a3f5f\"},\"type\":\"carpet\"}],\"choropleth\":[{\"colorbar\":{\"outlinewidth\":0,\"ticks\":\"\"},\"type\":\"choropleth\"}],\"contour\":[{\"colorbar\":{\"outlinewidth\":0,\"ticks\":\"\"},\"colorscale\":[[0.0,\"#0d0887\"],[0.1111111111111111,\"#46039f\"],[0.2222222222222222,\"#7201a8\"],[0.3333333333333333,\"#9c179e\"],[0.4444444444444444,\"#bd3786\"],[0.5555555555555556,\"#d8576b\"],[0.6666666666666666,\"#ed7953\"],[0.7777777777777778,\"#fb9f3a\"],[0.8888888888888888,\"#fdca26\"],[1.0,\"#f0f921\"]],\"type\":\"contour\"}],\"contourcarpet\":[{\"colorbar\":{\"outlinewidth\":0,\"ticks\":\"\"},\"type\":\"contourcarpet\"}],\"heatmap\":[{\"colorbar\":{\"outlinewidth\":0,\"ticks\":\"\"},\"colorscale\":[[0.0,\"#0d0887\"],[0.1111111111111111,\"#46039f\"],[0.2222222222222222,\"#7201a8\"],[0.3333333333333333,\"#9c179e\"],[0.4444444444444444,\"#bd3786\"],[0.5555555555555556,\"#d8576b\"],[0.6666666666666666,\"#ed7953\"],[0.7777777777777778,\"#fb9f3a\"],[0.8888888888888888,\"#fdca26\"],[1.0,\"#f0f921\"]],\"type\":\"heatmap\"}],\"heatmapgl\":[{\"colorbar\":{\"outlinewidth\":0,\"ticks\":\"\"},\"colorscale\":[[0.0,\"#0d0887\"],[0.1111111111111111,\"#46039f\"],[0.2222222222222222,\"#7201a8\"],[0.3333333333333333,\"#9c179e\"],[0.4444444444444444,\"#bd3786\"],[0.5555555555555556,\"#d8576b\"],[0.6666666666666666,\"#ed7953\"],[0.7777777777777778,\"#fb9f3a\"],[0.8888888888888888,\"#fdca26\"],[1.0,\"#f0f921\"]],\"type\":\"heatmapgl\"}],\"histogram\":[{\"marker\":{\"pattern\":{\"fillmode\":\"overlay\",\"size\":10,\"solidity\":0.2}},\"type\":\"histogram\"}],\"histogram2d\":[{\"colorbar\":{\"outlinewidth\":0,\"ticks\":\"\"},\"colorscale\":[[0.0,\"#0d0887\"],[0.1111111111111111,\"#46039f\"],[0.2222222222222222,\"#7201a8\"],[0.3333333333333333,\"#9c179e\"],[0.4444444444444444,\"#bd3786\"],[0.5555555555555556,\"#d8576b\"],[0.6666666666666666,\"#ed7953\"],[0.7777777777777778,\"#fb9f3a\"],[0.8888888888888888,\"#fdca26\"],[1.0,\"#f0f921\"]],\"type\":\"histogram2d\"}],\"histogram2dcontour\":[{\"colorbar\":{\"outlinewidth\":0,\"ticks\":\"\"},\"colorscale\":[[0.0,\"#0d0887\"],[0.1111111111111111,\"#46039f\"],[0.2222222222222222,\"#7201a8\"],[0.3333333333333333,\"#9c179e\"],[0.4444444444444444,\"#bd3786\"],[0.5555555555555556,\"#d8576b\"],[0.6666666666666666,\"#ed7953\"],[0.7777777777777778,\"#fb9f3a\"],[0.8888888888888888,\"#fdca26\"],[1.0,\"#f0f921\"]],\"type\":\"histogram2dcontour\"}],\"mesh3d\":[{\"colorbar\":{\"outlinewidth\":0,\"ticks\":\"\"},\"type\":\"mesh3d\"}],\"parcoords\":[{\"line\":{\"colorbar\":{\"outlinewidth\":0,\"ticks\":\"\"}},\"type\":\"parcoords\"}],\"pie\":[{\"automargin\":true,\"type\":\"pie\"}],\"scatter\":[{\"marker\":{\"colorbar\":{\"outlinewidth\":0,\"ticks\":\"\"}},\"type\":\"scatter\"}],\"scatter3d\":[{\"line\":{\"colorbar\":{\"outlinewidth\":0,\"ticks\":\"\"}},\"marker\":{\"colorbar\":{\"outlinewidth\":0,\"ticks\":\"\"}},\"type\":\"scatter3d\"}],\"scattercarpet\":[{\"marker\":{\"colorbar\":{\"outlinewidth\":0,\"ticks\":\"\"}},\"type\":\"scattercarpet\"}],\"scattergeo\":[{\"marker\":{\"colorbar\":{\"outlinewidth\":0,\"ticks\":\"\"}},\"type\":\"scattergeo\"}],\"scattergl\":[{\"marker\":{\"colorbar\":{\"outlinewidth\":0,\"ticks\":\"\"}},\"type\":\"scattergl\"}],\"scattermapbox\":[{\"marker\":{\"colorbar\":{\"outlinewidth\":0,\"ticks\":\"\"}},\"type\":\"scattermapbox\"}],\"scatterpolar\":[{\"marker\":{\"colorbar\":{\"outlinewidth\":0,\"ticks\":\"\"}},\"type\":\"scatterpolar\"}],\"scatterpolargl\":[{\"marker\":{\"colorbar\":{\"outlinewidth\":0,\"ticks\":\"\"}},\"type\":\"scatterpolargl\"}],\"scatterternary\":[{\"marker\":{\"colorbar\":{\"outlinewidth\":0,\"ticks\":\"\"}},\"type\":\"scatterternary\"}],\"surface\":[{\"colorbar\":{\"outlinewidth\":0,\"ticks\":\"\"},\"colorscale\":[[0.0,\"#0d0887\"],[0.1111111111111111,\"#46039f\"],[0.2222222222222222,\"#7201a8\"],[0.3333333333333333,\"#9c179e\"],[0.4444444444444444,\"#bd3786\"],[0.5555555555555556,\"#d8576b\"],[0.6666666666666666,\"#ed7953\"],[0.7777777777777778,\"#fb9f3a\"],[0.8888888888888888,\"#fdca26\"],[1.0,\"#f0f921\"]],\"type\":\"surface\"}],\"table\":[{\"cells\":{\"fill\":{\"color\":\"#EBF0F8\"},\"line\":{\"color\":\"white\"}},\"header\":{\"fill\":{\"color\":\"#C8D4E3\"},\"line\":{\"color\":\"white\"}},\"type\":\"table\"}]},\"layout\":{\"annotationdefaults\":{\"arrowcolor\":\"#2a3f5f\",\"arrowhead\":0,\"arrowwidth\":1},\"autotypenumbers\":\"strict\",\"coloraxis\":{\"colorbar\":{\"outlinewidth\":0,\"ticks\":\"\"}},\"colorscale\":{\"diverging\":[[0,\"#8e0152\"],[0.1,\"#c51b7d\"],[0.2,\"#de77ae\"],[0.3,\"#f1b6da\"],[0.4,\"#fde0ef\"],[0.5,\"#f7f7f7\"],[0.6,\"#e6f5d0\"],[0.7,\"#b8e186\"],[0.8,\"#7fbc41\"],[0.9,\"#4d9221\"],[1,\"#276419\"]],\"sequential\":[[0.0,\"#0d0887\"],[0.1111111111111111,\"#46039f\"],[0.2222222222222222,\"#7201a8\"],[0.3333333333333333,\"#9c179e\"],[0.4444444444444444,\"#bd3786\"],[0.5555555555555556,\"#d8576b\"],[0.6666666666666666,\"#ed7953\"],[0.7777777777777778,\"#fb9f3a\"],[0.8888888888888888,\"#fdca26\"],[1.0,\"#f0f921\"]],\"sequentialminus\":[[0.0,\"#0d0887\"],[0.1111111111111111,\"#46039f\"],[0.2222222222222222,\"#7201a8\"],[0.3333333333333333,\"#9c179e\"],[0.4444444444444444,\"#bd3786\"],[0.5555555555555556,\"#d8576b\"],[0.6666666666666666,\"#ed7953\"],[0.7777777777777778,\"#fb9f3a\"],[0.8888888888888888,\"#fdca26\"],[1.0,\"#f0f921\"]]},\"colorway\":[\"#636efa\",\"#EF553B\",\"#00cc96\",\"#ab63fa\",\"#FFA15A\",\"#19d3f3\",\"#FF6692\",\"#B6E880\",\"#FF97FF\",\"#FECB52\"],\"font\":{\"color\":\"#2a3f5f\"},\"geo\":{\"bgcolor\":\"white\",\"lakecolor\":\"white\",\"landcolor\":\"#E5ECF6\",\"showlakes\":true,\"showland\":true,\"subunitcolor\":\"white\"},\"hoverlabel\":{\"align\":\"left\"},\"hovermode\":\"closest\",\"mapbox\":{\"style\":\"light\"},\"paper_bgcolor\":\"white\",\"plot_bgcolor\":\"#E5ECF6\",\"polar\":{\"angularaxis\":{\"gridcolor\":\"white\",\"linecolor\":\"white\",\"ticks\":\"\"},\"bgcolor\":\"#E5ECF6\",\"radialaxis\":{\"gridcolor\":\"white\",\"linecolor\":\"white\",\"ticks\":\"\"}},\"scene\":{\"xaxis\":{\"backgroundcolor\":\"#E5ECF6\",\"gridcolor\":\"white\",\"gridwidth\":2,\"linecolor\":\"white\",\"showbackground\":true,\"ticks\":\"\",\"zerolinecolor\":\"white\"},\"yaxis\":{\"backgroundcolor\":\"#E5ECF6\",\"gridcolor\":\"white\",\"gridwidth\":2,\"linecolor\":\"white\",\"showbackground\":true,\"ticks\":\"\",\"zerolinecolor\":\"white\"},\"zaxis\":{\"backgroundcolor\":\"#E5ECF6\",\"gridcolor\":\"white\",\"gridwidth\":2,\"linecolor\":\"white\",\"showbackground\":true,\"ticks\":\"\",\"zerolinecolor\":\"white\"}},\"shapedefaults\":{\"line\":{\"color\":\"#2a3f5f\"}},\"ternary\":{\"aaxis\":{\"gridcolor\":\"white\",\"linecolor\":\"white\",\"ticks\":\"\"},\"baxis\":{\"gridcolor\":\"white\",\"linecolor\":\"white\",\"ticks\":\"\"},\"bgcolor\":\"#E5ECF6\",\"caxis\":{\"gridcolor\":\"white\",\"linecolor\":\"white\",\"ticks\":\"\"}},\"title\":{\"x\":0.05},\"xaxis\":{\"automargin\":true,\"gridcolor\":\"white\",\"linecolor\":\"white\",\"ticks\":\"\",\"title\":{\"standoff\":15},\"zerolinecolor\":\"white\",\"zerolinewidth\":2},\"yaxis\":{\"automargin\":true,\"gridcolor\":\"white\",\"linecolor\":\"white\",\"ticks\":\"\",\"title\":{\"standoff\":15},\"zerolinecolor\":\"white\",\"zerolinewidth\":2}}}},                        {\"responsive\": true}                    ).then(function(){\n",
       "                            \n",
       "var gd = document.getElementById('aa377728-0cda-41cc-af24-85cc544b648e');\n",
       "var x = new MutationObserver(function (mutations, observer) {{\n",
       "        var display = window.getComputedStyle(gd).display;\n",
       "        if (!display || display === 'none') {{\n",
       "            console.log([gd, 'removed!']);\n",
       "            Plotly.purge(gd);\n",
       "            observer.disconnect();\n",
       "        }}\n",
       "}});\n",
       "\n",
       "// Listen for the removal of the full notebook cells\n",
       "var notebookContainer = gd.closest('#notebook-container');\n",
       "if (notebookContainer) {{\n",
       "    x.observe(notebookContainer, {childList: true});\n",
       "}}\n",
       "\n",
       "// Listen for the clearing of the current output cell\n",
       "var outputEl = gd.closest('.output');\n",
       "if (outputEl) {{\n",
       "    x.observe(outputEl, {childList: true});\n",
       "}}\n",
       "\n",
       "                        })                };                });            </script>        </div>"
      ]
     },
     "metadata": {},
     "output_type": "display_data"
    }
   ],
   "source": [
    "trace1 = go.Bar(x = dimensao_jogadores_colegio['IDADE_MEDIA'],\n",
    "                y = dimensao_jogadores_colegio['SOMA_FOLHA'])\n",
    "\n",
    "data = [trace1]\n",
    "py.iplot(data)"
   ]
  },
  {
   "cell_type": "code",
   "execution_count": null,
   "metadata": {},
   "outputs": [],
   "source": []
  },
  {
   "cell_type": "code",
   "execution_count": null,
   "metadata": {},
   "outputs": [],
   "source": []
  }
 ],
 "metadata": {
  "kernelspec": {
   "display_name": "Python 3",
   "language": "python",
   "name": "python3"
  },
  "language_info": {
   "codemirror_mode": {
    "name": "ipython",
    "version": 3
   },
   "file_extension": ".py",
   "mimetype": "text/x-python",
   "name": "python",
   "nbconvert_exporter": "python",
   "pygments_lexer": "ipython3",
   "version": "3.8.8"
  },
  "name": "Preprocess_Sample",
  "notebookId": 2952395472677778
 },
 "nbformat": 4,
 "nbformat_minor": 1
}
